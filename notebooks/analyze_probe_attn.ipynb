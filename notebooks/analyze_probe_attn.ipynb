{
 "cells": [
  {
   "cell_type": "code",
   "execution_count": 1,
   "metadata": {},
   "outputs": [
    {
     "name": "stderr",
     "output_type": "stream",
     "text": [
      "The cache for model files in Transformers v4.22.0 has been updated. Migrating your old cache. This is a one-time only operation. You can interrupt this and resume the migration later on by calling `transformers.utils.move_cache()`.\n"
     ]
    },
    {
     "data": {
      "application/vnd.jupyter.widget-view+json": {
       "model_id": "1af07861cfe14dc5b5bec2fd4e27ae12",
       "version_major": 2,
       "version_minor": 0
      },
      "text/plain": [
       "0it [00:00, ?it/s]"
      ]
     },
     "metadata": {},
     "output_type": "display_data"
    }
   ],
   "source": [
    "# %%\n",
    "%load_ext autoreload\n",
    "%autoreload 2\n",
    "\n",
    "import torch\n",
    "from cot_probing.attn_probes_case_studies import *\n",
    "from cot_probing.attn_probes_data_proc import CollateFnOutput\n",
    "from cot_probing.utils import load_model_and_tokenizer\n",
    "from cot_probing.activations import build_fsp_cache\n",
    "from ipywidgets import Dropdown, interactive_output, VBox\n",
    "\n"
   ]
  },
  {
   "cell_type": "code",
   "execution_count": 2,
   "metadata": {},
   "outputs": [
    {
     "name": "stdout",
     "output_type": "stream",
     "text": [
      "Fetched 20 runs\n"
     ]
    },
    {
     "ename": "UnpicklingError",
     "evalue": "invalid load key, 'v'.",
     "output_type": "error",
     "traceback": [
      "\u001b[0;31m---------------------------------------------------------------------------\u001b[0m",
      "\u001b[0;31mUnpicklingError\u001b[0m                           Traceback (most recent call last)",
      "Cell \u001b[0;32mIn[2], line 10\u001b[0m\n\u001b[1;32m      7\u001b[0m probe_class \u001b[38;5;241m=\u001b[39m \u001b[38;5;124m\"\u001b[39m\u001b[38;5;124mminimal\u001b[39m\u001b[38;5;124m\"\u001b[39m\n\u001b[1;32m      8\u001b[0m metric \u001b[38;5;241m=\u001b[39m \u001b[38;5;124m\"\u001b[39m\u001b[38;5;124mtest_accuracy\u001b[39m\u001b[38;5;124m\"\u001b[39m\n\u001b[0;32m---> 10\u001b[0m trainer, test_idxs, raw_acts_qs, unbiased_fsp_str \u001b[38;5;241m=\u001b[39m \u001b[43mload_median_probe_test_data\u001b[49m\u001b[43m(\u001b[49m\n\u001b[1;32m     11\u001b[0m \u001b[43m    \u001b[49m\u001b[43mprobe_class\u001b[49m\u001b[43m,\u001b[49m\u001b[43m \u001b[49m\u001b[43mlayer\u001b[49m\u001b[43m,\u001b[49m\u001b[43m \u001b[49m\u001b[43mmin_seed\u001b[49m\u001b[43m,\u001b[49m\u001b[43m \u001b[49m\u001b[43mmax_seed\u001b[49m\u001b[43m,\u001b[49m\u001b[43m \u001b[49m\u001b[43mmetric\u001b[49m\n\u001b[1;32m     12\u001b[0m \u001b[43m)\u001b[49m\n\u001b[1;32m     13\u001b[0m collate_fn_out: CollateFnOutput \u001b[38;5;241m=\u001b[39m \u001b[38;5;28mlist\u001b[39m(trainer\u001b[38;5;241m.\u001b[39mtest_loader)[\u001b[38;5;241m0\u001b[39m]\n\u001b[1;32m     14\u001b[0m \u001b[38;5;28;01mfrom\u001b[39;00m \u001b[38;5;21;01mtransformers\u001b[39;00m \u001b[38;5;28;01mimport\u001b[39;00m AutoTokenizer\n",
      "File \u001b[0;32m<@beartype(cot_probing.attn_probes_case_studies.load_median_probe_test_data) at 0x783a7691a840>:108\u001b[0m, in \u001b[0;36mload_median_probe_test_data\u001b[0;34m(__beartype_get_violation, __beartype_conf, __beartype_object_194676480, __beartype_getrandbits, __beartype_check_meta, __beartype_func, *args, **kwargs)\u001b[0m\n",
      "File \u001b[0;32m~/cot-probing/cot_probing/attn_probes_case_studies.py:68\u001b[0m, in \u001b[0;36mload_median_probe_test_data\u001b[0;34m(probe_class, layer, min_seed, max_seed, metric)\u001b[0m\n\u001b[1;32m     63\u001b[0m raw_acts_path \u001b[38;5;241m=\u001b[39m (\n\u001b[1;32m     64\u001b[0m     DATA_DIR\n\u001b[1;32m     65\u001b[0m     \u001b[38;5;241m/\u001b[39m \u001b[38;5;124mf\u001b[39m\u001b[38;5;124m\"\u001b[39m\u001b[38;5;124m../../activations/acts_L\u001b[39m\u001b[38;5;132;01m{\u001b[39;00mlayer\u001b[38;5;132;01m:\u001b[39;00m\u001b[38;5;124m02d\u001b[39m\u001b[38;5;132;01m}\u001b[39;00m\u001b[38;5;124m_biased-fsp-oct28-1156.pkl\u001b[39m\u001b[38;5;124m\"\u001b[39m\n\u001b[1;32m     66\u001b[0m )\n\u001b[1;32m     67\u001b[0m \u001b[38;5;28;01mwith\u001b[39;00m \u001b[38;5;28mopen\u001b[39m(raw_acts_path, \u001b[38;5;124m\"\u001b[39m\u001b[38;5;124mrb\u001b[39m\u001b[38;5;124m\"\u001b[39m) \u001b[38;5;28;01mas\u001b[39;00m f:\n\u001b[0;32m---> 68\u001b[0m     raw_acts_dataset \u001b[38;5;241m=\u001b[39m \u001b[43mpickle\u001b[49m\u001b[38;5;241;43m.\u001b[39;49m\u001b[43mload\u001b[49m\u001b[43m(\u001b[49m\u001b[43mf\u001b[49m\u001b[43m)\u001b[49m\n\u001b[1;32m     69\u001b[0m trainer, _, test_idxs \u001b[38;5;241m=\u001b[39m AttnProbeTrainer\u001b[38;5;241m.\u001b[39mfrom_wandb(\n\u001b[1;32m     70\u001b[0m     raw_acts_dataset\u001b[38;5;241m=\u001b[39mraw_acts_dataset,\n\u001b[1;32m     71\u001b[0m     run_id\u001b[38;5;241m=\u001b[39mmedian_run\u001b[38;5;241m.\u001b[39mid,\n\u001b[1;32m     72\u001b[0m )\n\u001b[1;32m     73\u001b[0m unbiased_fsp_str \u001b[38;5;241m=\u001b[39m raw_acts_dataset[\u001b[38;5;124m\"\u001b[39m\u001b[38;5;124munbiased_fsp\u001b[39m\u001b[38;5;124m\"\u001b[39m]\n",
      "\u001b[0;31mUnpicklingError\u001b[0m: invalid load key, 'v'."
     ]
    }
   ],
   "source": [
    "torch.set_grad_enabled(False)\n",
    "\n",
    "# %%\n",
    "layer = 15\n",
    "min_seed, max_seed = 41, 50\n",
    "n_seeds = max_seed - min_seed + 1\n",
    "probe_class = \"minimal\"\n",
    "metric = \"test_accuracy\"\n",
    "\n",
    "trainer, test_idxs, raw_acts_qs, unbiased_fsp_str = load_median_probe_test_data(\n",
    "    probe_class, layer, min_seed, max_seed, metric\n",
    ")\n",
    "collate_fn_out: CollateFnOutput = list(trainer.test_loader)[0]\n",
    "from transformers import AutoTokenizer\n",
    "\n",
    "model, tokenizer = load_model_and_tokenizer(8)\n",
    "unbiased_fsp_cache = build_fsp_cache(model, tokenizer, unbiased_fsp_str)"
   ]
  },
  {
   "cell_type": "code",
   "execution_count": 3,
   "metadata": {},
   "outputs": [
    {
     "data": {
      "application/vnd.jupyter.widget-view+json": {
       "model_id": "1c647e51ffb1408aaf8beef416d703b6",
       "version_major": 2,
       "version_minor": 0
      },
      "text/plain": [
       "  0%|          | 0/133 [00:00<?, ?it/s]"
      ]
     },
     "metadata": {},
     "output_type": "display_data"
    },
    {
     "data": {
      "application/vnd.jupyter.widget-view+json": {
       "model_id": "9260e2726ebf4765bc442154653cfb35",
       "version_major": 2,
       "version_minor": 0
      },
      "text/plain": [
       "  0%|          | 0/98 [00:00<?, ?it/s]"
      ]
     },
     "metadata": {},
     "output_type": "display_data"
    },
    {
     "data": {
      "application/vnd.jupyter.widget-view+json": {
       "model_id": "b2c1346b192145ab8535d07a8bd5f50e",
       "version_major": 2,
       "version_minor": 0
      },
      "text/plain": [
       "  0%|          | 0/160 [00:00<?, ?it/s]"
      ]
     },
     "metadata": {},
     "output_type": "display_data"
    },
    {
     "data": {
      "application/vnd.jupyter.widget-view+json": {
       "model_id": "8625ff08a7244518a0749103c8cae155",
       "version_major": 2,
       "version_minor": 0
      },
      "text/plain": [
       "  0%|          | 0/232 [00:00<?, ?it/s]"
      ]
     },
     "metadata": {},
     "output_type": "display_data"
    },
    {
     "data": {
      "application/vnd.jupyter.widget-view+json": {
       "model_id": "6eae89398dfa410c800d9acc81a5ad30",
       "version_major": 2,
       "version_minor": 0
      },
      "text/plain": [
       "  0%|          | 0/185 [00:00<?, ?it/s]"
      ]
     },
     "metadata": {},
     "output_type": "display_data"
    },
    {
     "data": {
      "application/vnd.jupyter.widget-view+json": {
       "model_id": "5eec337eb7b0413f830997fc19fcd3a4",
       "version_major": 2,
       "version_minor": 0
      },
      "text/plain": [
       "  0%|          | 0/258 [00:00<?, ?it/s]"
      ]
     },
     "metadata": {},
     "output_type": "display_data"
    },
    {
     "name": "stdout",
     "output_type": "stream",
     "text": [
      "reasoning: 4 4\n",
      "only_last_three: 7 7\n",
      "other: 7 7\n",
      "ltsbs: 18 18\n",
      "in_between: 14 14\n",
      "both: 16 16\n"
     ]
    }
   ],
   "source": [
    "# %%\n",
    "filtered_data = load_filtered_data(raw_acts_qs, tokenizer)\n",
    "categories_with_matches = filtered_data[\"categories_with_matches\"]\n",
    "swap_dict_by_q = filtered_data[\"swap_dict_by_q\"]\n",
    "patch_all_by_q = filtered_data[\"patch_all_by_q\"]\n",
    "patch_layers_by_q = filtered_data[\"patch_layers_by_q\"]\n",
    "categories = {c: cwm_dict[\"pairs\"] for c, cwm_dict in categories_with_matches.items()}"
   ]
  },
  {
   "cell_type": "code",
   "execution_count": 4,
   "metadata": {},
   "outputs": [],
   "source": [
    "# Function to update q_idx options based on category\n",
    "def get_q_idx_options(category):\n",
    "    q_idx_counts = {}\n",
    "    for pair in categories[category]:\n",
    "        q_idx_counts[pair[0]] = q_idx_counts.get(pair[0], 0) + 1\n",
    "    return [\n",
    "        (f\"{q_idx} ({count} swaps)\", q_idx)\n",
    "        for q_idx, count in sorted(q_idx_counts.items())\n",
    "    ]\n",
    "\n",
    "\n",
    "# Function to update swap_idx options based on category and q_idx\n",
    "def get_swap_idx_options(category, q_idx):\n",
    "    pairs = categories[category]\n",
    "    return [pair[1] for pair in pairs if pair[0] == q_idx]\n",
    "\n",
    "\n",
    "# Update q_idx options when category changes\n",
    "def on_category_change(change):\n",
    "    q_idx_dropdown.options = get_q_idx_options(change.new)\n",
    "    if q_idx_dropdown.options:\n",
    "        q_idx_dropdown.value = q_idx_dropdown.options[0][1]\n",
    "\n",
    "    swap_idx_dropdown.options = get_swap_idx_options(\n",
    "        category_dropdown.value, q_idx_dropdown.value\n",
    "    )\n",
    "    if swap_idx_dropdown.options:\n",
    "        swap_idx_dropdown.value = swap_idx_dropdown.options[0]\n",
    "\n",
    "\n",
    "# Update swap_idx options when q_idx changes\n",
    "def on_q_idx_change(change):\n",
    "    swap_idx_dropdown.options = get_swap_idx_options(\n",
    "        category_dropdown.value, change.new\n",
    "    )\n",
    "    if swap_idx_dropdown.options:\n",
    "        swap_idx_dropdown.value = swap_idx_dropdown.options[0]\n",
    "\n",
    "\n",
    "# Create dropdown for category\n",
    "category_dropdown = Dropdown(\n",
    "    options=[(f\"{cat} ({len(pairs)})\", cat) for cat, pairs in categories.items()],\n",
    "    description=\"Category:\",\n",
    ")\n",
    "\n",
    "# Create dropdown for q_idx\n",
    "q_idx_dropdown = Dropdown(\n",
    "    options=get_q_idx_options(category_dropdown.value), description=\"Q Index:\"\n",
    ")\n",
    "\n",
    "# Create dropdown for swap_idx\n",
    "swap_idx_dropdown = Dropdown(\n",
    "    options=get_swap_idx_options(category_dropdown.value, q_idx_dropdown.value),\n",
    "    description=\"Swap Index:\",\n",
    ")\n",
    "\n",
    "category_dropdown.observe(on_category_change, names=\"value\")\n",
    "q_idx_dropdown.observe(on_q_idx_change, names=\"value\")"
   ]
  },
  {
   "cell_type": "code",
   "execution_count": 5,
   "metadata": {},
   "outputs": [
    {
     "data": {
      "application/vnd.jupyter.widget-view+json": {
       "model_id": "4f75d2daa6fe46ae80fd82148ab2b6f0",
       "version_major": 2,
       "version_minor": 0
      },
      "text/plain": [
       "VBox(children=(Dropdown(description='Category:', options=(('reasoning (4)', 'reasoning'), ('only_last_three (7…"
      ]
     },
     "metadata": {},
     "output_type": "display_data"
    },
    {
     "data": {
      "application/vnd.jupyter.widget-view+json": {
       "model_id": "5405488431114606bff119b7dae2b2bf",
       "version_major": 2,
       "version_minor": 0
      },
      "text/plain": [
       "Output()"
      ]
     },
     "metadata": {},
     "output_type": "display_data"
    }
   ],
   "source": [
    "# %%\n",
    "from functools import partial\n",
    "\n",
    "# Create interactive output\n",
    "out = interactive_output(\n",
    "    partial(\n",
    "        update_plot,\n",
    "        tokenizer=tokenizer,\n",
    "        filtered_data=filtered_data,\n",
    "        probe_model=trainer.model,\n",
    "        collate_fn_out=collate_fn_out,\n",
    "        model=model,\n",
    "        layer=layer,\n",
    "        unbiased_fsp_cache=unbiased_fsp_cache,\n",
    "    ),\n",
    "    {\n",
    "        \"category\": category_dropdown,\n",
    "        \"q_idx\": q_idx_dropdown,\n",
    "        \"swap_idx\": swap_idx_dropdown,\n",
    "    },\n",
    ")\n",
    "\n",
    "# Display widgets and output\n",
    "widgets = VBox([category_dropdown, q_idx_dropdown, swap_idx_dropdown])\n",
    "display(widgets)\n",
    "display(out)  # Also display the output widget\n",
    "# %%"
   ]
  },
  {
   "cell_type": "code",
   "execution_count": null,
   "metadata": {},
   "outputs": [],
   "source": []
  }
 ],
 "metadata": {
  "kernelspec": {
   "display_name": ".venv",
   "language": "python",
   "name": "python3"
  },
  "language_info": {
   "codemirror_mode": {
    "name": "ipython",
    "version": 3
   },
   "file_extension": ".py",
   "mimetype": "text/x-python",
   "name": "python",
   "nbconvert_exporter": "python",
   "pygments_lexer": "ipython3",
   "version": "3.12.3"
  }
 },
 "nbformat": 4,
 "nbformat_minor": 2
}
