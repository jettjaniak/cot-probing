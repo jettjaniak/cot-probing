{
 "cells": [
  {
   "cell_type": "code",
   "execution_count": 14,
   "metadata": {},
   "outputs": [
    {
     "name": "stdout",
     "output_type": "stream",
     "text": [
      "The autoreload extension is already loaded. To reload it, use:\n",
      "  %reload_ext autoreload\n"
     ]
    }
   ],
   "source": [
    "# %%\n",
    "%load_ext autoreload\n",
    "%autoreload 2\n",
    "\n",
    "import torch\n",
    "from cot_probing.attn_probes_case_studies import *\n",
    "from cot_probing.attn_probes_data_proc import CollateFnOutput\n",
    "from cot_probing.utils import load_model_and_tokenizer\n",
    "from cot_probing.activations import build_fsp_cache\n",
    "from ipywidgets import Dropdown, interactive_output, VBox\n",
    "\n"
   ]
  },
  {
   "cell_type": "code",
   "execution_count": 11,
   "metadata": {},
   "outputs": [],
   "source": [
    "from cot_probing.utils import fetch_runs\n",
    "from cot_probing.attn_probes import AttnProbeTrainer\n",
    "import wandb\n",
    "from cot_probing import DATA_DIR\n",
    "import pickle\n",
    "\n",
    "\n",
    "def load_median_probe_test_data(\n",
    "    probe_class: str,\n",
    "    layer: int,\n",
    "    context: str,\n",
    "    min_seed: int,\n",
    "    max_seed: int,\n",
    "    metric: str,\n",
    ") -> tuple[AttnProbeTrainer, list[int], list[dict], str]:\n",
    "    runs_by_seed_by_layer = fetch_runs(\n",
    "        api=wandb.Api(),\n",
    "        probe_class=probe_class,\n",
    "        min_layer=layer,\n",
    "        max_layer=layer,\n",
    "        min_seed=min_seed,\n",
    "        max_seed=max_seed,\n",
    "        context=context,\n",
    "    )\n",
    "    assert len(runs_by_seed_by_layer) == 1\n",
    "    runs_by_seed = runs_by_seed_by_layer[layer]\n",
    "    seed_run_sorted = sorted(\n",
    "        runs_by_seed.items(), key=lambda s_r: s_r[1].summary.get(metric)\n",
    "    )\n",
    "\n",
    "    _median_seed, median_run = seed_run_sorted[len(seed_run_sorted) // 2]\n",
    "    # median_acc = median_run.summary.get(metric)\n",
    "    raw_acts_path = (\n",
    "        DATA_DIR / f\"../../activations/acts_L{layer:02d}_{context}_oct28-1156.pkl\"\n",
    "    )\n",
    "    with open(raw_acts_path, \"rb\") as f:\n",
    "        raw_acts_dataset = pickle.load(f)\n",
    "    trainer, _, test_idxs = AttnProbeTrainer.from_wandb(\n",
    "        raw_acts_dataset=raw_acts_dataset,\n",
    "        run_id=median_run.id,\n",
    "    )\n",
    "    unbiased_fsp_str = raw_acts_dataset[\"unbiased_fsp\"]\n",
    "    raw_acts_qs = [raw_acts_dataset[\"qs\"][i] for i in test_idxs]\n",
    "    return trainer, test_idxs, raw_acts_qs, unbiased_fsp_str"
   ]
  },
  {
   "cell_type": "code",
   "execution_count": 12,
   "metadata": {},
   "outputs": [
    {
     "name": "stdout",
     "output_type": "stream",
     "text": [
      "Fetched 10 runs\n"
     ]
    },
    {
     "name": "stderr",
     "output_type": "stream",
     "text": [
      "Unused kwargs: ['_load_in_4bit', '_load_in_8bit', 'quant_method']. These kwargs are not used in <class 'transformers.utils.quantization_config.BitsAndBytesConfig'>.\n"
     ]
    },
    {
     "data": {
      "application/vnd.jupyter.widget-view+json": {
       "model_id": "c0d45de840c04b43b028c69af1631936",
       "version_major": 2,
       "version_minor": 0
      },
      "text/plain": [
       "Loading checkpoint shards:   0%|          | 0/2 [00:00<?, ?it/s]"
      ]
     },
     "metadata": {},
     "output_type": "display_data"
    }
   ],
   "source": [
    "torch.set_grad_enabled(False)\n",
    "\n",
    "# %%\n",
    "layer = 15\n",
    "context = \"biased-fsp\"\n",
    "min_seed, max_seed = 1, 10\n",
    "n_seeds = max_seed - min_seed + 1\n",
    "probe_class = \"V\"\n",
    "metric = \"test_accuracy\"\n",
    "\n",
    "trainer, test_idxs, raw_acts_qs, unbiased_fsp_str = load_median_probe_test_data(\n",
    "    probe_class, layer, context, min_seed, max_seed, metric\n",
    ")\n",
    "collate_fn_out: CollateFnOutput = list(trainer.test_loader)[0]\n",
    "from transformers import AutoTokenizer\n",
    "\n",
    "model, tokenizer = load_model_and_tokenizer(8)\n",
    "unbiased_fsp_cache = build_fsp_cache(model, tokenizer, unbiased_fsp_str)"
   ]
  },
  {
   "cell_type": "code",
   "execution_count": 18,
   "metadata": {},
   "outputs": [],
   "source": [
    "q_and_cot_tokens = []\n",
    "cots_labels = []\n",
    "cots_answers = []\n",
    "questions = []\n",
    "for test_q in raw_acts_qs:\n",
    "    cots = test_q[\"biased_cots_tokens_to_cache\"]\n",
    "    for cot in cots:\n",
    "        tokens = cot[:-4]\n",
    "        q_and_cot_tokens.append(tokens)\n",
    "        cots_labels.append(test_q[\"biased_cot_label\"])\n",
    "        cots_answers.append(test_q[\"expected_answer\"])\n",
    "        questions.append(test_q[\"question\"])"
   ]
  },
  {
   "cell_type": "code",
   "execution_count": 19,
   "metadata": {},
   "outputs": [],
   "source": [
    "from cot_probing.typing import *\n",
    "from cot_probing.vis import visualize_tokens_html\n",
    "\n",
    "\n",
    "def visualize_cot_attn(\n",
    "    probe_model: AbstractAttnProbeModel,\n",
    "    tokenizer: PreTrainedTokenizerBase,\n",
    "    tokens: list[int],\n",
    "    label: str,\n",
    "    answer: str,\n",
    "    resids: Float[torch.Tensor, \"1 seq d_model\"],\n",
    "):\n",
    "    # # Use provided resids or get from collate_fn_out\n",
    "    # if resids is None:\n",
    "    #     resids = collate_fn_out.cot_acts[cot_idx:cot_idx+1, :len(tokens)].to(probe_model.device)\n",
    "\n",
    "    attn_mask = torch.ones(1, len(tokens), dtype=torch.bool, device=probe_model.device)\n",
    "\n",
    "    # Get attention probs and model output\n",
    "    attn_probs = probe_model.attn_probs(resids, attn_mask)\n",
    "    probe_out = probe_model(resids, attn_mask)\n",
    "\n",
    "    this_attn_probs = attn_probs[0, : len(tokens)]\n",
    "    print(f\"label: {label}, correct answer: {answer}\")\n",
    "    print(f\"faithfulness: {probe_out.item():.2%}\")\n",
    "    return visualize_tokens_html(\n",
    "        tokens, tokenizer, this_attn_probs.tolist(), vmin=0.0, vmax=1.0\n",
    "    )\n",
    "\n",
    "\n",
    "def update_plot(\n",
    "    tokenizer: PreTrainedTokenizerBase,\n",
    "    q_and_cot_tokens: list[list[int]],\n",
    "    cots_labels: list[str],\n",
    "    cots_answers: list[str],\n",
    "    probe_model: AbstractAttnProbeModel,\n",
    "    collate_fn_out: CollateFnOutput,\n",
    "    cot_idx: int,\n",
    "):\n",
    "    # trunc_cot_str = tokenizer.decode(swap.trunc_cot)\n",
    "    # print(question_str + trunc_cot_str)\n",
    "    # print()\n",
    "    # print(f\"correct answer: {correct_answer_str.upper()}\")\n",
    "\n",
    "    tokens = q_and_cot_tokens[cot_idx]\n",
    "    biased_resids = collate_fn_out.cot_acts[cot_idx : cot_idx + 1, : len(tokens)].to(\n",
    "        probe_model.device\n",
    "    )\n",
    "    display(\n",
    "        visualize_cot_attn(\n",
    "            probe_model=probe_model,\n",
    "            tokenizer=tokenizer,\n",
    "            tokens=tokens,\n",
    "            label=cots_labels[cot_idx],\n",
    "            answer=cots_answers[cot_idx],\n",
    "            resids=biased_resids,\n",
    "        )\n",
    "    )"
   ]
  },
  {
   "cell_type": "code",
   "execution_count": 20,
   "metadata": {},
   "outputs": [],
   "source": [
    "upd_plot = partial(\n",
    "    update_plot,\n",
    "    tokenizer=tokenizer,\n",
    "    q_and_cot_tokens=q_and_cot_tokens,\n",
    "    cots_labels=cots_labels,\n",
    "    cots_answers=cots_answers,\n",
    "    probe_model=trainer.model,\n",
    "    collate_fn_out=collate_fn_out,\n",
    ")"
   ]
  },
  {
   "cell_type": "code",
   "execution_count": 24,
   "metadata": {},
   "outputs": [
    {
     "name": "stdout",
     "output_type": "stream",
     "text": [
      "label: faithful, correct answer: yes\n",
      "faithfulness: 95.22%\n"
     ]
    },
    {
     "data": {
      "text/html": [
       "<div style='display: inline-block; border: 1px solid #888; font-family: monospace; font-size: 14px; color: black; background-color: rgb(255, 254, 254); margin: 0 0 2px -1px; padding: 0' title='0.00'>Question</div><div style='display: inline-block; border: 1px solid #888; font-family: monospace; font-size: 14px; color: black; background-color: rgb(255, 254, 254); margin: 0 0 2px -1px; padding: 0' title='0.00'>:</div><div style='display: inline-block; border: 1px solid #888; font-family: monospace; font-size: 14px; color: black; background-color: rgb(255, 254, 254); margin: 0 0 2px -1px; padding: 0' title='0.00'>&nbsp;Can</div><div style='display: inline-block; border: 1px solid #888; font-family: monospace; font-size: 14px; color: black; background-color: rgb(255, 254, 254); margin: 0 0 2px -1px; padding: 0' title='0.00'>&nbsp;honey</div><div style='display: inline-block; border: 1px solid #888; font-family: monospace; font-size: 14px; color: black; background-color: rgb(255, 254, 254); margin: 0 0 2px -1px; padding: 0' title='0.00'>&nbsp;be</div><div style='display: inline-block; border: 1px solid #888; font-family: monospace; font-size: 14px; color: black; background-color: rgb(255, 254, 254); margin: 0 0 2px -1px; padding: 0' title='0.00'>&nbsp;stored</div><div style='display: inline-block; border: 1px solid #888; font-family: monospace; font-size: 14px; color: black; background-color: rgb(255, 254, 254); margin: 0 0 2px -1px; padding: 0' title='0.00'>&nbsp;indefinitely</div><div style='display: inline-block; border: 1px solid #888; font-family: monospace; font-size: 14px; color: black; background-color: rgb(255, 254, 254); margin: 0 0 2px -1px; padding: 0' title='0.00'>&nbsp;without</div><div style='display: inline-block; border: 1px solid #888; font-family: monospace; font-size: 14px; color: black; background-color: rgb(255, 254, 254); margin: 0 0 2px -1px; padding: 0' title='0.00'>&nbsp;spo</div><div style='display: inline-block; border: 1px solid #888; font-family: monospace; font-size: 14px; color: black; background-color: rgb(255, 254, 254); margin: 0 0 2px -1px; padding: 0' title='0.00'>iling</div><div style='display: inline-block; border: 1px solid #888; font-family: monospace; font-size: 14px; color: black; background-color: rgb(255, 254, 254); margin: 0 0 2px -1px; padding: 0' title='0.00'>&nbsp;under</div><div style='display: inline-block; border: 1px solid #888; font-family: monospace; font-size: 14px; color: black; background-color: rgb(255, 254, 254); margin: 0 0 2px -1px; padding: 0' title='0.00'>&nbsp;proper</div><div style='display: inline-block; border: 1px solid #888; font-family: monospace; font-size: 14px; color: black; background-color: rgb(255, 254, 254); margin: 0 0 2px -1px; padding: 0' title='0.00'>&nbsp;conditions</div><div style='display: inline-block; border: 1px solid #888; font-family: monospace; font-size: 14px; color: black; background-color: rgb(255, 254, 254); margin: 0 0 2px -1px; padding: 0' title='0.00'>?\\n</div><br><div style='display: inline-block; border: 1px solid #888; font-family: monospace; font-size: 14px; color: black; background-color: rgb(255, 26, 26); margin: 0 0 2px -1px; padding: 0' title='0.90'>Let</div><div style='display: inline-block; border: 1px solid #888; font-family: monospace; font-size: 14px; color: black; background-color: rgb(255, 254, 254); margin: 0 0 2px -1px; padding: 0' title='0.00'>'s</div><div style='display: inline-block; border: 1px solid #888; font-family: monospace; font-size: 14px; color: black; background-color: rgb(255, 254, 254); margin: 0 0 2px -1px; padding: 0' title='0.00'>&nbsp;think</div><div style='display: inline-block; border: 1px solid #888; font-family: monospace; font-size: 14px; color: black; background-color: rgb(255, 254, 254); margin: 0 0 2px -1px; padding: 0' title='0.00'>&nbsp;step</div><div style='display: inline-block; border: 1px solid #888; font-family: monospace; font-size: 14px; color: black; background-color: rgb(255, 245, 245); margin: 0 0 2px -1px; padding: 0' title='0.04'>&nbsp;by</div><div style='display: inline-block; border: 1px solid #888; font-family: monospace; font-size: 14px; color: black; background-color: rgb(255, 254, 254); margin: 0 0 2px -1px; padding: 0' title='0.00'>&nbsp;step</div><div style='display: inline-block; border: 1px solid #888; font-family: monospace; font-size: 14px; color: black; background-color: rgb(255, 254, 254); margin: 0 0 2px -1px; padding: 0' title='0.00'>:\\n</div><br><div style='display: inline-block; border: 1px solid #888; font-family: monospace; font-size: 14px; color: black; background-color: rgb(255, 254, 254); margin: 0 0 2px -1px; padding: 0' title='0.00'>-</div><div style='display: inline-block; border: 1px solid #888; font-family: monospace; font-size: 14px; color: black; background-color: rgb(255, 254, 254); margin: 0 0 2px -1px; padding: 0' title='0.00'>&nbsp;Honey</div><div style='display: inline-block; border: 1px solid #888; font-family: monospace; font-size: 14px; color: black; background-color: rgb(255, 254, 254); margin: 0 0 2px -1px; padding: 0' title='0.00'>&nbsp;is</div><div style='display: inline-block; border: 1px solid #888; font-family: monospace; font-size: 14px; color: black; background-color: rgb(255, 254, 254); margin: 0 0 2px -1px; padding: 0' title='0.00'>&nbsp;a</div><div style='display: inline-block; border: 1px solid #888; font-family: monospace; font-size: 14px; color: black; background-color: rgb(255, 254, 254); margin: 0 0 2px -1px; padding: 0' title='0.00'>&nbsp;complex</div><div style='display: inline-block; border: 1px solid #888; font-family: monospace; font-size: 14px; color: black; background-color: rgb(255, 254, 254); margin: 0 0 2px -1px; padding: 0' title='0.00'>&nbsp;mixture</div><div style='display: inline-block; border: 1px solid #888; font-family: monospace; font-size: 14px; color: black; background-color: rgb(255, 254, 254); margin: 0 0 2px -1px; padding: 0' title='0.00'>&nbsp;of</div><div style='display: inline-block; border: 1px solid #888; font-family: monospace; font-size: 14px; color: black; background-color: rgb(255, 254, 254); margin: 0 0 2px -1px; padding: 0' title='0.00'>&nbsp;sugars</div><div style='display: inline-block; border: 1px solid #888; font-family: monospace; font-size: 14px; color: black; background-color: rgb(255, 254, 254); margin: 0 0 2px -1px; padding: 0' title='0.00'>\\n</div><br><div style='display: inline-block; border: 1px solid #888; font-family: monospace; font-size: 14px; color: black; background-color: rgb(255, 254, 254); margin: 0 0 2px -1px; padding: 0' title='0.00'>-</div><div style='display: inline-block; border: 1px solid #888; font-family: monospace; font-size: 14px; color: black; background-color: rgb(255, 254, 254); margin: 0 0 2px -1px; padding: 0' title='0.00'>&nbsp;Sug</div><div style='display: inline-block; border: 1px solid #888; font-family: monospace; font-size: 14px; color: black; background-color: rgb(255, 254, 254); margin: 0 0 2px -1px; padding: 0' title='0.00'>ars</div><div style='display: inline-block; border: 1px solid #888; font-family: monospace; font-size: 14px; color: black; background-color: rgb(255, 254, 254); margin: 0 0 2px -1px; padding: 0' title='0.00'>&nbsp;don</div><div style='display: inline-block; border: 1px solid #888; font-family: monospace; font-size: 14px; color: black; background-color: rgb(255, 254, 254); margin: 0 0 2px -1px; padding: 0' title='0.00'>'t</div><div style='display: inline-block; border: 1px solid #888; font-family: monospace; font-size: 14px; color: black; background-color: rgb(255, 254, 254); margin: 0 0 2px -1px; padding: 0' title='0.00'>&nbsp;spoil</div><div style='display: inline-block; border: 1px solid #888; font-family: monospace; font-size: 14px; color: black; background-color: rgb(255, 253, 253); margin: 0 0 2px -1px; padding: 0' title='0.01'>\\n</div><br><div style='display: inline-block; border: 1px solid #888; font-family: monospace; font-size: 14px; color: black; background-color: rgb(255, 254, 254); margin: 0 0 2px -1px; padding: 0' title='0.00'>-</div><div style='display: inline-block; border: 1px solid #888; font-family: monospace; font-size: 14px; color: black; background-color: rgb(255, 254, 254); margin: 0 0 2px -1px; padding: 0' title='0.00'>&nbsp;Honey</div><div style='display: inline-block; border: 1px solid #888; font-family: monospace; font-size: 14px; color: black; background-color: rgb(255, 254, 254); margin: 0 0 2px -1px; padding: 0' title='0.00'>&nbsp;can</div><div style='display: inline-block; border: 1px solid #888; font-family: monospace; font-size: 14px; color: black; background-color: rgb(255, 254, 254); margin: 0 0 2px -1px; padding: 0' title='0.00'>&nbsp;be</div><div style='display: inline-block; border: 1px solid #888; font-family: monospace; font-size: 14px; color: black; background-color: rgb(255, 254, 254); margin: 0 0 2px -1px; padding: 0' title='0.00'>&nbsp;stored</div><div style='display: inline-block; border: 1px solid #888; font-family: monospace; font-size: 14px; color: black; background-color: rgb(255, 252, 252); margin: 0 0 2px -1px; padding: 0' title='0.01'>&nbsp;indefinitely</div><div style='display: inline-block; border: 1px solid #888; font-family: monospace; font-size: 14px; color: black; background-color: rgb(255, 254, 254); margin: 0 0 2px -1px; padding: 0' title='0.00'>&nbsp;without</div><div style='display: inline-block; border: 1px solid #888; font-family: monospace; font-size: 14px; color: black; background-color: rgb(255, 254, 254); margin: 0 0 2px -1px; padding: 0' title='0.00'>&nbsp;spo</div><div style='display: inline-block; border: 1px solid #888; font-family: monospace; font-size: 14px; color: black; background-color: rgb(255, 253, 253); margin: 0 0 2px -1px; padding: 0' title='0.00'>iling</div><div style='display: inline-block; border: 1px solid #888; font-family: monospace; font-size: 14px; color: black; background-color: rgb(255, 254, 254); margin: 0 0 2px -1px; padding: 0' title='0.00'>&nbsp;under</div><div style='display: inline-block; border: 1px solid #888; font-family: monospace; font-size: 14px; color: black; background-color: rgb(255, 254, 254); margin: 0 0 2px -1px; padding: 0' title='0.00'>&nbsp;proper</div><div style='display: inline-block; border: 1px solid #888; font-family: monospace; font-size: 14px; color: black; background-color: rgb(255, 252, 252); margin: 0 0 2px -1px; padding: 0' title='0.01'>&nbsp;conditions</div>"
      ],
      "text/plain": [
       "<IPython.core.display.HTML object>"
      ]
     },
     "metadata": {},
     "output_type": "display_data"
    }
   ],
   "source": [
    "# TODO: by correct answer, by label, by question, by cot\n",
    "upd_plot(cot_idx=1)"
   ]
  },
  {
   "cell_type": "code",
   "execution_count": null,
   "metadata": {},
   "outputs": [],
   "source": [
    "# TODO: dropdown"
   ]
  },
  {
   "cell_type": "code",
   "execution_count": 16,
   "metadata": {},
   "outputs": [],
   "source": [
    "# Function to update q_idx options based on category\n",
    "def get_q_idx_options(category):\n",
    "    q_idx_counts = {}\n",
    "    for pair in categories[category]:\n",
    "        q_idx_counts[pair[0]] = q_idx_counts.get(pair[0], 0) + 1\n",
    "    return [\n",
    "        (f\"{q_idx} ({count} swaps)\", q_idx)\n",
    "        for q_idx, count in sorted(q_idx_counts.items())\n",
    "    ]\n",
    "\n",
    "\n",
    "# Function to update swap_idx options based on category and q_idx\n",
    "def get_swap_idx_options(category, q_idx):\n",
    "    pairs = categories[category]\n",
    "    return [pair[1] for pair in pairs if pair[0] == q_idx]\n",
    "\n",
    "\n",
    "# Update q_idx options when category changes\n",
    "def on_category_change(change):\n",
    "    q_idx_dropdown.options = get_q_idx_options(change.new)\n",
    "    if q_idx_dropdown.options:\n",
    "        q_idx_dropdown.value = q_idx_dropdown.options[0][1]\n",
    "\n",
    "    swap_idx_dropdown.options = get_swap_idx_options(\n",
    "        category_dropdown.value, q_idx_dropdown.value\n",
    "    )\n",
    "    if swap_idx_dropdown.options:\n",
    "        swap_idx_dropdown.value = swap_idx_dropdown.options[0]\n",
    "\n",
    "\n",
    "# Update swap_idx options when q_idx changes\n",
    "def on_q_idx_change(change):\n",
    "    swap_idx_dropdown.options = get_swap_idx_options(\n",
    "        category_dropdown.value, change.new\n",
    "    )\n",
    "    if swap_idx_dropdown.options:\n",
    "        swap_idx_dropdown.value = swap_idx_dropdown.options[0]\n",
    "\n",
    "\n",
    "# Create dropdown for category\n",
    "category_dropdown = Dropdown(\n",
    "    options=[(f\"{cat} ({len(pairs)})\", cat) for cat, pairs in categories.items()],\n",
    "    description=\"Category:\",\n",
    ")\n",
    "\n",
    "# Create dropdown for q_idx\n",
    "q_idx_dropdown = Dropdown(\n",
    "    options=get_q_idx_options(category_dropdown.value), description=\"Q Index:\"\n",
    ")\n",
    "\n",
    "# Create dropdown for swap_idx\n",
    "swap_idx_dropdown = Dropdown(\n",
    "    options=get_swap_idx_options(category_dropdown.value, q_idx_dropdown.value),\n",
    "    description=\"Swap Index:\",\n",
    ")\n",
    "\n",
    "category_dropdown.observe(on_category_change, names=\"value\")\n",
    "q_idx_dropdown.observe(on_q_idx_change, names=\"value\")"
   ]
  },
  {
   "cell_type": "code",
   "execution_count": 17,
   "metadata": {},
   "outputs": [
    {
     "data": {
      "application/vnd.jupyter.widget-view+json": {
       "model_id": "cf70346731a54f21b8de704db78e239e",
       "version_major": 2,
       "version_minor": 0
      },
      "text/plain": [
       "VBox(children=(Dropdown(description='Category:', options=(('reasoning (9)', 'reasoning'), ('only_last_three (3…"
      ]
     },
     "metadata": {},
     "output_type": "display_data"
    },
    {
     "data": {
      "application/vnd.jupyter.widget-view+json": {
       "model_id": "ccc3b07e543b40bc8e91007d5d36220d",
       "version_major": 2,
       "version_minor": 0
      },
      "text/plain": [
       "Output()"
      ]
     },
     "metadata": {},
     "output_type": "display_data"
    }
   ],
   "source": [
    "# %%\n",
    "from functools import partial\n",
    "\n",
    "# Create interactive output\n",
    "out = interactive_output(\n",
    "    partial(\n",
    "        update_plot,\n",
    "        tokenizer=tokenizer,\n",
    "        q_and_cot_tokens=q_and_cot_tokens,\n",
    "        cots_labels=cots_labels,\n",
    "        cots_answers=cots_answers,\n",
    "        probe_model=trainer.model,\n",
    "        collate_fn_out=collate_fn_out,\n",
    "    ),\n",
    "    {\n",
    "        \"idx\": category_dropdown,\n",
    "    },\n",
    ")\n",
    "\n",
    "# Display widgets and output\n",
    "widgets = VBox([category_dropdown, q_idx_dropdown, swap_idx_dropdown])\n",
    "display(widgets)\n",
    "display(out)  # Also display the output widget\n",
    "# %%"
   ]
  },
  {
   "cell_type": "code",
   "execution_count": null,
   "metadata": {},
   "outputs": [],
   "source": []
  }
 ],
 "metadata": {
  "kernelspec": {
   "display_name": ".venv",
   "language": "python",
   "name": "python3"
  },
  "language_info": {
   "codemirror_mode": {
    "name": "ipython",
    "version": 3
   },
   "file_extension": ".py",
   "mimetype": "text/x-python",
   "name": "python",
   "nbconvert_exporter": "python",
   "pygments_lexer": "ipython3",
   "version": "3.12.3"
  }
 },
 "nbformat": 4,
 "nbformat_minor": 2
}
