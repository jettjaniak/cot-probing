{
 "cells": [
  {
   "cell_type": "code",
   "execution_count": 49,
   "metadata": {},
   "outputs": [
    {
     "name": "stdout",
     "output_type": "stream",
     "text": [
      "The autoreload extension is already loaded. To reload it, use:\n",
      "  %reload_ext autoreload\n"
     ]
    }
   ],
   "source": [
    "%load_ext autoreload\n",
    "%autoreload 2\n",
    "\n",
    "LOGIT_OR_PROB = \"prob\"\n",
    "DIR = \"bia_to_unb\"\n",
    "CATEGORIES_FILE = f\"categories_{LOGIT_OR_PROB}_{DIR}_0.25_1.5_2.0_4.0.pkl\"\n",
    "SWAPS_FILE = f\"swaps_with-unbiased-cots-oct28-1156.pkl\"\n",
    "LB_LAYERS = 3\n",
    "PATCH_ALL_FILE = \"patch_new_res_8B_LB33__swaps_with-unbiased-cots-oct28-1156.pkl\"\n",
    "PATCH_LAYERS_FILE = f\"patch_new_res_8B_LB{LB_LAYERS}__swaps_with-unbiased-cots-oct28-1156.pkl\"\n",
    "\n",
    "GROUPS = [\n",
    "    \"Question:\",\n",
    "    \"[question]\", \n",
    "    \"?\\\\n\",\n",
    "    \"LTSBS:\\\\n-\",\n",
    "    \"reasoning\",\n",
    "    \"last 3\"\n",
    "]"
   ]
  },
  {
   "cell_type": "code",
   "execution_count": null,
   "metadata": {},
   "outputs": [],
   "source": []
  },
  {
   "cell_type": "code",
   "execution_count": 58,
   "metadata": {},
   "outputs": [],
   "source": [
    "import pickle\n",
    "from cot_probing import DATA_DIR\n",
    "from cot_probing.patching import PatchedLogitsProbs\n",
    "from cot_probing.typing import *\n",
    "import numpy as np\n",
    "import matplotlib.pyplot as plt\n",
    "from transformers import AutoTokenizer\n",
    "\n",
    "with open(DATA_DIR / CATEGORIES_FILE, \"rb\") as f:\n",
    "    categories = pickle.load(f)\n",
    "\n",
    "with open(DATA_DIR / SWAPS_FILE, \"rb\") as f:\n",
    "    swaps_by_q = pickle.load(f)[\"qs\"]\n",
    "\n",
    "with open(DATA_DIR / PATCH_ALL_FILE, \"rb\") as f:\n",
    "    patch_all_by_q = pickle.load(f)\n",
    "\n",
    "with open(DATA_DIR / PATCH_LAYERS_FILE, \"rb\") as f:\n",
    "    patch_layers_by_q = pickle.load(f)\n",
    "\n",
    "model_id = \"hugging-quants/Meta-Llama-3.1-8B-BNB-NF4-BF16\"\n",
    "tokenizer = AutoTokenizer.from_pretrained(model_id)"
   ]
  },
  {
   "cell_type": "code",
   "execution_count": 17,
   "metadata": {},
   "outputs": [],
   "source": [
    "def get_patch_values(\n",
    "    plp_by_group_by_layers: dict[tuple[int, ...], dict[str, PatchedLogitsProbs]],\n",
    "    prob_or_logit: Literal[\"prob\", \"logit\"],\n",
    "    direction: Literal[\"bia_to_unb\", \"unb_to_bia\"],\n",
    ") -> np.ndarray:\n",
    "    attr = f\"{prob_or_logit}_diff_change_{direction}\"\n",
    "    values = []\n",
    "    for layers, plp_by_group in plp_by_group_by_layers.items():\n",
    "        values.append([getattr(plp, attr) for plp in plp_by_group.values()])\n",
    "    if len(values) == 1:\n",
    "        return values[0]\n",
    "    return values"
   ]
  },
  {
   "cell_type": "code",
   "execution_count": 47,
   "metadata": {},
   "outputs": [],
   "source": [
    "def plot_heatmap(combined_values, title):\n",
    "    v = combined_values\n",
    "    plt.imshow(\n",
    "        v,\n",
    "        cmap=\"RdBu\",\n",
    "        origin=\"lower\",\n",
    "        vmin=-max(abs(np.min(v)), abs(np.max(v))),\n",
    "        vmax=max(abs(np.min(v)), abs(np.max(v))),\n",
    "    )\n",
    "    plt.title(title)\n",
    "    plt.colorbar()\n",
    "    first_ytick = \"all\"\n",
    "    other_yticks = [\n",
    "        f\"{i*LB_LAYERS}-{(i+1)*LB_LAYERS}\" for i in range(len(combined_values) - 1)\n",
    "    ]\n",
    "    plt.yticks(range(len(combined_values)), [first_ytick] + other_yticks)\n",
    "    plt.xticks(range(len(GROUPS)), GROUPS, rotation=90)\n",
    "    plt.ylabel(\"layers\")\n",
    "    plt.xlabel(\"token groups\")\n",
    "    plt.axhline(y=0.5, color=\"black\", linewidth=1)\n",
    "    plt.show()"
   ]
  },
  {
   "cell_type": "code",
   "execution_count": 70,
   "metadata": {},
   "outputs": [
    {
     "data": {
      "application/vnd.jupyter.widget-view+json": {
       "model_id": "d82d8c5d9d564d55a89434e926cedefa",
       "version_major": 2,
       "version_minor": 0
      },
      "text/plain": [
       "VBox(children=(Dropdown(description='Category:', options=(('reasoning (133)', 'reasoning'), ('only_last_three …"
      ]
     },
     "metadata": {},
     "output_type": "display_data"
    },
    {
     "data": {
      "application/vnd.jupyter.widget-view+json": {
       "model_id": "59d1446b04f34b12b6e56f7e93b99add",
       "version_major": 2,
       "version_minor": 0
      },
      "text/plain": [
       "Output()"
      ]
     },
     "metadata": {},
     "output_type": "display_data"
    }
   ],
   "source": [
    "from ipywidgets import Dropdown, interactive_output, VBox\n",
    "\n",
    "# Create dropdown for category\n",
    "category_dropdown = Dropdown(\n",
    "    options=[(f\"{cat} ({len(pairs)})\", cat) for cat, pairs in categories.items()],\n",
    "    description=\"Category:\",\n",
    ")\n",
    "\n",
    "\n",
    "# Function to update q_idx options based on category\n",
    "def get_q_idx_options(category):\n",
    "    q_idx_counts = {}\n",
    "    for pair in categories[category]:\n",
    "        q_idx_counts[pair[0]] = q_idx_counts.get(pair[0], 0) + 1\n",
    "    return [\n",
    "        (f\"{q_idx} ({count} swaps)\", q_idx)\n",
    "        for q_idx, count in sorted(q_idx_counts.items())\n",
    "    ]\n",
    "\n",
    "\n",
    "# Create dropdown for q_idx\n",
    "q_idx_dropdown = Dropdown(\n",
    "    options=get_q_idx_options(category_dropdown.value), description=\"Q Index:\"\n",
    ")\n",
    "\n",
    "\n",
    "# Function to update swap_idx options based on category and q_idx\n",
    "def get_swap_idx_options(category, q_idx):\n",
    "    pairs = categories[category]\n",
    "    return [pair[1] for pair in pairs if pair[0] == q_idx]\n",
    "\n",
    "\n",
    "# Create dropdown for swap_idx\n",
    "swap_idx_dropdown = Dropdown(\n",
    "    options=get_swap_idx_options(category_dropdown.value, q_idx_dropdown.value),\n",
    "    description=\"Swap Index:\",\n",
    ")\n",
    "\n",
    "\n",
    "# Update q_idx options when category changes\n",
    "def on_category_change(change):\n",
    "    q_idx_dropdown.options = get_q_idx_options(change.new)\n",
    "    if q_idx_dropdown.options:\n",
    "        q_idx_dropdown.value = q_idx_dropdown.options[0][1]\n",
    "\n",
    "\n",
    "# Update swap_idx options when q_idx changes\n",
    "def on_q_idx_change(change):\n",
    "    swap_idx_dropdown.options = get_swap_idx_options(\n",
    "        category_dropdown.value, change.new\n",
    "    )\n",
    "    if swap_idx_dropdown.options:\n",
    "        swap_idx_dropdown.value = swap_idx_dropdown.options[0]\n",
    "\n",
    "\n",
    "category_dropdown.observe(on_category_change, names=\"value\")\n",
    "q_idx_dropdown.observe(on_q_idx_change, names=\"value\")\n",
    "\n",
    "\n",
    "# Function to update plot\n",
    "def update_plot(category, q_idx, swap_idx):\n",
    "    question_str = swaps_by_q[q_idx][\"question\"]\n",
    "    correct_answer_str = swaps_by_q[q_idx][\"expected_answer\"]\n",
    "    swap = swaps_by_q[q_idx][\"swaps\"][swap_idx]\n",
    "    patch_all = patch_all_by_q[q_idx][swap_idx]\n",
    "    patch_layers = patch_layers_by_q[q_idx][swap_idx]\n",
    "\n",
    "    patch_all_values = get_patch_values(patch_all, LOGIT_OR_PROB, DIR)\n",
    "    patch_layers_values = get_patch_values(patch_layers, LOGIT_OR_PROB, DIR)\n",
    "    combined_values = [patch_all_values] + patch_layers_values\n",
    "    trunc_cot_str = tokenizer.decode(swap.trunc_cot)\n",
    "    print(question_str + trunc_cot_str)\n",
    "    print()\n",
    "    fai_tok_str = tokenizer.decode(swap.fai_tok).replace(\"\\n\", \"\\\\n\")\n",
    "    unf_tok_str = tokenizer.decode(swap.unfai_tok).replace(\"\\n\", \"\\\\n\")\n",
    "    print(f\"correct answer: {correct_answer_str.upper()}\")\n",
    "    print(f\"faithful_token:   `{fai_tok_str}`\")\n",
    "    print(f\"unfaithful_token: `{unf_tok_str}`\")\n",
    "    plot_heatmap(combined_values, f\"change in {LOGIT_OR_PROB} diff\")\n",
    "\n",
    "\n",
    "# Create interactive output\n",
    "out = interactive_output(\n",
    "    update_plot,\n",
    "    {\n",
    "        \"category\": category_dropdown,\n",
    "        \"q_idx\": q_idx_dropdown,\n",
    "        \"swap_idx\": swap_idx_dropdown,\n",
    "    },\n",
    ")\n",
    "\n",
    "# Display widgets and output\n",
    "widgets = VBox([category_dropdown, q_idx_dropdown, swap_idx_dropdown])\n",
    "display(widgets)\n",
    "display(out)  # Also display the output widget"
   ]
  },
  {
   "cell_type": "code",
   "execution_count": null,
   "metadata": {},
   "outputs": [],
   "source": []
  }
 ],
 "metadata": {
  "kernelspec": {
   "display_name": ".venv",
   "language": "python",
   "name": "python3"
  },
  "language_info": {
   "codemirror_mode": {
    "name": "ipython",
    "version": 3
   },
   "file_extension": ".py",
   "mimetype": "text/x-python",
   "name": "python",
   "nbconvert_exporter": "python",
   "pygments_lexer": "ipython3",
   "version": "3.12.3"
  }
 },
 "nbformat": 4,
 "nbformat_minor": 2
}
