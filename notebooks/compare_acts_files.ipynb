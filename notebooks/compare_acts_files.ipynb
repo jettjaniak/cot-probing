{
 "cells": [
  {
   "cell_type": "code",
   "execution_count": 7,
   "metadata": {},
   "outputs": [],
   "source": [
    "OLD_PATH = \"/root/.cache/huggingface/hub/models--cot-probing--activations/snapshots/c8ad8e0060c3fe937dc1b12729000f1160c5a016/acts_L15_with-unbiased-cots-oct28-1156.pkl\"\n",
    "NEW_PATH = \"../activations/acts_L15_biased-fsp-oct28-1156.pkl\"\n",
    "import pickle\n",
    "\n",
    "with open(OLD_PATH, \"rb\") as f:\n",
    "    old_acts = pickle.load(f)\n",
    "\n",
    "with open(NEW_PATH, \"rb\") as f:\n",
    "    new_acts = pickle.load(f)"
   ]
  },
  {
   "cell_type": "code",
   "execution_count": 8,
   "metadata": {},
   "outputs": [
    {
     "name": "stdout",
     "output_type": "stream",
     "text": [
      "676\n",
      "522\n"
     ]
    }
   ],
   "source": [
    "print(len(old_acts[\"qs\"]), \n",
    "print(len(new_acts[\"qs\"]))\n"
   ]
  },
  {
   "cell_type": "code",
   "execution_count": 9,
   "metadata": {},
   "outputs": [],
   "source": [
    "just_qs_old = [q[\"question\"] for q in old_acts[\"qs\"]]\n",
    "just_qs_new = [q[\"question\"] for q in new_acts[\"qs\"]]"
   ]
  },
  {
   "cell_type": "code",
   "execution_count": 16,
   "metadata": {},
   "outputs": [
    {
     "name": "stdout",
     "output_type": "stream",
     "text": [
      "676 520\n",
      "522 520\n"
     ]
    }
   ],
   "source": [
    "print(len(just_qs_old), len(set(just_qs_old)))\n",
    "print(len(just_qs_new), len(set(just_qs_new)))"
   ]
  },
  {
   "cell_type": "code",
   "execution_count": 10,
   "metadata": {},
   "outputs": [
    {
     "name": "stdout",
     "output_type": "stream",
     "text": [
      "39\n"
     ]
    }
   ],
   "source": [
    "for i in range(len(just_qs_old)):\n",
    "    if just_qs_old[i] != just_qs_new[i]:\n",
    "        print(i)\n",
    "        break"
   ]
  },
  {
   "cell_type": "code",
   "execution_count": 15,
   "metadata": {},
   "outputs": [
    {
     "data": {
      "text/plain": [
       "520"
      ]
     },
     "execution_count": 15,
     "metadata": {},
     "output_type": "execute_result"
    }
   ],
   "source": [
    "len(set(just_qs_new))"
   ]
  }
 ],
 "metadata": {
  "kernelspec": {
   "display_name": ".venv",
   "language": "python",
   "name": "python3"
  },
  "language_info": {
   "codemirror_mode": {
    "name": "ipython",
    "version": 3
   },
   "file_extension": ".py",
   "mimetype": "text/x-python",
   "name": "python",
   "nbconvert_exporter": "python",
   "pygments_lexer": "ipython3",
   "version": "3.12.3"
  }
 },
 "nbformat": 4,
 "nbformat_minor": 2
}
