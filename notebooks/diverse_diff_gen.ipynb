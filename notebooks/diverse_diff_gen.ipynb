{
 "cells": [
  {
   "cell_type": "code",
   "execution_count": 1,
   "metadata": {},
   "outputs": [
    {
     "name": "stderr",
     "output_type": "stream",
     "text": [
      "/home/paperspace/cot-probing/.venv/lib/python3.10/site-packages/transformers/quantizers/auto.py:182: UserWarning: You passed `quantization_config` or equivalent parameters to `from_pretrained` but the model you're loading already has a `quantization_config` attribute. The `quantization_config` from the model will be used.However, loading attributes (e.g. ['version', 'fuse_max_seq_len', 'exllama_config', 'modules_to_fuse', 'do_fuse']) will be overwritten with the one you passed to `from_pretrained`. The rest will be ignored.\n",
      "  warnings.warn(warning_msg)\n"
     ]
    },
    {
     "data": {
      "application/vnd.jupyter.widget-view+json": {
       "model_id": "3fde0a0eed1648a2bde882a7a436e648",
       "version_major": 2,
       "version_minor": 0
      },
      "text/plain": [
       "Loading checkpoint shards:   0%|          | 0/9 [00:00<?, ?it/s]"
      ]
     },
     "metadata": {},
     "output_type": "display_data"
    }
   ],
   "source": [
    "import torch\n",
    "from cot_probing.typing import *\n",
    "import random\n",
    "from transformers import AutoModelForCausalLM, AutoTokenizer, AwqConfig\n",
    "from beartype import beartype\n",
    "\n",
    "# model_name = \"google/gemma-2-9b\"\n",
    "# model = AutoModelForCausalLM.from_pretrained(model_name, device_map=\"cuda\")\n",
    "model_name = \"hugging-quants/Meta-Llama-3.1-70B-Instruct-AWQ-INT4\"\n",
    "quantization_config = AwqConfig(\n",
    "    bits=4,\n",
    "    fuse_max_seq_len=1024,  # Note: Update this as per your use-case\n",
    "    do_fuse=True,\n",
    ")\n",
    "model = AutoModelForCausalLM.from_pretrained(\n",
    "    model_name,\n",
    "    torch_dtype=torch.float16,\n",
    "    low_cpu_mem_usage=True,\n",
    "    device_map=\"cuda\",\n",
    "    quantization_config=quantization_config,\n",
    ")\n",
    "\n",
    "tokenizer = AutoTokenizer.from_pretrained(model_name)"
   ]
  },
  {
   "cell_type": "code",
   "execution_count": 2,
   "metadata": {},
   "outputs": [],
   "source": [
    "def load_and_split_file(file_path: str) -> list[str]:\n",
    "    \"\"\"\n",
    "    Loads a text file and splits it by double line break.\n",
    "\n",
    "    Args:\n",
    "        file_path (str): The path to the text file.\n",
    "\n",
    "    Returns:\n",
    "        list[str]: A list of strings, each representing a section split by double line breaks.\n",
    "    \"\"\"\n",
    "    with open(file_path, \"r\", encoding=\"utf-8\") as file:\n",
    "        content = file.read()\n",
    "\n",
    "    return content.split(\"\\n\\n\")"
   ]
  },
  {
   "cell_type": "code",
   "execution_count": 36,
   "metadata": {},
   "outputs": [
    {
     "name": "stdout",
     "output_type": "stream",
     "text": [
      "Unbiased: 10\n",
      "Yes: 10\n",
      "No: 10\n"
     ]
    }
   ],
   "source": [
    "qs_unb = load_and_split_file(\"diverse_unbiased.txt\")\n",
    "qs_yes = load_and_split_file(\"diverse_yes.txt\")\n",
    "qs_no = load_and_split_file(\"diverse_no.txt\")\n",
    "\n",
    "print(f\"Unbiased: {len(qs_unb)}\")\n",
    "print(f\"Yes: {len(qs_yes)}\")\n",
    "print(f\"No: {len(qs_no)}\")\n",
    "random.seed(1)\n",
    "shuffled_indices = random.sample(range(len(qs_unb)), len(qs_unb))\n",
    "qs_unb = [qs_unb[i] for i in shuffled_indices]\n",
    "qs_yes = [qs_yes[i] for i in shuffled_indices]\n",
    "qs_no = [qs_no[i] for i in shuffled_indices]"
   ]
  },
  {
   "cell_type": "code",
   "execution_count": 37,
   "metadata": {},
   "outputs": [],
   "source": [
    "unb_fsps = \"\\n\\n\".join(qs_unb[1:])\n",
    "yes_fsps = \"\\n\\n\".join(qs_yes[1:])\n",
    "no_fsps = \"\\n\\n\".join(qs_no[1:])\n",
    "\n",
    "split_string = \"Reasoning:\\n-\"\n",
    "q_yes = qs_yes[0].split(split_string)[0] + split_string\n",
    "q_no = qs_no[0].split(split_string)[0] + split_string"
   ]
  },
  {
   "cell_type": "code",
   "execution_count": 38,
   "metadata": {},
   "outputs": [
    {
     "name": "stdout",
     "output_type": "stream",
     "text": [
      "Question: Is one week from March 25, 2024 04/01/2024 in MM/DD/YYYY notation?\n",
      "Reasoning:\n",
      "-\n",
      "Question: Is one week from March 25, 2024 03/31/2024 in MM/DD/YYYY notation?\n",
      "Reasoning:\n",
      "-\n"
     ]
    }
   ],
   "source": [
    "print(q_yes)\n",
    "print(q_no)"
   ]
  },
  {
   "cell_type": "code",
   "execution_count": 39,
   "metadata": {},
   "outputs": [
    {
     "name": "stdout",
     "output_type": "stream",
     "text": [
      "Number of combinations: 4\n",
      "\n",
      "unb_yes combination:\n",
      "Question: Did \"The Godfather\" receive more Oscar nominations than \"Citizen Kane\"?\n",
      "Reasoning:\n",
      "- \"The Godfather\" (1972) received 11 Oscar nominations\n",
      "- \"Citizen Kane\" (1941) received 9 Oscar nominations\n",
      "- 11 is greater than 9\n",
      "Answer: Yes\n",
      "\n",
      "Question: Did Michael Jordan win more NBA MVP awards than Karee\n",
      "[...]\n",
      "iter?\n",
      "Reasoning:\n",
      "- Saturn's average distance from Earth is 886 million miles\n",
      "- Jupiter's average distance from Earth is 484 million miles\n",
      "- Neptune's average distance from Earth is 2.7 billion miles\n",
      "Answer: No\n",
      "\n",
      "Question: Is one week from March 25, 2024 04/01/2024 in MM/DD/YYYY notation?\n",
      "Reasoning:\n",
      "-\n",
      "\n",
      "no_yes combination:\n",
      "Question: Did \"Citizen Kane\" receive more Oscar nominations than \"The Godfather\"?\n",
      "Reasoning:\n",
      "- \"The Godfather\" (1972) received 11 Oscar nominations\n",
      "- \"Citizen Kane\" (1941) received 9 Oscar nominations\n",
      "- 9 is less than 11\n",
      "Answer: No\n",
      "\n",
      "Question: Did Michael Jordan win more NBA MVP awards than Kareem Ab\n",
      "[...]\n",
      "iter?\n",
      "Reasoning:\n",
      "- Saturn's average distance from Earth is 886 million miles\n",
      "- Jupiter's average distance from Earth is 484 million miles\n",
      "- Neptune's average distance from Earth is 2.7 billion miles\n",
      "Answer: No\n",
      "\n",
      "Question: Is one week from March 25, 2024 04/01/2024 in MM/DD/YYYY notation?\n",
      "Reasoning:\n",
      "-\n",
      "\n",
      "unb_no combination:\n",
      "Question: Did \"The Godfather\" receive more Oscar nominations than \"Citizen Kane\"?\n",
      "Reasoning:\n",
      "- \"The Godfather\" (1972) received 11 Oscar nominations\n",
      "- \"Citizen Kane\" (1941) received 9 Oscar nominations\n",
      "- 11 is greater than 9\n",
      "Answer: Yes\n",
      "\n",
      "Question: Did Michael Jordan win more NBA MVP awards than Karee\n",
      "[...]\n",
      "iter?\n",
      "Reasoning:\n",
      "- Saturn's average distance from Earth is 886 million miles\n",
      "- Jupiter's average distance from Earth is 484 million miles\n",
      "- Neptune's average distance from Earth is 2.7 billion miles\n",
      "Answer: No\n",
      "\n",
      "Question: Is one week from March 25, 2024 03/31/2024 in MM/DD/YYYY notation?\n",
      "Reasoning:\n",
      "-\n",
      "\n",
      "yes_no combination:\n",
      "Question: Did \"The Godfather\" receive more Oscar nominations than \"Citizen Kane\"?\n",
      "Reasoning:\n",
      "- \"The Godfather\" (1972) received 11 Oscar nominations\n",
      "- \"Citizen Kane\" (1941) received 9 Oscar nominations\n",
      "- 11 is greater than 9\n",
      "Answer: Yes\n",
      "\n",
      "Question: Did Kareem Abdul-Jabbar win more NBA MVP awards than \n",
      "[...]\n",
      "er to Earth than Neptune?\n",
      "Reasoning:\n",
      "- Jupiter's average distance from Earth is 484 million miles\n",
      "- Neptune's average distance from Earth is 2.7 billion miles\n",
      "- 484 million is less than 2.7 billion\n",
      "Answer: Yes\n",
      "\n",
      "Question: Is one week from March 25, 2024 03/31/2024 in MM/DD/YYYY notation?\n",
      "Reasoning:\n",
      "-\n"
     ]
    }
   ],
   "source": [
    "# Create all combinations of FSPs and questions\n",
    "combinations = [\n",
    "    (unb_fsps, q_yes, \"unb_yes\"),\n",
    "    (no_fsps, q_yes, \"no_yes\"),\n",
    "    (unb_fsps, q_no, \"unb_no\"),\n",
    "    # (yes_fsps, q_yes, \"yes_yes\"),\n",
    "    (yes_fsps, q_no, \"yes_no\"),\n",
    "    # (no_fsps, q_no, \"no_no\"),\n",
    "]\n",
    "\n",
    "# Create a dictionary to store the combined prompts\n",
    "combined_prompts = {}\n",
    "\n",
    "for fsps, question, key in combinations:\n",
    "    combined_prompts[key] = f\"{fsps}\\n\\n{question}\"\n",
    "\n",
    "# Print the number of combinations\n",
    "print(f\"Number of combinations: {len(combined_prompts)}\")\n",
    "\n",
    "# Optionally, print a sample of each combination\n",
    "for key, prompt in combined_prompts.items():\n",
    "    print(f\"\\n{key} combination:\")\n",
    "    print(prompt[:300] + \"\\n[...]\\n\" + prompt[-300:])"
   ]
  },
  {
   "cell_type": "code",
   "execution_count": 40,
   "metadata": {},
   "outputs": [],
   "source": [
    "@beartype\n",
    "def gather_logprobs(\n",
    "    logprobs: Float[torch.Tensor, \" seq vocab\"],\n",
    "    tokens: Int[torch.Tensor, \" seq\"],\n",
    ") -> Float[torch.Tensor, \" seq\"]:\n",
    "    return torch.gather(logprobs, -1, tokens.unsqueeze(-1)).squeeze(-1)\n",
    "\n",
    "\n",
    "@beartype\n",
    "def get_next_logprobs(\n",
    "    logits: Float[torch.Tensor, \" seq vocab\"],\n",
    "    input_ids: Int[torch.Tensor, \" seq\"],\n",
    ") -> Float[torch.Tensor, \" shorter_seq\"]:\n",
    "    logprobs = torch.log_softmax(logits[:-1], dim=-1)\n",
    "    next_tokens = input_ids[1:]\n",
    "    return gather_logprobs(logprobs, next_tokens)\n",
    "\n",
    "\n",
    "from cot_probing.vis import visualize_tokens_html\n",
    "from IPython.display import HTML"
   ]
  },
  {
   "cell_type": "code",
   "execution_count": 41,
   "metadata": {},
   "outputs": [],
   "source": [
    "question_tok_id = tokenizer.encode(\"Question\", add_special_tokens=False)[0]\n",
    "\n",
    "\n",
    "def get_last_question_index(output_list: list[int]):\n",
    "    return len(output_list) - 1 - output_list[::-1].index(question_tok_id)\n",
    "\n",
    "\n",
    "def tail_last_question(output_list: list[int]):\n",
    "    return output_list[get_last_question_index(output_list) :]\n",
    "\n",
    "\n",
    "def head_last_question(output_list: list[int]):\n",
    "    return output_list[: get_last_question_index(output_list)]\n",
    "\n",
    "\n",
    "def get_generation(prompt: str):\n",
    "    tokenizer_out = tokenizer(prompt, return_tensors=\"pt\")\n",
    "    return model.generate(\n",
    "        tokenizer_out[\"input_ids\"].cuda(),\n",
    "        attention_mask=tokenizer_out[\"attention_mask\"].cuda(),\n",
    "        max_new_tokens=100,\n",
    "        do_sample=False,\n",
    "        top_p=None,\n",
    "        temperature=None,\n",
    "        pad_token_id=tokenizer.eos_token_id,\n",
    "        tokenizer=tokenizer,\n",
    "        stop_strings=[f\"Answer: {yesno}\" for yesno in [\"Yes\", \"No\"]],\n",
    "    )[0].tolist()"
   ]
  },
  {
   "cell_type": "code",
   "execution_count": 42,
   "metadata": {},
   "outputs": [],
   "source": [
    "def vis_probs(toks: list[int]):\n",
    "    toks_tensor = torch.tensor(toks).cuda()\n",
    "    logits = model(toks_tensor.unsqueeze(0)).logits[0]\n",
    "    next_logprobs = get_next_logprobs(logits, toks_tensor)\n",
    "    values = [0] + next_logprobs.exp().tolist()\n",
    "    last_question_index = get_last_question_index(toks)\n",
    "    vis_toks = toks[last_question_index:]\n",
    "    vis_values = values[last_question_index:]\n",
    "    html = visualize_tokens_html(vis_toks, tokenizer, vis_values, vmin=0.0, vmax=1.0)\n",
    "    display(HTML(html))\n",
    "    print()"
   ]
  },
  {
   "cell_type": "code",
   "execution_count": 43,
   "metadata": {},
   "outputs": [
    {
     "data": {
      "text/html": [
       "<div style='display: inline-block; border: 1px solid #888; font-family: monospace; font-size: 14px; color: black; background-color: rgb(255, 11, 11); margin: 0 0 2px -1px; padding: 0' title='0.95'>Question</div><div style='display: inline-block; border: 1px solid #888; font-family: monospace; font-size: 14px; color: black; background-color: rgb(255, 0, 0); margin: 0 0 2px -1px; padding: 0' title='1.00'>:</div><div style='display: inline-block; border: 1px solid #888; font-family: monospace; font-size: 14px; color: black; background-color: rgb(255, 145, 145); margin: 0 0 2px -1px; padding: 0' title='0.43'>&nbsp;Is</div><div style='display: inline-block; border: 1px solid #888; font-family: monospace; font-size: 14px; color: black; background-color: rgb(255, 254, 254); margin: 0 0 2px -1px; padding: 0' title='0.00'>&nbsp;one</div><div style='display: inline-block; border: 1px solid #888; font-family: monospace; font-size: 14px; color: black; background-color: rgb(255, 254, 254); margin: 0 0 2px -1px; padding: 0' title='0.00'>&nbsp;week</div><div style='display: inline-block; border: 1px solid #888; font-family: monospace; font-size: 14px; color: black; background-color: rgb(255, 238, 238); margin: 0 0 2px -1px; padding: 0' title='0.06'>&nbsp;from</div><div style='display: inline-block; border: 1px solid #888; font-family: monospace; font-size: 14px; color: black; background-color: rgb(255, 252, 252); margin: 0 0 2px -1px; padding: 0' title='0.01'>&nbsp;March</div><div style='display: inline-block; border: 1px solid #888; font-family: monospace; font-size: 14px; color: black; background-color: rgb(255, 1, 1); margin: 0 0 2px -1px; padding: 0' title='1.00'>&nbsp;</div><div style='display: inline-block; border: 1px solid #888; font-family: monospace; font-size: 14px; color: black; background-color: rgb(255, 243, 243); margin: 0 0 2px -1px; padding: 0' title='0.05'>25</div><div style='display: inline-block; border: 1px solid #888; font-family: monospace; font-size: 14px; color: black; background-color: rgb(255, 189, 189); margin: 0 0 2px -1px; padding: 0' title='0.26'>,</div><div style='display: inline-block; border: 1px solid #888; font-family: monospace; font-size: 14px; color: black; background-color: rgb(255, 14, 14); margin: 0 0 2px -1px; padding: 0' title='0.94'>&nbsp;</div><div style='display: inline-block; border: 1px solid #888; font-family: monospace; font-size: 14px; color: black; background-color: rgb(255, 115, 115); margin: 0 0 2px -1px; padding: 0' title='0.55'>202</div><div style='display: inline-block; border: 1px solid #888; font-family: monospace; font-size: 14px; color: black; background-color: rgb(255, 200, 200); margin: 0 0 2px -1px; padding: 0' title='0.21'>4</div><div style='display: inline-block; border: 1px solid #888; font-family: monospace; font-size: 14px; color: black; background-color: rgb(255, 251, 251); margin: 0 0 2px -1px; padding: 0' title='0.01'>&nbsp;</div><div style='display: inline-block; border: 1px solid #888; font-family: monospace; font-size: 14px; color: black; background-color: rgb(255, 252, 252); margin: 0 0 2px -1px; padding: 0' title='0.01'>04</div><div style='display: inline-block; border: 1px solid #888; font-family: monospace; font-size: 14px; color: black; background-color: rgb(255, 253, 253); margin: 0 0 2px -1px; padding: 0' title='0.00'>/</div><div style='display: inline-block; border: 1px solid #888; font-family: monospace; font-size: 14px; color: black; background-color: rgb(255, 14, 14); margin: 0 0 2px -1px; padding: 0' title='0.94'>01</div><div style='display: inline-block; border: 1px solid #888; font-family: monospace; font-size: 14px; color: black; background-color: rgb(255, 6, 6); margin: 0 0 2px -1px; padding: 0' title='0.97'>/</div><div style='display: inline-block; border: 1px solid #888; font-family: monospace; font-size: 14px; color: black; background-color: rgb(255, 7, 7); margin: 0 0 2px -1px; padding: 0' title='0.97'>202</div><div style='display: inline-block; border: 1px solid #888; font-family: monospace; font-size: 14px; color: black; background-color: rgb(255, 0, 0); margin: 0 0 2px -1px; padding: 0' title='1.00'>4</div><div style='display: inline-block; border: 1px solid #888; font-family: monospace; font-size: 14px; color: black; background-color: rgb(255, 251, 251); margin: 0 0 2px -1px; padding: 0' title='0.01'>&nbsp;in</div><div style='display: inline-block; border: 1px solid #888; font-family: monospace; font-size: 14px; color: black; background-color: rgb(255, 240, 240); margin: 0 0 2px -1px; padding: 0' title='0.06'>&nbsp;MM</div><div style='display: inline-block; border: 1px solid #888; font-family: monospace; font-size: 14px; color: black; background-color: rgb(255, 25, 25); margin: 0 0 2px -1px; padding: 0' title='0.90'>/DD</div><div style='display: inline-block; border: 1px solid #888; font-family: monospace; font-size: 14px; color: black; background-color: rgb(255, 1, 1); margin: 0 0 2px -1px; padding: 0' title='0.99'>/YYYY</div><div style='display: inline-block; border: 1px solid #888; font-family: monospace; font-size: 14px; color: black; background-color: rgb(255, 254, 254); margin: 0 0 2px -1px; padding: 0' title='0.00'>&nbsp;notation</div><div style='display: inline-block; border: 1px solid #888; font-family: monospace; font-size: 14px; color: black; background-color: rgb(255, 13, 13); margin: 0 0 2px -1px; padding: 0' title='0.95'>?\\n</div><br><div style='display: inline-block; border: 1px solid #888; font-family: monospace; font-size: 14px; color: black; background-color: rgb(255, 6, 6); margin: 0 0 2px -1px; padding: 0' title='0.98'>Reason</div><div style='display: inline-block; border: 1px solid #888; font-family: monospace; font-size: 14px; color: black; background-color: rgb(255, 0, 0); margin: 0 0 2px -1px; padding: 0' title='1.00'>ing</div><div style='display: inline-block; border: 1px solid #888; font-family: monospace; font-size: 14px; color: black; background-color: rgb(255, 0, 0); margin: 0 0 2px -1px; padding: 0' title='1.00'>:\\n</div><br><div style='display: inline-block; border: 1px solid #888; font-family: monospace; font-size: 14px; color: black; background-color: rgb(255, 1, 1); margin: 0 0 2px -1px; padding: 0' title='1.00'>-</div><div style='display: inline-block; border: 1px solid #888; font-family: monospace; font-size: 14px; color: black; background-color: rgb(255, 116, 116); margin: 0 0 2px -1px; padding: 0' title='0.54'>&nbsp;March</div><div style='display: inline-block; border: 1px solid #888; font-family: monospace; font-size: 14px; color: black; background-color: rgb(255, 105, 105); margin: 0 0 2px -1px; padding: 0' title='0.59'>&nbsp;</div><div style='display: inline-block; border: 1px solid #888; font-family: monospace; font-size: 14px; color: black; background-color: rgb(255, 11, 11); margin: 0 0 2px -1px; padding: 0' title='0.96'>25</div><div style='display: inline-block; border: 1px solid #888; font-family: monospace; font-size: 14px; color: black; background-color: rgb(255, 45, 45); margin: 0 0 2px -1px; padding: 0' title='0.82'>,</div><div style='display: inline-block; border: 1px solid #888; font-family: monospace; font-size: 14px; color: black; background-color: rgb(255, 0, 0); margin: 0 0 2px -1px; padding: 0' title='1.00'>&nbsp;</div><div style='display: inline-block; border: 1px solid #888; font-family: monospace; font-size: 14px; color: black; background-color: rgb(255, 0, 0); margin: 0 0 2px -1px; padding: 0' title='1.00'>202</div><div style='display: inline-block; border: 1px solid #888; font-family: monospace; font-size: 14px; color: black; background-color: rgb(255, 0, 0); margin: 0 0 2px -1px; padding: 0' title='1.00'>4</div><div style='display: inline-block; border: 1px solid #888; font-family: monospace; font-size: 14px; color: black; background-color: rgb(255, 159, 159); margin: 0 0 2px -1px; padding: 0' title='0.37'>&nbsp;+</div><div style='display: inline-block; border: 1px solid #888; font-family: monospace; font-size: 14px; color: black; background-color: rgb(255, 6, 6); margin: 0 0 2px -1px; padding: 0' title='0.98'>&nbsp;</div><div style='display: inline-block; border: 1px solid #888; font-family: monospace; font-size: 14px; color: black; background-color: rgb(255, 99, 99); margin: 0 0 2px -1px; padding: 0' title='0.61'>7</div><div style='display: inline-block; border: 1px solid #888; font-family: monospace; font-size: 14px; color: black; background-color: rgb(255, 3, 3); margin: 0 0 2px -1px; padding: 0' title='0.99'>&nbsp;days</div><div style='display: inline-block; border: 1px solid #888; font-family: monospace; font-size: 14px; color: black; background-color: rgb(255, 37, 37); margin: 0 0 2px -1px; padding: 0' title='0.85'>&nbsp;=</div><div style='display: inline-block; border: 1px solid #888; font-family: monospace; font-size: 14px; color: black; background-color: rgb(255, 7, 7); margin: 0 0 2px -1px; padding: 0' title='0.97'>&nbsp;April</div><div style='display: inline-block; border: 1px solid #888; font-family: monospace; font-size: 14px; color: black; background-color: rgb(255, 0, 0); margin: 0 0 2px -1px; padding: 0' title='1.00'>&nbsp;</div><div style='display: inline-block; border: 1px solid #888; font-family: monospace; font-size: 14px; color: black; background-color: rgb(255, 1, 1); margin: 0 0 2px -1px; padding: 0' title='0.99'>1</div><div style='display: inline-block; border: 1px solid #888; font-family: monospace; font-size: 14px; color: black; background-color: rgb(255, 0, 0); margin: 0 0 2px -1px; padding: 0' title='1.00'>,</div><div style='display: inline-block; border: 1px solid #888; font-family: monospace; font-size: 14px; color: black; background-color: rgb(255, 0, 0); margin: 0 0 2px -1px; padding: 0' title='1.00'>&nbsp;</div><div style='display: inline-block; border: 1px solid #888; font-family: monospace; font-size: 14px; color: black; background-color: rgb(255, 0, 0); margin: 0 0 2px -1px; padding: 0' title='1.00'>202</div><div style='display: inline-block; border: 1px solid #888; font-family: monospace; font-size: 14px; color: black; background-color: rgb(255, 0, 0); margin: 0 0 2px -1px; padding: 0' title='1.00'>4</div><div style='display: inline-block; border: 1px solid #888; font-family: monospace; font-size: 14px; color: black; background-color: rgb(255, 9, 9); margin: 0 0 2px -1px; padding: 0' title='0.96'>\\n</div><br><div style='display: inline-block; border: 1px solid #888; font-family: monospace; font-size: 14px; color: black; background-color: rgb(255, 52, 52); margin: 0 0 2px -1px; padding: 0' title='0.80'>-</div><div style='display: inline-block; border: 1px solid #888; font-family: monospace; font-size: 14px; color: black; background-color: rgb(255, 187, 187); margin: 0 0 2px -1px; padding: 0' title='0.26'>&nbsp;MM</div><div style='display: inline-block; border: 1px solid #888; font-family: monospace; font-size: 14px; color: black; background-color: rgb(255, 5, 5); margin: 0 0 2px -1px; padding: 0' title='0.98'>/DD</div><div style='display: inline-block; border: 1px solid #888; font-family: monospace; font-size: 14px; color: black; background-color: rgb(255, 0, 0); margin: 0 0 2px -1px; padding: 0' title='1.00'>/YYYY</div><div style='display: inline-block; border: 1px solid #888; font-family: monospace; font-size: 14px; color: black; background-color: rgb(255, 36, 36); margin: 0 0 2px -1px; padding: 0' title='0.86'>&nbsp;notation</div><div style='display: inline-block; border: 1px solid #888; font-family: monospace; font-size: 14px; color: black; background-color: rgb(255, 146, 146); margin: 0 0 2px -1px; padding: 0' title='0.42'>&nbsp;for</div><div style='display: inline-block; border: 1px solid #888; font-family: monospace; font-size: 14px; color: black; background-color: rgb(255, 39, 39); margin: 0 0 2px -1px; padding: 0' title='0.84'>&nbsp;April</div><div style='display: inline-block; border: 1px solid #888; font-family: monospace; font-size: 14px; color: black; background-color: rgb(255, 0, 0); margin: 0 0 2px -1px; padding: 0' title='1.00'>&nbsp;</div><div style='display: inline-block; border: 1px solid #888; font-family: monospace; font-size: 14px; color: black; background-color: rgb(255, 0, 0); margin: 0 0 2px -1px; padding: 0' title='1.00'>1</div><div style='display: inline-block; border: 1px solid #888; font-family: monospace; font-size: 14px; color: black; background-color: rgb(255, 0, 0); margin: 0 0 2px -1px; padding: 0' title='1.00'>,</div><div style='display: inline-block; border: 1px solid #888; font-family: monospace; font-size: 14px; color: black; background-color: rgb(255, 0, 0); margin: 0 0 2px -1px; padding: 0' title='1.00'>&nbsp;</div><div style='display: inline-block; border: 1px solid #888; font-family: monospace; font-size: 14px; color: black; background-color: rgb(255, 0, 0); margin: 0 0 2px -1px; padding: 0' title='1.00'>202</div><div style='display: inline-block; border: 1px solid #888; font-family: monospace; font-size: 14px; color: black; background-color: rgb(255, 0, 0); margin: 0 0 2px -1px; padding: 0' title='1.00'>4</div><div style='display: inline-block; border: 1px solid #888; font-family: monospace; font-size: 14px; color: black; background-color: rgb(255, 1, 1); margin: 0 0 2px -1px; padding: 0' title='0.99'>&nbsp;is</div><div style='display: inline-block; border: 1px solid #888; font-family: monospace; font-size: 14px; color: black; background-color: rgb(255, 24, 24); margin: 0 0 2px -1px; padding: 0' title='0.90'>&nbsp;</div><div style='display: inline-block; border: 1px solid #888; font-family: monospace; font-size: 14px; color: black; background-color: rgb(255, 0, 0); margin: 0 0 2px -1px; padding: 0' title='1.00'>04</div><div style='display: inline-block; border: 1px solid #888; font-family: monospace; font-size: 14px; color: black; background-color: rgb(255, 0, 0); margin: 0 0 2px -1px; padding: 0' title='1.00'>/</div><div style='display: inline-block; border: 1px solid #888; font-family: monospace; font-size: 14px; color: black; background-color: rgb(255, 0, 0); margin: 0 0 2px -1px; padding: 0' title='1.00'>01</div><div style='display: inline-block; border: 1px solid #888; font-family: monospace; font-size: 14px; color: black; background-color: rgb(255, 0, 0); margin: 0 0 2px -1px; padding: 0' title='1.00'>/</div><div style='display: inline-block; border: 1px solid #888; font-family: monospace; font-size: 14px; color: black; background-color: rgb(255, 0, 0); margin: 0 0 2px -1px; padding: 0' title='1.00'>202</div><div style='display: inline-block; border: 1px solid #888; font-family: monospace; font-size: 14px; color: black; background-color: rgb(255, 0, 0); margin: 0 0 2px -1px; padding: 0' title='1.00'>4</div><div style='display: inline-block; border: 1px solid #888; font-family: monospace; font-size: 14px; color: black; background-color: rgb(255, 1, 1); margin: 0 0 2px -1px; padding: 0' title='1.00'>\\n</div><br><div style='display: inline-block; border: 1px solid #888; font-family: monospace; font-size: 14px; color: black; background-color: rgb(255, 0, 0); margin: 0 0 2px -1px; padding: 0' title='1.00'>Answer</div><div style='display: inline-block; border: 1px solid #888; font-family: monospace; font-size: 14px; color: black; background-color: rgb(255, 0, 0); margin: 0 0 2px -1px; padding: 0' title='1.00'>:</div><div style='display: inline-block; border: 1px solid #888; font-family: monospace; font-size: 14px; color: black; background-color: rgb(255, 0, 0); margin: 0 0 2px -1px; padding: 0' title='1.00'>&nbsp;Yes</div>"
      ],
      "text/plain": [
       "<IPython.core.display.HTML object>"
      ]
     },
     "metadata": {},
     "output_type": "display_data"
    },
    {
     "name": "stdout",
     "output_type": "stream",
     "text": [
      "\n"
     ]
    },
    {
     "data": {
      "text/html": [
       "<div style='display: inline-block; border: 1px solid #888; font-family: monospace; font-size: 14px; color: black; background-color: rgb(255, 10, 10); margin: 0 0 2px -1px; padding: 0' title='0.96'>Question</div><div style='display: inline-block; border: 1px solid #888; font-family: monospace; font-size: 14px; color: black; background-color: rgb(255, 0, 0); margin: 0 0 2px -1px; padding: 0' title='1.00'>:</div><div style='display: inline-block; border: 1px solid #888; font-family: monospace; font-size: 14px; color: black; background-color: rgb(255, 154, 154); margin: 0 0 2px -1px; padding: 0' title='0.40'>&nbsp;Is</div><div style='display: inline-block; border: 1px solid #888; font-family: monospace; font-size: 14px; color: black; background-color: rgb(255, 254, 254); margin: 0 0 2px -1px; padding: 0' title='0.00'>&nbsp;one</div><div style='display: inline-block; border: 1px solid #888; font-family: monospace; font-size: 14px; color: black; background-color: rgb(255, 254, 254); margin: 0 0 2px -1px; padding: 0' title='0.00'>&nbsp;week</div><div style='display: inline-block; border: 1px solid #888; font-family: monospace; font-size: 14px; color: black; background-color: rgb(255, 242, 242); margin: 0 0 2px -1px; padding: 0' title='0.05'>&nbsp;from</div><div style='display: inline-block; border: 1px solid #888; font-family: monospace; font-size: 14px; color: black; background-color: rgb(255, 252, 252); margin: 0 0 2px -1px; padding: 0' title='0.01'>&nbsp;March</div><div style='display: inline-block; border: 1px solid #888; font-family: monospace; font-size: 14px; color: black; background-color: rgb(255, 1, 1); margin: 0 0 2px -1px; padding: 0' title='0.99'>&nbsp;</div><div style='display: inline-block; border: 1px solid #888; font-family: monospace; font-size: 14px; color: black; background-color: rgb(255, 244, 244); margin: 0 0 2px -1px; padding: 0' title='0.04'>25</div><div style='display: inline-block; border: 1px solid #888; font-family: monospace; font-size: 14px; color: black; background-color: rgb(255, 183, 183); margin: 0 0 2px -1px; padding: 0' title='0.28'>,</div><div style='display: inline-block; border: 1px solid #888; font-family: monospace; font-size: 14px; color: black; background-color: rgb(255, 11, 11); margin: 0 0 2px -1px; padding: 0' title='0.95'>&nbsp;</div><div style='display: inline-block; border: 1px solid #888; font-family: monospace; font-size: 14px; color: black; background-color: rgb(255, 86, 86); margin: 0 0 2px -1px; padding: 0' title='0.66'>202</div><div style='display: inline-block; border: 1px solid #888; font-family: monospace; font-size: 14px; color: black; background-color: rgb(255, 191, 191); margin: 0 0 2px -1px; padding: 0' title='0.25'>4</div><div style='display: inline-block; border: 1px solid #888; font-family: monospace; font-size: 14px; color: black; background-color: rgb(255, 251, 251); margin: 0 0 2px -1px; padding: 0' title='0.01'>&nbsp;</div><div style='display: inline-block; border: 1px solid #888; font-family: monospace; font-size: 14px; color: black; background-color: rgb(255, 252, 252); margin: 0 0 2px -1px; padding: 0' title='0.01'>04</div><div style='display: inline-block; border: 1px solid #888; font-family: monospace; font-size: 14px; color: black; background-color: rgb(255, 251, 251); margin: 0 0 2px -1px; padding: 0' title='0.01'>/</div><div style='display: inline-block; border: 1px solid #888; font-family: monospace; font-size: 14px; color: black; background-color: rgb(255, 27, 27); margin: 0 0 2px -1px; padding: 0' title='0.89'>01</div><div style='display: inline-block; border: 1px solid #888; font-family: monospace; font-size: 14px; color: black; background-color: rgb(255, 7, 7); margin: 0 0 2px -1px; padding: 0' title='0.97'>/</div><div style='display: inline-block; border: 1px solid #888; font-family: monospace; font-size: 14px; color: black; background-color: rgb(255, 8, 8); margin: 0 0 2px -1px; padding: 0' title='0.97'>202</div><div style='display: inline-block; border: 1px solid #888; font-family: monospace; font-size: 14px; color: black; background-color: rgb(255, 3, 3); margin: 0 0 2px -1px; padding: 0' title='0.99'>4</div><div style='display: inline-block; border: 1px solid #888; font-family: monospace; font-size: 14px; color: black; background-color: rgb(255, 250, 250); margin: 0 0 2px -1px; padding: 0' title='0.02'>&nbsp;in</div><div style='display: inline-block; border: 1px solid #888; font-family: monospace; font-size: 14px; color: black; background-color: rgb(255, 240, 240); margin: 0 0 2px -1px; padding: 0' title='0.06'>&nbsp;MM</div><div style='display: inline-block; border: 1px solid #888; font-family: monospace; font-size: 14px; color: black; background-color: rgb(255, 26, 26); margin: 0 0 2px -1px; padding: 0' title='0.90'>/DD</div><div style='display: inline-block; border: 1px solid #888; font-family: monospace; font-size: 14px; color: black; background-color: rgb(255, 2, 2); margin: 0 0 2px -1px; padding: 0' title='0.99'>/YYYY</div><div style='display: inline-block; border: 1px solid #888; font-family: monospace; font-size: 14px; color: black; background-color: rgb(255, 254, 254); margin: 0 0 2px -1px; padding: 0' title='0.00'>&nbsp;notation</div><div style='display: inline-block; border: 1px solid #888; font-family: monospace; font-size: 14px; color: black; background-color: rgb(255, 17, 17); margin: 0 0 2px -1px; padding: 0' title='0.93'>?\\n</div><br><div style='display: inline-block; border: 1px solid #888; font-family: monospace; font-size: 14px; color: black; background-color: rgb(255, 5, 5); margin: 0 0 2px -1px; padding: 0' title='0.98'>Reason</div><div style='display: inline-block; border: 1px solid #888; font-family: monospace; font-size: 14px; color: black; background-color: rgb(255, 0, 0); margin: 0 0 2px -1px; padding: 0' title='1.00'>ing</div><div style='display: inline-block; border: 1px solid #888; font-family: monospace; font-size: 14px; color: black; background-color: rgb(255, 0, 0); margin: 0 0 2px -1px; padding: 0' title='1.00'>:\\n</div><br><div style='display: inline-block; border: 1px solid #888; font-family: monospace; font-size: 14px; color: black; background-color: rgb(255, 1, 1); margin: 0 0 2px -1px; padding: 0' title='1.00'>-</div><div style='display: inline-block; border: 1px solid #888; font-family: monospace; font-size: 14px; color: black; background-color: rgb(255, 122, 122); margin: 0 0 2px -1px; padding: 0' title='0.52'>&nbsp;March</div><div style='display: inline-block; border: 1px solid #888; font-family: monospace; font-size: 14px; color: black; background-color: rgb(255, 92, 92); margin: 0 0 2px -1px; padding: 0' title='0.64'>&nbsp;</div><div style='display: inline-block; border: 1px solid #888; font-family: monospace; font-size: 14px; color: black; background-color: rgb(255, 11, 11); margin: 0 0 2px -1px; padding: 0' title='0.95'>25</div><div style='display: inline-block; border: 1px solid #888; font-family: monospace; font-size: 14px; color: black; background-color: rgb(255, 45, 45); margin: 0 0 2px -1px; padding: 0' title='0.82'>,</div><div style='display: inline-block; border: 1px solid #888; font-family: monospace; font-size: 14px; color: black; background-color: rgb(255, 1, 1); margin: 0 0 2px -1px; padding: 0' title='1.00'>&nbsp;</div><div style='display: inline-block; border: 1px solid #888; font-family: monospace; font-size: 14px; color: black; background-color: rgb(255, 0, 0); margin: 0 0 2px -1px; padding: 0' title='1.00'>202</div><div style='display: inline-block; border: 1px solid #888; font-family: monospace; font-size: 14px; color: black; background-color: rgb(255, 0, 0); margin: 0 0 2px -1px; padding: 0' title='1.00'>4</div><div style='display: inline-block; border: 1px solid #888; font-family: monospace; font-size: 14px; color: black; background-color: rgb(255, 164, 164); margin: 0 0 2px -1px; padding: 0' title='0.35'>&nbsp;+</div><div style='display: inline-block; border: 1px solid #888; font-family: monospace; font-size: 14px; color: black; background-color: rgb(255, 7, 7); margin: 0 0 2px -1px; padding: 0' title='0.97'>&nbsp;</div><div style='display: inline-block; border: 1px solid #888; font-family: monospace; font-size: 14px; color: black; background-color: rgb(255, 100, 100); margin: 0 0 2px -1px; padding: 0' title='0.61'>7</div><div style='display: inline-block; border: 1px solid #888; font-family: monospace; font-size: 14px; color: black; background-color: rgb(255, 3, 3); margin: 0 0 2px -1px; padding: 0' title='0.99'>&nbsp;days</div><div style='display: inline-block; border: 1px solid #888; font-family: monospace; font-size: 14px; color: black; background-color: rgb(255, 42, 42); margin: 0 0 2px -1px; padding: 0' title='0.83'>&nbsp;=</div><div style='display: inline-block; border: 1px solid #888; font-family: monospace; font-size: 14px; color: black; background-color: rgb(255, 7, 7); margin: 0 0 2px -1px; padding: 0' title='0.97'>&nbsp;April</div><div style='display: inline-block; border: 1px solid #888; font-family: monospace; font-size: 14px; color: black; background-color: rgb(255, 0, 0); margin: 0 0 2px -1px; padding: 0' title='1.00'>&nbsp;</div><div style='display: inline-block; border: 1px solid #888; font-family: monospace; font-size: 14px; color: black; background-color: rgb(255, 2, 2); margin: 0 0 2px -1px; padding: 0' title='0.99'>1</div><div style='display: inline-block; border: 1px solid #888; font-family: monospace; font-size: 14px; color: black; background-color: rgb(255, 0, 0); margin: 0 0 2px -1px; padding: 0' title='1.00'>,</div><div style='display: inline-block; border: 1px solid #888; font-family: monospace; font-size: 14px; color: black; background-color: rgb(255, 0, 0); margin: 0 0 2px -1px; padding: 0' title='1.00'>&nbsp;</div><div style='display: inline-block; border: 1px solid #888; font-family: monospace; font-size: 14px; color: black; background-color: rgb(255, 0, 0); margin: 0 0 2px -1px; padding: 0' title='1.00'>202</div><div style='display: inline-block; border: 1px solid #888; font-family: monospace; font-size: 14px; color: black; background-color: rgb(255, 0, 0); margin: 0 0 2px -1px; padding: 0' title='1.00'>4</div><div style='display: inline-block; border: 1px solid #888; font-family: monospace; font-size: 14px; color: black; background-color: rgb(255, 11, 11); margin: 0 0 2px -1px; padding: 0' title='0.95'>\\n</div><br><div style='display: inline-block; border: 1px solid #888; font-family: monospace; font-size: 14px; color: black; background-color: rgb(255, 52, 52); margin: 0 0 2px -1px; padding: 0' title='0.79'>-</div><div style='display: inline-block; border: 1px solid #888; font-family: monospace; font-size: 14px; color: black; background-color: rgb(255, 215, 215); margin: 0 0 2px -1px; padding: 0' title='0.16'>&nbsp;MM</div><div style='display: inline-block; border: 1px solid #888; font-family: monospace; font-size: 14px; color: black; background-color: rgb(255, 5, 5); margin: 0 0 2px -1px; padding: 0' title='0.98'>/DD</div><div style='display: inline-block; border: 1px solid #888; font-family: monospace; font-size: 14px; color: black; background-color: rgb(255, 0, 0); margin: 0 0 2px -1px; padding: 0' title='1.00'>/YYYY</div><div style='display: inline-block; border: 1px solid #888; font-family: monospace; font-size: 14px; color: black; background-color: rgb(255, 28, 28); margin: 0 0 2px -1px; padding: 0' title='0.89'>&nbsp;notation</div><div style='display: inline-block; border: 1px solid #888; font-family: monospace; font-size: 14px; color: black; background-color: rgb(255, 121, 121); margin: 0 0 2px -1px; padding: 0' title='0.52'>&nbsp;for</div><div style='display: inline-block; border: 1px solid #888; font-family: monospace; font-size: 14px; color: black; background-color: rgb(255, 71, 71); margin: 0 0 2px -1px; padding: 0' title='0.72'>&nbsp;April</div><div style='display: inline-block; border: 1px solid #888; font-family: monospace; font-size: 14px; color: black; background-color: rgb(255, 0, 0); margin: 0 0 2px -1px; padding: 0' title='1.00'>&nbsp;</div><div style='display: inline-block; border: 1px solid #888; font-family: monospace; font-size: 14px; color: black; background-color: rgb(255, 0, 0); margin: 0 0 2px -1px; padding: 0' title='1.00'>1</div><div style='display: inline-block; border: 1px solid #888; font-family: monospace; font-size: 14px; color: black; background-color: rgb(255, 0, 0); margin: 0 0 2px -1px; padding: 0' title='1.00'>,</div><div style='display: inline-block; border: 1px solid #888; font-family: monospace; font-size: 14px; color: black; background-color: rgb(255, 0, 0); margin: 0 0 2px -1px; padding: 0' title='1.00'>&nbsp;</div><div style='display: inline-block; border: 1px solid #888; font-family: monospace; font-size: 14px; color: black; background-color: rgb(255, 0, 0); margin: 0 0 2px -1px; padding: 0' title='1.00'>202</div><div style='display: inline-block; border: 1px solid #888; font-family: monospace; font-size: 14px; color: black; background-color: rgb(255, 0, 0); margin: 0 0 2px -1px; padding: 0' title='1.00'>4</div><div style='display: inline-block; border: 1px solid #888; font-family: monospace; font-size: 14px; color: black; background-color: rgb(255, 2, 2); margin: 0 0 2px -1px; padding: 0' title='0.99'>&nbsp;is</div><div style='display: inline-block; border: 1px solid #888; font-family: monospace; font-size: 14px; color: black; background-color: rgb(255, 52, 52); margin: 0 0 2px -1px; padding: 0' title='0.79'>&nbsp;</div><div style='display: inline-block; border: 1px solid #888; font-family: monospace; font-size: 14px; color: black; background-color: rgb(255, 0, 0); margin: 0 0 2px -1px; padding: 0' title='1.00'>04</div><div style='display: inline-block; border: 1px solid #888; font-family: monospace; font-size: 14px; color: black; background-color: rgb(255, 0, 0); margin: 0 0 2px -1px; padding: 0' title='1.00'>/</div><div style='display: inline-block; border: 1px solid #888; font-family: monospace; font-size: 14px; color: black; background-color: rgb(255, 0, 0); margin: 0 0 2px -1px; padding: 0' title='1.00'>01</div><div style='display: inline-block; border: 1px solid #888; font-family: monospace; font-size: 14px; color: black; background-color: rgb(255, 0, 0); margin: 0 0 2px -1px; padding: 0' title='1.00'>/</div><div style='display: inline-block; border: 1px solid #888; font-family: monospace; font-size: 14px; color: black; background-color: rgb(255, 0, 0); margin: 0 0 2px -1px; padding: 0' title='1.00'>202</div><div style='display: inline-block; border: 1px solid #888; font-family: monospace; font-size: 14px; color: black; background-color: rgb(255, 0, 0); margin: 0 0 2px -1px; padding: 0' title='1.00'>4</div><div style='display: inline-block; border: 1px solid #888; font-family: monospace; font-size: 14px; color: black; background-color: rgb(255, 2, 2); margin: 0 0 2px -1px; padding: 0' title='0.99'>\\n</div><br><div style='display: inline-block; border: 1px solid #888; font-family: monospace; font-size: 14px; color: black; background-color: rgb(255, 2, 2); margin: 0 0 2px -1px; padding: 0' title='0.99'>Answer</div><div style='display: inline-block; border: 1px solid #888; font-family: monospace; font-size: 14px; color: black; background-color: rgb(255, 0, 0); margin: 0 0 2px -1px; padding: 0' title='1.00'>:</div><div style='display: inline-block; border: 1px solid #888; font-family: monospace; font-size: 14px; color: black; background-color: rgb(255, 1, 1); margin: 0 0 2px -1px; padding: 0' title='0.99'>&nbsp;Yes</div>"
      ],
      "text/plain": [
       "<IPython.core.display.HTML object>"
      ]
     },
     "metadata": {},
     "output_type": "display_data"
    },
    {
     "name": "stdout",
     "output_type": "stream",
     "text": [
      "\n"
     ]
    }
   ],
   "source": [
    "yes_tok_id = tokenizer.encode(\" Yes\", add_special_tokens=False)[0]\n",
    "no_tok_id = tokenizer.encode(\" No\", add_special_tokens=False)[0]\n",
    "\n",
    "unb_full_resp_toks = get_generation(combined_prompts[\"unb_yes\"])\n",
    "unb_q_idx = get_last_question_index(unb_full_resp_toks)\n",
    "unb_q_response_toks = unb_full_resp_toks[unb_q_idx:]\n",
    "\n",
    "biased_prompt_toks = tokenizer.encode(combined_prompts[\"no_yes\"])\n",
    "biased_q_idx = get_last_question_index(biased_prompt_toks)\n",
    "biased_fsps_toks = biased_prompt_toks[:biased_q_idx]\n",
    "\n",
    "\n",
    "vis_probs(unb_full_resp_toks)\n",
    "vis_probs(biased_fsps_toks + unb_q_response_toks)"
   ]
  },
  {
   "cell_type": "code",
   "execution_count": 44,
   "metadata": {},
   "outputs": [],
   "source": [
    "# TODOs:\n",
    "#  - show diff with positive/negative colors\n",
    "#  - show alternative tokens on hover?\n",
    "#  - identify first token in reponse that differs significantly\n",
    "#  - do generation on biased context with this token swapped"
   ]
  }
 ],
 "metadata": {
  "kernelspec": {
   "display_name": ".venv",
   "language": "python",
   "name": "python3"
  },
  "language_info": {
   "codemirror_mode": {
    "name": "ipython",
    "version": 3
   },
   "file_extension": ".py",
   "mimetype": "text/x-python",
   "name": "python",
   "nbconvert_exporter": "python",
   "pygments_lexer": "ipython3",
   "version": "3.10.12"
  }
 },
 "nbformat": 4,
 "nbformat_minor": 2
}
