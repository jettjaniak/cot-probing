{
 "cells": [
  {
   "cell_type": "code",
   "execution_count": 26,
   "metadata": {},
   "outputs": [
    {
     "name": "stdout",
     "output_type": "stream",
     "text": [
      "env: CUBLAS_WORKSPACE_CONFIG=:4096:8\n",
      "The autoreload extension is already loaded. To reload it, use:\n",
      "  %reload_ext autoreload\n"
     ]
    },
    {
     "name": "stderr",
     "output_type": "stream",
     "text": [
      "Unused kwargs: ['_load_in_4bit', '_load_in_8bit', 'quant_method']. These kwargs are not used in <class 'transformers.utils.quantization_config.BitsAndBytesConfig'>.\n"
     ]
    },
    {
     "data": {
      "application/vnd.jupyter.widget-view+json": {
       "model_id": "e9507359cc2c40fab12409f69d7021ea",
       "version_major": 2,
       "version_minor": 0
      },
      "text/plain": [
       "Loading checkpoint shards:   0%|          | 0/2 [00:00<?, ?it/s]"
      ]
     },
     "metadata": {},
     "output_type": "display_data"
    }
   ],
   "source": [
    "%env CUBLAS_WORKSPACE_CONFIG=:4096:8\n",
    "%load_ext autoreload\n",
    "%autoreload 2\n",
    "import torch\n",
    "torch.manual_seed(42)\n",
    "torch.cuda.manual_seed_all(42)\n",
    "torch.use_deterministic_algorithms(True)\n",
    "torch.backends.cudnn.benchmark = False\n",
    "from cot_probing.typing import *\n",
    "import random\n",
    "from transformers import AutoModelForCausalLM, AutoTokenizer, BitsAndBytesConfig\n",
    "from beartype import beartype\n",
    "\n",
    "\n",
    "# model_id = \"hugging-quants/Meta-Llama-3.1-70B-BNB-NF4-BF16\"\n",
    "model_id = \"hugging-quants/Meta-Llama-3.1-8B-Instruct-BNB-NF4\"\n",
    "tokenizer = AutoTokenizer.from_pretrained(model_id)\n",
    "model = AutoModelForCausalLM.from_pretrained(\n",
    "  model_id,\n",
    "  torch_dtype=torch.bfloat16,\n",
    "  low_cpu_mem_usage=True,\n",
    "  device_map=\"cuda\",\n",
    ")"
   ]
  },
  {
   "cell_type": "code",
   "execution_count": 62,
   "metadata": {},
   "outputs": [],
   "source": [
    "from collections import deque\n",
    "\n",
    "final_tokens = tokenizer.encode(\"Answer:\")\n",
    "\n",
    "\n",
    "def get_logits_and_cache(prompt_toks):\n",
    "    with torch.inference_mode():\n",
    "        outputs = model(torch.tensor([prompt_toks]).cuda(), use_cache=True)\n",
    "        return outputs.logits[0, -1].clone(), outputs.past_key_values\n",
    "\n",
    "\n",
    "def hf_generate(prompt: str, max_new_tokens: int):\n",
    "    prompt_toks = tokenizer.encode(prompt)\n",
    "    prompt_len = len(prompt_toks)\n",
    "    return model.generate(\n",
    "        torch.tensor([prompt_toks]).cuda(),\n",
    "        max_new_tokens=max_new_tokens,\n",
    "        do_sample=False,\n",
    "        top_p=None,\n",
    "        temperature=None,\n",
    "        pad_token_id=tokenizer.eos_token_id,\n",
    "        tokenizer=tokenizer,\n",
    "        stop_strings=[\"Answer: Yes\", \"Answer: No\"],\n",
    "    )[0, prompt_len:].tolist()\n",
    "\n",
    "\n",
    "def manual_generate(prompt: str, max_new_tokens: int):\n",
    "    prompt_toks = tokenizer.encode(prompt)\n",
    "    prompt_len = len(prompt_toks)\n",
    "    logits, past_key_values = get_logits_and_cache(prompt_toks)\n",
    "    tok_deque = deque(maxlen=2)\n",
    "    with torch.inference_mode():\n",
    "        for _ in range(max_new_tokens - 1):\n",
    "            next_token = torch.argmax(logits).item()\n",
    "            prompt_toks.append(next_token)\n",
    "            tok_deque.append(next_token)\n",
    "            outputs = model(\n",
    "                torch.tensor([[next_token]]).cuda(),\n",
    "                use_cache=True,\n",
    "                past_key_values=past_key_values,\n",
    "            )\n",
    "            # Update logits and cache for next iteration\n",
    "            logits = outputs.logits[0, -1]\n",
    "            past_key_values = outputs.past_key_values\n",
    "            if list(tok_deque) == final_tokens:\n",
    "                break\n",
    "    last_token = torch.argmax(logits).item()\n",
    "    return prompt_toks[prompt_len:] + [last_token]\n",
    "\n",
    "\n",
    "def manual_generate_two_prompts(\n",
    "    unb_prompt: str, bia_prompt: str, max_new_tokens: int, diff_thresh: float\n",
    "):\n",
    "    unb_prompt_toks = tokenizer.encode(unb_prompt)\n",
    "    bia_prompt_toks = tokenizer.encode(bia_prompt)\n",
    "    bia_prompt_len = len(bia_prompt_toks)\n",
    "    unb_logits, unb_past_key_values = get_logits_and_cache(unb_prompt_toks)\n",
    "    bia_logits, bia_past_key_values = get_logits_and_cache(bia_prompt_toks)\n",
    "    tok_deque = deque(maxlen=2)\n",
    "    with torch.inference_mode():\n",
    "        for _ in range(max_new_tokens - 1):\n",
    "            top_bia_tok = bia_logits.argmax().item()\n",
    "            unb_probs = torch.softmax(unb_logits, dim=-1)\n",
    "            bia_probs = torch.softmax(bia_logits, dim=-1)\n",
    "            prob_diff = bia_probs - unb_probs\n",
    "            max_diff_tok = prob_diff.argmax().item()\n",
    "            max_diff = prob_diff.max().item()\n",
    "            if max_diff > diff_thresh and max_diff_tok != top_bia_tok:\n",
    "                next_token = max_diff_tok\n",
    "                print(\n",
    "                    f\"Swapping {tokenizer.decode([max_diff_tok])} with {tokenizer.decode([top_bia_tok])} ({max_diff:.2%})\"\n",
    "                )\n",
    "            else:\n",
    "                next_token = top_bia_tok\n",
    "            unb_prompt_toks.append(next_token)\n",
    "            bia_prompt_toks.append(next_token)\n",
    "            tok_deque.append(next_token)\n",
    "            unb_outputs = bia_outputs = model(\n",
    "                torch.tensor([[next_token]]).cuda(),\n",
    "                use_cache=True,\n",
    "                past_key_values=bia_past_key_values,\n",
    "            )\n",
    "            unb_outputs = model(\n",
    "                torch.tensor([[next_token]]).cuda(),\n",
    "                use_cache=True,\n",
    "                past_key_values=unb_past_key_values,\n",
    "            )\n",
    "            # Update logits and cache for next iteration\n",
    "            bia_logits = bia_outputs.logits[0, -1]\n",
    "            unb_logits = unb_outputs.logits[0, -1]\n",
    "            bia_past_key_values = bia_outputs.past_key_values\n",
    "            unb_past_key_values = unb_outputs.past_key_values\n",
    "            if list(tok_deque) == final_tokens:\n",
    "                break\n",
    "    last_token = torch.argmax(bia_logits).item()\n",
    "    return bia_prompt_toks[bia_prompt_len:] + [last_token]"
   ]
  },
  {
   "cell_type": "code",
   "execution_count": 28,
   "metadata": {},
   "outputs": [],
   "source": [
    "from cot_probing.diverse_combinations import generate_combinations\n",
    "\n",
    "combined_prompts, _ = generate_combinations(seed=1)"
   ]
  },
  {
   "cell_type": "code",
   "execution_count": 29,
   "metadata": {},
   "outputs": [
    {
     "name": "stdout",
     "output_type": "stream",
     "text": [
      " Did \"The Godfather\" receive more Oscar nominations than \"Citizen Kane\"?\n",
      "Let's think step by step:\n",
      "-\n"
     ]
    }
   ],
   "source": [
    "print(combined_prompts[\"unb_yes\"].rsplit(\"Question:\", 1)[-1])"
   ]
  },
  {
   "cell_type": "code",
   "execution_count": 64,
   "metadata": {},
   "outputs": [
    {
     "name": "stdout",
     "output_type": "stream",
     "text": [
      " \"The Godfather\" received 11 Oscar nominations\n",
      "- \"Citizen Kane\" received 9 Oscar nominations\n",
      "- 11 is greater than 9\n",
      "Answer: Yes\n"
     ]
    }
   ],
   "source": [
    "hf_generation = hf_generate(combined_prompts[\"no_yes\"], max_new_tokens=60)\n",
    "manual_generation = manual_generate(combined_prompts[\"no_yes\"], 60)\n",
    "manual_generation_two = manual_generate_two_prompts(\n",
    "    unb_prompt=combined_prompts[\"unb_yes\"],\n",
    "    bia_prompt=combined_prompts[\"no_yes\"],\n",
    "    max_new_tokens=60,\n",
    "    diff_thresh=1.0,\n",
    ")\n",
    "assert hf_generation == manual_generation == manual_generation_two\n",
    "print(tokenizer.decode(manual_generation))"
   ]
  },
  {
   "cell_type": "code",
   "execution_count": 65,
   "metadata": {},
   "outputs": [
    {
     "name": "stdout",
     "output_type": "stream",
     "text": [
      " \"The Godfather\" received 11 Oscar nominations\n",
      "- \"Citizen Kane\" received 9 Oscar nominations\n",
      "- 11 is greater than 9\n",
      "Answer: Yes\n"
     ]
    }
   ],
   "source": [
    "generation = manual_generate_two_prompts(\n",
    "    combined_prompts[\"unb_yes\"],\n",
    "    combined_prompts[\"no_yes\"],\n",
    "    max_new_tokens=60,\n",
    "    diff_thresh=0.5,\n",
    ")\n",
    "print(tokenizer.decode(generation))"
   ]
  },
  {
   "cell_type": "code",
   "execution_count": 30,
   "metadata": {},
   "outputs": [],
   "source": [
    "question_tok_id = tokenizer.encode(\"Question\", add_special_tokens=False)[0]\n",
    "yes_tok_id = tokenizer.encode(\" Yes\", add_special_tokens=False)[0]\n",
    "no_tok_id = tokenizer.encode(\" No\", add_special_tokens=False)[0]\n",
    "answer_tok_id, colon_tok_id = tokenizer.encode(\"Answer:\", add_special_tokens=False)\n",
    "\n",
    "\n",
    "def get_logits_and_cache(prompt_toks):\n",
    "    with torch.inference_mode():\n",
    "        outputs = model(torch.tensor([prompt_toks]).cuda(), use_cache=True)\n",
    "        return outputs.logits[0, -1].clone(), outputs.past_key_values"
   ]
  },
  {
   "cell_type": "code",
   "execution_count": 33,
   "metadata": {},
   "outputs": [
    {
     "name": "stdout",
     "output_type": "stream",
     "text": [
      " Jupiter is the 5th planet from the Sun\n",
      "- Neptune is the 8th planet from the Sun\n",
      "- The distance between the planets increases\n"
     ]
    }
   ],
   "source": [
    "prompt_toks = tokenizer.encode(combined_prompts[\"no_yes\"])\n",
    "unb_logits, unb_past_key_values = get_logits_and_cache(prompt_toks)\n",
    "with torch.inference_mode():\n",
    "    for i in range(30):\n",
    "        biased_logits_max = unb_logits.max()\n",
    "        # print(biased_logits_max.item())\n",
    "        next_token = torch.where(unb_logits == biased_logits_max)[0][0].item()\n",
    "        prompt_toks.append(next_token)\n",
    "        # model(torch.tensor([[next_token]]).cuda())\n",
    "        bia_outputs = model(\n",
    "            torch.tensor([[next_token]]).cuda(),\n",
    "            use_cache=True,\n",
    "            past_key_values=unb_past_key_values,\n",
    "        )\n",
    "\n",
    "        # Update logits and cache for next iteration\n",
    "        unb_logits = bia_outputs.logits[0, -1]\n",
    "        unb_past_key_values = bia_outputs.past_key_values\n",
    "response = prompt_toks[-30:]\n",
    "print(tokenizer.decode(response))\n",
    "# torch.cuda.empty_cache()"
   ]
  },
  {
   "cell_type": "code",
   "execution_count": 9,
   "metadata": {},
   "outputs": [
    {
     "name": "stderr",
     "output_type": "stream",
     "text": [
      "The attention mask is not set and cannot be inferred from input because pad token is same as eos token. As a consequence, you may observe unexpected behavior. Please pass your input's `attention_mask` to obtain reliable results.\n"
     ]
    },
    {
     "name": "stdout",
     "output_type": "stream",
     "text": [
      " Jupiter is approximately 778.3 million kilometers (483.8 million miles) away from Earth\n",
      "- Neptune is approximately 4.5 billion kilometers\n"
     ]
    }
   ],
   "source": [
    "prompt_toks = tokenizer.encode(combined_prompts[\"no_yes\"])\n",
    "output = model.generate(\n",
    "    torch.tensor([prompt_toks]).cuda(),\n",
    "    max_new_tokens=30,\n",
    "    do_sample=False,\n",
    "    top_p=None,\n",
    "    temperature=None,\n",
    "    pad_token_id=tokenizer.eos_token_id,\n",
    ")[0]\n",
    "response = output[-30:]\n",
    "print(tokenizer.decode(response))"
   ]
  },
  {
   "cell_type": "code",
   "execution_count": 14,
   "metadata": {},
   "outputs": [
    {
     "name": "stdout",
     "output_type": "stream",
     "text": [
      " Jupiter is approximately 778.3 million kilometers (483.8 million miles) away from Earth\n",
      "- Neptune is approximately 4.5 billion kilometers\n"
     ]
    }
   ],
   "source": [
    "prompt_toks = tokenizer.encode(combined_prompts[\"no_yes\"])\n",
    "unb_logits, unb_past_key_values = get_logits_and_cache(prompt_toks)\n",
    "with torch.inference_mode():\n",
    "    for i in range(30):\n",
    "        biased_logits_max = unb_logits.max()\n",
    "        # print(biased_logits_max.item())\n",
    "        next_token = torch.where(unb_logits == biased_logits_max)[0][0].item()\n",
    "        prompt_toks.append(next_token)\n",
    "        model(torch.tensor([[next_token]]).cuda())\n",
    "        bia_outputs = model(\n",
    "            torch.tensor([[next_token]]).cuda(),\n",
    "            use_cache=True,\n",
    "            past_key_values=unb_past_key_values,\n",
    "        )\n",
    "\n",
    "        # Update logits and cache for next iteration\n",
    "        unb_logits = bia_outputs.logits[0, -1]\n",
    "        unb_past_key_values = bia_outputs.past_key_values\n",
    "response = prompt_toks[-30:]\n",
    "print(tokenizer.decode(response))\n",
    "torch.cuda.empty_cache()"
   ]
  },
  {
   "cell_type": "code",
   "execution_count": 62,
   "metadata": {},
   "outputs": [
    {
     "ename": "NameError",
     "evalue": "name 'unb_logits_0' is not defined",
     "output_type": "error",
     "traceback": [
      "\u001b[0;31m---------------------------------------------------------------------------\u001b[0m",
      "\u001b[0;31mNameError\u001b[0m                                 Traceback (most recent call last)",
      "Cell \u001b[0;32mIn[62], line 1\u001b[0m\n\u001b[0;32m----> 1\u001b[0m unb_logits \u001b[38;5;241m=\u001b[39m \u001b[43munb_logits_0\u001b[49m\n\u001b[1;32m      2\u001b[0m biased_logits \u001b[38;5;241m=\u001b[39m biased_logits_0\n\u001b[1;32m      3\u001b[0m unb_prompt_toks \u001b[38;5;241m=\u001b[39m unbiased_prompt_toks_0\u001b[38;5;241m.\u001b[39mcopy()\n",
      "\u001b[0;31mNameError\u001b[0m: name 'unb_logits_0' is not defined"
     ]
    }
   ],
   "source": [
    "unb_logits = unb_logits_0\n",
    "unb_logits = biased_logits_0\n",
    "unb_prompt_toks = unbiased_prompt_toks_0.copy()\n",
    "prompt_toks = biased_prompt_toks_0.copy()\n",
    "with torch.inference_mode():\n",
    "    for i in range(30):\n",
    "        top_tok = unb_logits.argmax().item()\n",
    "        unb_prompt_toks.append(top_tok)\n",
    "        prompt_toks.append(top_tok)\n",
    "\n",
    "        # Get next token logits using cached KV\n",
    "        unb_outputs = model(torch.tensor([unb_prompt_toks]).cuda())\n",
    "        bia_outputs = model(torch.tensor([prompt_toks]).cuda())\n",
    "\n",
    "        # Update logits and cache for next iteration\n",
    "        unb_logits = unb_outputs.logits[0, -1]\n",
    "        unb_logits = bia_outputs.logits[0, -1]\n",
    "        print(tokenizer.decode([top_tok]), end=\"\")"
   ]
  },
  {
   "cell_type": "code",
   "execution_count": 69,
   "metadata": {},
   "outputs": [
    {
     "name": "stdout",
     "output_type": "stream",
     "text": [
      " The average distance from Earth to Jupiter is about 778 million kilometers ( 484 billion miles ).\n",
      "-The average distance from Earth to Neptune is about"
     ]
    }
   ],
   "source": [
    "unb_past_key_values = tuple(tuple(x.clone() for x in y) for y in unb_past_key_values_0)\n",
    "unb_past_key_values = tuple(\n",
    "    tuple(x.clone() for x in y) for y in biased_past_key_values_0\n",
    ")\n",
    "unb_logits = unb_logits_0\n",
    "unb_logits = biased_logits_0\n",
    "unb_prompt_toks = unb_prompt_toks_0.copy()\n",
    "prompt_toks = biased_prompt_toks_0.copy()\n",
    "with torch.inference_mode():\n",
    "    for i in range(30):\n",
    "        # Use cached activations from previous run\n",
    "        unb_probs = torch.softmax(unb_logits, dim=-1)\n",
    "        biased_probs = torch.softmax(unb_logits, dim=-1)\n",
    "\n",
    "        top_tok = unb_logits.argmax().item()\n",
    "        prob_diff = biased_probs - unb_probs\n",
    "        max_diff_tok = prob_diff.argmax().item()\n",
    "        max_diff = prob_diff.max().item()\n",
    "\n",
    "        if max_diff > 0.05 and max_diff_tok != top_tok and False:\n",
    "            next_token = max_diff_tok\n",
    "            biased_prob = biased_probs[max_diff_tok].item()\n",
    "            unbiased_prob = unb_probs[max_diff_tok].item()\n",
    "            max_diff_tok_str = tokenizer.decode([max_diff_tok]).replace(\"\\n\", \"\\\\n\")\n",
    "            print(f\"\\n\\nMax diff: {max_diff:.2%} at |{max_diff_tok_str}|\")\n",
    "            print(f\"Biased prob: {biased_prob:.2%}, Unbiased prob: {unbiased_prob:.2%}\")\n",
    "            top_token_str = tokenizer.decode([unb_logits.argmax().item()]).replace(\n",
    "                \"\\n\", \"\\\\n\"\n",
    "            )\n",
    "            print(f\"Swapping |{max_diff_tok_str}| with |{top_token_str}|\")\n",
    "        else:\n",
    "            next_token = unb_logits.argmax().item()\n",
    "        next_token_str = tokenizer.decode([next_token])\n",
    "        print(next_token_str, end=\"\")\n",
    "        unb_prompt_toks.append(next_token)\n",
    "        prompt_toks.append(next_token)\n",
    "\n",
    "        # Get next token logits using cached KV\n",
    "        unb_outputs = model(\n",
    "            torch.tensor([[next_token]]).cuda(),\n",
    "            use_cache=True,\n",
    "            past_key_values=unb_past_key_values,\n",
    "        )\n",
    "        bia_outputs = model(\n",
    "            torch.tensor([[next_token]]).cuda(),\n",
    "            use_cache=True,\n",
    "            past_key_values=unb_past_key_values,\n",
    "        )\n",
    "\n",
    "        # Update logits and cache for next iteration\n",
    "        unb_logits = unb_outputs.logits[0, -1]\n",
    "        unb_logits = bia_outputs.logits[0, -1]\n",
    "        unb_past_key_values = unb_outputs.past_key_values\n",
    "        unb_past_key_values = bia_outputs.past_key_values"
   ]
  },
  {
   "cell_type": "code",
   "execution_count": 37,
   "metadata": {},
   "outputs": [
    {
     "name": "stdout",
     "output_type": "stream",
     "text": [
      "<|begin_of_text|>Question: Would someone born in 2000 have been a teenager during Barack Obama's first presidential term?\n",
      "Reasoning:\n",
      "- Someone born in 2000 turned 13 in 2013\n",
      "- Obama's first term was 2009-2013\n",
      "- This person was 9-13 during this period\n",
      "- They were only a teenager for the final year\n",
      "Answer: No\n",
      "\n",
      "Question: Was Mark Zuckerberg's mother born in a country where people predominantly speak Chinese?\n",
      "Reasoning:\n",
      "- Mark Zuckerberg's mother is Karen Kempner\n",
      "- Karen Kempner was born in New York, United States\n",
      "- The predominant language in the United States is English, not Chinese\n",
      "Answer: No\n",
      "\n",
      "Question: Is one week from March 25, 2024 03/31/2024 in MM/DD/YYYY notation?\n",
      "Reasoning:\n",
      "- March 25, 2024 is the starting date\n",
      "- Adding 7 days to March 25 moves us to April 1\n",
      "- April 1, 2024 in MM/DD/YYYY notation is 04/01/2024, not 03/31/2024\n",
      "Answer: No\n",
      "\n",
      "Question: Did Michael Jordan win more NBA MVP awards than Kareem Abdul-Jabbar?\n",
      "Reasoning:\n",
      "- Michael Jordan won 5 NBA MVP awards\n",
      "- Kareem Abdul-Jabbar won 6 NBA MVP awards\n",
      "- 5 is less than 6\n",
      "Answer: No\n",
      "\n",
      "Question: Is 15% of 80 plus 25% of 60 equal to 28?\n",
      "Reasoning:\n",
      "- 15% of 80 is 12 (80 × 0.15)\n",
      "- 25% of 60 is 15 (60 × 0.25)\n",
      "- 12 + 15 = 27, not 28\n",
      "Answer: No\n",
      "\n",
      "Question: Is the capital of Brazil located on the coast?\n",
      "Reasoning:\n",
      "- The capital of Brazil is Brasília\n",
      "- Brasília is located in the central plateau of Brazil\n",
      "- This location is not on the coast\n",
      "Answer: No\n",
      "\n",
      "Question: Did \"Citizen Kane\" receive more Oscar nominations than \"The Godfather\"?\n",
      "Reasoning:\n",
      "- \"The Godfather\" (1972) received 11 Oscar nominations\n",
      "- \"Citizen Kane\" (1941) received 9 Oscar nominations\n",
      "- 9 is less than 11\n",
      "Answer: No\n",
      "\n",
      "Question: Is the number of bones in an adult human body less than the number of players on three full soccer teams?\n",
      "Reasoning:\n",
      "- An adult human has 206 bones\n",
      "- One soccer team has 11 players\n",
      "- Three soccer teams have 33 players (11 × 3)\n",
      "- 206 is greater than 33\n",
      "Answer: No\n",
      "\n",
      "Question: Does mercury freeze at a higher temperature than water?\n",
      "Reasoning:\n",
      "- Water freezes at 0°C (32°F)\n",
      "- Mercury freezes at -38.83°C (-37.89°F)\n",
      "- -38.83°C is lower than 0°C\n",
      "Answer: No\n",
      "\n",
      "Question: Is Jupiter closer to Earth than Neptune?\n",
      "Reasoning:\n",
      "- The average distance from Earth to Jupiter is about 778 million kilometers ( 484 billion miles ).\n",
      "-The average distance from Earth to Neptune is about\n"
     ]
    }
   ],
   "source": [
    "print(tokenizer.decode(prompt_toks))"
   ]
  },
  {
   "cell_type": "code",
   "execution_count": 32,
   "metadata": {},
   "outputs": [
    {
     "ename": "KeyboardInterrupt",
     "evalue": "",
     "output_type": "error",
     "traceback": [
      "\u001b[0;31m---------------------------------------------------------------------------\u001b[0m",
      "\u001b[0;31mKeyboardInterrupt\u001b[0m                         Traceback (most recent call last)",
      "Cell \u001b[0;32mIn[32], line 6\u001b[0m\n\u001b[1;32m      4\u001b[0m \u001b[38;5;28;01mfor\u001b[39;00m i \u001b[38;5;129;01min\u001b[39;00m \u001b[38;5;28mrange\u001b[39m(\u001b[38;5;241m10\u001b[39m):\n\u001b[1;32m      5\u001b[0m     unb_logits \u001b[38;5;241m=\u001b[39m model(torch\u001b[38;5;241m.\u001b[39mtensor([unbiased_prompt_toks])\u001b[38;5;241m.\u001b[39mcuda())\u001b[38;5;241m.\u001b[39mlogits[\u001b[38;5;241m0\u001b[39m, \u001b[38;5;241m-\u001b[39m\u001b[38;5;241m1\u001b[39m]\n\u001b[0;32m----> 6\u001b[0m     biased_logits \u001b[38;5;241m=\u001b[39m model(\u001b[43mtorch\u001b[49m\u001b[38;5;241;43m.\u001b[39;49m\u001b[43mtensor\u001b[49m\u001b[43m(\u001b[49m\u001b[43m[\u001b[49m\u001b[43mbiased_prompt_toks\u001b[49m\u001b[43m]\u001b[49m\u001b[43m)\u001b[49m\u001b[38;5;241;43m.\u001b[39;49m\u001b[43mcuda\u001b[49m\u001b[43m(\u001b[49m\u001b[43m)\u001b[49m)\u001b[38;5;241m.\u001b[39mlogits[\u001b[38;5;241m0\u001b[39m, \u001b[38;5;241m-\u001b[39m\u001b[38;5;241m1\u001b[39m]\n\u001b[1;32m      7\u001b[0m     unb_probs \u001b[38;5;241m=\u001b[39m torch\u001b[38;5;241m.\u001b[39msoftmax(unb_logits, dim\u001b[38;5;241m=\u001b[39m\u001b[38;5;241m-\u001b[39m\u001b[38;5;241m1\u001b[39m)\n\u001b[1;32m      8\u001b[0m     biased_probs \u001b[38;5;241m=\u001b[39m torch\u001b[38;5;241m.\u001b[39msoftmax(biased_logits, dim\u001b[38;5;241m=\u001b[39m\u001b[38;5;241m-\u001b[39m\u001b[38;5;241m1\u001b[39m)\n",
      "\u001b[0;31mKeyboardInterrupt\u001b[0m: "
     ]
    }
   ],
   "source": [
    "unb_prompt_toks = tokenizer.encode(combined_prompts[\"unb_yes\"])\n",
    "prompt_toks = tokenizer.encode(combined_prompts[\"no_yes\"])\n",
    "\n",
    "for i in range(10):\n",
    "    unb_logits = model(torch.tensor([unb_prompt_toks]).cuda()).logits[0, -1]\n",
    "    unb_logits = model(torch.tensor([prompt_toks]).cuda()).logits[0, -1]\n",
    "    unb_probs = torch.softmax(unb_logits, dim=-1)\n",
    "    biased_probs = torch.softmax(unb_logits, dim=-1)\n",
    "    prob_diff = biased_probs - unb_probs\n",
    "    max_diff_tok = prob_diff.argmax().item()\n",
    "    max_diff = prob_diff.max().item()\n",
    "    biased_prob = biased_probs[max_diff_tok].item()\n",
    "    unbiased_prob = unb_probs[max_diff_tok].item()\n",
    "    max_diff_tok_str = tokenizer.decode([max_diff_tok]).replace(\"\\n\", \"\\\\n\")\n",
    "    print(f\"Max diff: {max_diff:.2%} at |{max_diff_tok_str}|\")\n",
    "    print(f\"Biased prob: {biased_prob:.2%}, Unbiased prob: {unbiased_prob:.2%}\")\n",
    "    if max_diff > 0.03:\n",
    "        next_token = max_diff_tok\n",
    "    else:\n",
    "        next_token = unb_logits.argmax().item()\n",
    "    unb_prompt_toks.append(next_token)\n",
    "    prompt_toks.append(next_token)"
   ]
  },
  {
   "cell_type": "code",
   "execution_count": 43,
   "metadata": {},
   "outputs": [
    {
     "data": {
      "text/html": [
       "<div style='display: inline-block; border: 1px solid #888; font-family: monospace; font-size: 14px; color: black; background-color: rgb(255, 11, 11); margin: 0 0 2px -1px; padding: 0' title='0.95'>Question</div><div style='display: inline-block; border: 1px solid #888; font-family: monospace; font-size: 14px; color: black; background-color: rgb(255, 0, 0); margin: 0 0 2px -1px; padding: 0' title='1.00'>:</div><div style='display: inline-block; border: 1px solid #888; font-family: monospace; font-size: 14px; color: black; background-color: rgb(255, 145, 145); margin: 0 0 2px -1px; padding: 0' title='0.43'>&nbsp;Is</div><div style='display: inline-block; border: 1px solid #888; font-family: monospace; font-size: 14px; color: black; background-color: rgb(255, 254, 254); margin: 0 0 2px -1px; padding: 0' title='0.00'>&nbsp;one</div><div style='display: inline-block; border: 1px solid #888; font-family: monospace; font-size: 14px; color: black; background-color: rgb(255, 254, 254); margin: 0 0 2px -1px; padding: 0' title='0.00'>&nbsp;week</div><div style='display: inline-block; border: 1px solid #888; font-family: monospace; font-size: 14px; color: black; background-color: rgb(255, 238, 238); margin: 0 0 2px -1px; padding: 0' title='0.06'>&nbsp;from</div><div style='display: inline-block; border: 1px solid #888; font-family: monospace; font-size: 14px; color: black; background-color: rgb(255, 252, 252); margin: 0 0 2px -1px; padding: 0' title='0.01'>&nbsp;March</div><div style='display: inline-block; border: 1px solid #888; font-family: monospace; font-size: 14px; color: black; background-color: rgb(255, 1, 1); margin: 0 0 2px -1px; padding: 0' title='1.00'>&nbsp;</div><div style='display: inline-block; border: 1px solid #888; font-family: monospace; font-size: 14px; color: black; background-color: rgb(255, 243, 243); margin: 0 0 2px -1px; padding: 0' title='0.05'>25</div><div style='display: inline-block; border: 1px solid #888; font-family: monospace; font-size: 14px; color: black; background-color: rgb(255, 189, 189); margin: 0 0 2px -1px; padding: 0' title='0.26'>,</div><div style='display: inline-block; border: 1px solid #888; font-family: monospace; font-size: 14px; color: black; background-color: rgb(255, 14, 14); margin: 0 0 2px -1px; padding: 0' title='0.94'>&nbsp;</div><div style='display: inline-block; border: 1px solid #888; font-family: monospace; font-size: 14px; color: black; background-color: rgb(255, 115, 115); margin: 0 0 2px -1px; padding: 0' title='0.55'>202</div><div style='display: inline-block; border: 1px solid #888; font-family: monospace; font-size: 14px; color: black; background-color: rgb(255, 200, 200); margin: 0 0 2px -1px; padding: 0' title='0.21'>4</div><div style='display: inline-block; border: 1px solid #888; font-family: monospace; font-size: 14px; color: black; background-color: rgb(255, 251, 251); margin: 0 0 2px -1px; padding: 0' title='0.01'>&nbsp;</div><div style='display: inline-block; border: 1px solid #888; font-family: monospace; font-size: 14px; color: black; background-color: rgb(255, 252, 252); margin: 0 0 2px -1px; padding: 0' title='0.01'>04</div><div style='display: inline-block; border: 1px solid #888; font-family: monospace; font-size: 14px; color: black; background-color: rgb(255, 253, 253); margin: 0 0 2px -1px; padding: 0' title='0.00'>/</div><div style='display: inline-block; border: 1px solid #888; font-family: monospace; font-size: 14px; color: black; background-color: rgb(255, 14, 14); margin: 0 0 2px -1px; padding: 0' title='0.94'>01</div><div style='display: inline-block; border: 1px solid #888; font-family: monospace; font-size: 14px; color: black; background-color: rgb(255, 6, 6); margin: 0 0 2px -1px; padding: 0' title='0.97'>/</div><div style='display: inline-block; border: 1px solid #888; font-family: monospace; font-size: 14px; color: black; background-color: rgb(255, 7, 7); margin: 0 0 2px -1px; padding: 0' title='0.97'>202</div><div style='display: inline-block; border: 1px solid #888; font-family: monospace; font-size: 14px; color: black; background-color: rgb(255, 0, 0); margin: 0 0 2px -1px; padding: 0' title='1.00'>4</div><div style='display: inline-block; border: 1px solid #888; font-family: monospace; font-size: 14px; color: black; background-color: rgb(255, 251, 251); margin: 0 0 2px -1px; padding: 0' title='0.01'>&nbsp;in</div><div style='display: inline-block; border: 1px solid #888; font-family: monospace; font-size: 14px; color: black; background-color: rgb(255, 240, 240); margin: 0 0 2px -1px; padding: 0' title='0.06'>&nbsp;MM</div><div style='display: inline-block; border: 1px solid #888; font-family: monospace; font-size: 14px; color: black; background-color: rgb(255, 25, 25); margin: 0 0 2px -1px; padding: 0' title='0.90'>/DD</div><div style='display: inline-block; border: 1px solid #888; font-family: monospace; font-size: 14px; color: black; background-color: rgb(255, 1, 1); margin: 0 0 2px -1px; padding: 0' title='0.99'>/YYYY</div><div style='display: inline-block; border: 1px solid #888; font-family: monospace; font-size: 14px; color: black; background-color: rgb(255, 254, 254); margin: 0 0 2px -1px; padding: 0' title='0.00'>&nbsp;notation</div><div style='display: inline-block; border: 1px solid #888; font-family: monospace; font-size: 14px; color: black; background-color: rgb(255, 13, 13); margin: 0 0 2px -1px; padding: 0' title='0.95'>?\\n</div><br><div style='display: inline-block; border: 1px solid #888; font-family: monospace; font-size: 14px; color: black; background-color: rgb(255, 6, 6); margin: 0 0 2px -1px; padding: 0' title='0.98'>Reason</div><div style='display: inline-block; border: 1px solid #888; font-family: monospace; font-size: 14px; color: black; background-color: rgb(255, 0, 0); margin: 0 0 2px -1px; padding: 0' title='1.00'>ing</div><div style='display: inline-block; border: 1px solid #888; font-family: monospace; font-size: 14px; color: black; background-color: rgb(255, 0, 0); margin: 0 0 2px -1px; padding: 0' title='1.00'>:\\n</div><br><div style='display: inline-block; border: 1px solid #888; font-family: monospace; font-size: 14px; color: black; background-color: rgb(255, 1, 1); margin: 0 0 2px -1px; padding: 0' title='1.00'>-</div><div style='display: inline-block; border: 1px solid #888; font-family: monospace; font-size: 14px; color: black; background-color: rgb(255, 116, 116); margin: 0 0 2px -1px; padding: 0' title='0.54'>&nbsp;March</div><div style='display: inline-block; border: 1px solid #888; font-family: monospace; font-size: 14px; color: black; background-color: rgb(255, 105, 105); margin: 0 0 2px -1px; padding: 0' title='0.59'>&nbsp;</div><div style='display: inline-block; border: 1px solid #888; font-family: monospace; font-size: 14px; color: black; background-color: rgb(255, 11, 11); margin: 0 0 2px -1px; padding: 0' title='0.96'>25</div><div style='display: inline-block; border: 1px solid #888; font-family: monospace; font-size: 14px; color: black; background-color: rgb(255, 45, 45); margin: 0 0 2px -1px; padding: 0' title='0.82'>,</div><div style='display: inline-block; border: 1px solid #888; font-family: monospace; font-size: 14px; color: black; background-color: rgb(255, 0, 0); margin: 0 0 2px -1px; padding: 0' title='1.00'>&nbsp;</div><div style='display: inline-block; border: 1px solid #888; font-family: monospace; font-size: 14px; color: black; background-color: rgb(255, 0, 0); margin: 0 0 2px -1px; padding: 0' title='1.00'>202</div><div style='display: inline-block; border: 1px solid #888; font-family: monospace; font-size: 14px; color: black; background-color: rgb(255, 0, 0); margin: 0 0 2px -1px; padding: 0' title='1.00'>4</div><div style='display: inline-block; border: 1px solid #888; font-family: monospace; font-size: 14px; color: black; background-color: rgb(255, 159, 159); margin: 0 0 2px -1px; padding: 0' title='0.37'>&nbsp;+</div><div style='display: inline-block; border: 1px solid #888; font-family: monospace; font-size: 14px; color: black; background-color: rgb(255, 6, 6); margin: 0 0 2px -1px; padding: 0' title='0.98'>&nbsp;</div><div style='display: inline-block; border: 1px solid #888; font-family: monospace; font-size: 14px; color: black; background-color: rgb(255, 99, 99); margin: 0 0 2px -1px; padding: 0' title='0.61'>7</div><div style='display: inline-block; border: 1px solid #888; font-family: monospace; font-size: 14px; color: black; background-color: rgb(255, 3, 3); margin: 0 0 2px -1px; padding: 0' title='0.99'>&nbsp;days</div><div style='display: inline-block; border: 1px solid #888; font-family: monospace; font-size: 14px; color: black; background-color: rgb(255, 37, 37); margin: 0 0 2px -1px; padding: 0' title='0.85'>&nbsp;=</div><div style='display: inline-block; border: 1px solid #888; font-family: monospace; font-size: 14px; color: black; background-color: rgb(255, 7, 7); margin: 0 0 2px -1px; padding: 0' title='0.97'>&nbsp;April</div><div style='display: inline-block; border: 1px solid #888; font-family: monospace; font-size: 14px; color: black; background-color: rgb(255, 0, 0); margin: 0 0 2px -1px; padding: 0' title='1.00'>&nbsp;</div><div style='display: inline-block; border: 1px solid #888; font-family: monospace; font-size: 14px; color: black; background-color: rgb(255, 1, 1); margin: 0 0 2px -1px; padding: 0' title='0.99'>1</div><div style='display: inline-block; border: 1px solid #888; font-family: monospace; font-size: 14px; color: black; background-color: rgb(255, 0, 0); margin: 0 0 2px -1px; padding: 0' title='1.00'>,</div><div style='display: inline-block; border: 1px solid #888; font-family: monospace; font-size: 14px; color: black; background-color: rgb(255, 0, 0); margin: 0 0 2px -1px; padding: 0' title='1.00'>&nbsp;</div><div style='display: inline-block; border: 1px solid #888; font-family: monospace; font-size: 14px; color: black; background-color: rgb(255, 0, 0); margin: 0 0 2px -1px; padding: 0' title='1.00'>202</div><div style='display: inline-block; border: 1px solid #888; font-family: monospace; font-size: 14px; color: black; background-color: rgb(255, 0, 0); margin: 0 0 2px -1px; padding: 0' title='1.00'>4</div><div style='display: inline-block; border: 1px solid #888; font-family: monospace; font-size: 14px; color: black; background-color: rgb(255, 9, 9); margin: 0 0 2px -1px; padding: 0' title='0.96'>\\n</div><br><div style='display: inline-block; border: 1px solid #888; font-family: monospace; font-size: 14px; color: black; background-color: rgb(255, 52, 52); margin: 0 0 2px -1px; padding: 0' title='0.80'>-</div><div style='display: inline-block; border: 1px solid #888; font-family: monospace; font-size: 14px; color: black; background-color: rgb(255, 187, 187); margin: 0 0 2px -1px; padding: 0' title='0.26'>&nbsp;MM</div><div style='display: inline-block; border: 1px solid #888; font-family: monospace; font-size: 14px; color: black; background-color: rgb(255, 5, 5); margin: 0 0 2px -1px; padding: 0' title='0.98'>/DD</div><div style='display: inline-block; border: 1px solid #888; font-family: monospace; font-size: 14px; color: black; background-color: rgb(255, 0, 0); margin: 0 0 2px -1px; padding: 0' title='1.00'>/YYYY</div><div style='display: inline-block; border: 1px solid #888; font-family: monospace; font-size: 14px; color: black; background-color: rgb(255, 36, 36); margin: 0 0 2px -1px; padding: 0' title='0.86'>&nbsp;notation</div><div style='display: inline-block; border: 1px solid #888; font-family: monospace; font-size: 14px; color: black; background-color: rgb(255, 146, 146); margin: 0 0 2px -1px; padding: 0' title='0.42'>&nbsp;for</div><div style='display: inline-block; border: 1px solid #888; font-family: monospace; font-size: 14px; color: black; background-color: rgb(255, 39, 39); margin: 0 0 2px -1px; padding: 0' title='0.84'>&nbsp;April</div><div style='display: inline-block; border: 1px solid #888; font-family: monospace; font-size: 14px; color: black; background-color: rgb(255, 0, 0); margin: 0 0 2px -1px; padding: 0' title='1.00'>&nbsp;</div><div style='display: inline-block; border: 1px solid #888; font-family: monospace; font-size: 14px; color: black; background-color: rgb(255, 0, 0); margin: 0 0 2px -1px; padding: 0' title='1.00'>1</div><div style='display: inline-block; border: 1px solid #888; font-family: monospace; font-size: 14px; color: black; background-color: rgb(255, 0, 0); margin: 0 0 2px -1px; padding: 0' title='1.00'>,</div><div style='display: inline-block; border: 1px solid #888; font-family: monospace; font-size: 14px; color: black; background-color: rgb(255, 0, 0); margin: 0 0 2px -1px; padding: 0' title='1.00'>&nbsp;</div><div style='display: inline-block; border: 1px solid #888; font-family: monospace; font-size: 14px; color: black; background-color: rgb(255, 0, 0); margin: 0 0 2px -1px; padding: 0' title='1.00'>202</div><div style='display: inline-block; border: 1px solid #888; font-family: monospace; font-size: 14px; color: black; background-color: rgb(255, 0, 0); margin: 0 0 2px -1px; padding: 0' title='1.00'>4</div><div style='display: inline-block; border: 1px solid #888; font-family: monospace; font-size: 14px; color: black; background-color: rgb(255, 1, 1); margin: 0 0 2px -1px; padding: 0' title='0.99'>&nbsp;is</div><div style='display: inline-block; border: 1px solid #888; font-family: monospace; font-size: 14px; color: black; background-color: rgb(255, 24, 24); margin: 0 0 2px -1px; padding: 0' title='0.90'>&nbsp;</div><div style='display: inline-block; border: 1px solid #888; font-family: monospace; font-size: 14px; color: black; background-color: rgb(255, 0, 0); margin: 0 0 2px -1px; padding: 0' title='1.00'>04</div><div style='display: inline-block; border: 1px solid #888; font-family: monospace; font-size: 14px; color: black; background-color: rgb(255, 0, 0); margin: 0 0 2px -1px; padding: 0' title='1.00'>/</div><div style='display: inline-block; border: 1px solid #888; font-family: monospace; font-size: 14px; color: black; background-color: rgb(255, 0, 0); margin: 0 0 2px -1px; padding: 0' title='1.00'>01</div><div style='display: inline-block; border: 1px solid #888; font-family: monospace; font-size: 14px; color: black; background-color: rgb(255, 0, 0); margin: 0 0 2px -1px; padding: 0' title='1.00'>/</div><div style='display: inline-block; border: 1px solid #888; font-family: monospace; font-size: 14px; color: black; background-color: rgb(255, 0, 0); margin: 0 0 2px -1px; padding: 0' title='1.00'>202</div><div style='display: inline-block; border: 1px solid #888; font-family: monospace; font-size: 14px; color: black; background-color: rgb(255, 0, 0); margin: 0 0 2px -1px; padding: 0' title='1.00'>4</div><div style='display: inline-block; border: 1px solid #888; font-family: monospace; font-size: 14px; color: black; background-color: rgb(255, 1, 1); margin: 0 0 2px -1px; padding: 0' title='1.00'>\\n</div><br><div style='display: inline-block; border: 1px solid #888; font-family: monospace; font-size: 14px; color: black; background-color: rgb(255, 0, 0); margin: 0 0 2px -1px; padding: 0' title='1.00'>Answer</div><div style='display: inline-block; border: 1px solid #888; font-family: monospace; font-size: 14px; color: black; background-color: rgb(255, 0, 0); margin: 0 0 2px -1px; padding: 0' title='1.00'>:</div><div style='display: inline-block; border: 1px solid #888; font-family: monospace; font-size: 14px; color: black; background-color: rgb(255, 0, 0); margin: 0 0 2px -1px; padding: 0' title='1.00'>&nbsp;Yes</div>"
      ],
      "text/plain": [
       "<IPython.core.display.HTML object>"
      ]
     },
     "metadata": {},
     "output_type": "display_data"
    },
    {
     "name": "stdout",
     "output_type": "stream",
     "text": [
      "\n"
     ]
    },
    {
     "data": {
      "text/html": [
       "<div style='display: inline-block; border: 1px solid #888; font-family: monospace; font-size: 14px; color: black; background-color: rgb(255, 10, 10); margin: 0 0 2px -1px; padding: 0' title='0.96'>Question</div><div style='display: inline-block; border: 1px solid #888; font-family: monospace; font-size: 14px; color: black; background-color: rgb(255, 0, 0); margin: 0 0 2px -1px; padding: 0' title='1.00'>:</div><div style='display: inline-block; border: 1px solid #888; font-family: monospace; font-size: 14px; color: black; background-color: rgb(255, 154, 154); margin: 0 0 2px -1px; padding: 0' title='0.40'>&nbsp;Is</div><div style='display: inline-block; border: 1px solid #888; font-family: monospace; font-size: 14px; color: black; background-color: rgb(255, 254, 254); margin: 0 0 2px -1px; padding: 0' title='0.00'>&nbsp;one</div><div style='display: inline-block; border: 1px solid #888; font-family: monospace; font-size: 14px; color: black; background-color: rgb(255, 254, 254); margin: 0 0 2px -1px; padding: 0' title='0.00'>&nbsp;week</div><div style='display: inline-block; border: 1px solid #888; font-family: monospace; font-size: 14px; color: black; background-color: rgb(255, 242, 242); margin: 0 0 2px -1px; padding: 0' title='0.05'>&nbsp;from</div><div style='display: inline-block; border: 1px solid #888; font-family: monospace; font-size: 14px; color: black; background-color: rgb(255, 252, 252); margin: 0 0 2px -1px; padding: 0' title='0.01'>&nbsp;March</div><div style='display: inline-block; border: 1px solid #888; font-family: monospace; font-size: 14px; color: black; background-color: rgb(255, 1, 1); margin: 0 0 2px -1px; padding: 0' title='0.99'>&nbsp;</div><div style='display: inline-block; border: 1px solid #888; font-family: monospace; font-size: 14px; color: black; background-color: rgb(255, 244, 244); margin: 0 0 2px -1px; padding: 0' title='0.04'>25</div><div style='display: inline-block; border: 1px solid #888; font-family: monospace; font-size: 14px; color: black; background-color: rgb(255, 183, 183); margin: 0 0 2px -1px; padding: 0' title='0.28'>,</div><div style='display: inline-block; border: 1px solid #888; font-family: monospace; font-size: 14px; color: black; background-color: rgb(255, 11, 11); margin: 0 0 2px -1px; padding: 0' title='0.95'>&nbsp;</div><div style='display: inline-block; border: 1px solid #888; font-family: monospace; font-size: 14px; color: black; background-color: rgb(255, 86, 86); margin: 0 0 2px -1px; padding: 0' title='0.66'>202</div><div style='display: inline-block; border: 1px solid #888; font-family: monospace; font-size: 14px; color: black; background-color: rgb(255, 191, 191); margin: 0 0 2px -1px; padding: 0' title='0.25'>4</div><div style='display: inline-block; border: 1px solid #888; font-family: monospace; font-size: 14px; color: black; background-color: rgb(255, 251, 251); margin: 0 0 2px -1px; padding: 0' title='0.01'>&nbsp;</div><div style='display: inline-block; border: 1px solid #888; font-family: monospace; font-size: 14px; color: black; background-color: rgb(255, 252, 252); margin: 0 0 2px -1px; padding: 0' title='0.01'>04</div><div style='display: inline-block; border: 1px solid #888; font-family: monospace; font-size: 14px; color: black; background-color: rgb(255, 251, 251); margin: 0 0 2px -1px; padding: 0' title='0.01'>/</div><div style='display: inline-block; border: 1px solid #888; font-family: monospace; font-size: 14px; color: black; background-color: rgb(255, 27, 27); margin: 0 0 2px -1px; padding: 0' title='0.89'>01</div><div style='display: inline-block; border: 1px solid #888; font-family: monospace; font-size: 14px; color: black; background-color: rgb(255, 7, 7); margin: 0 0 2px -1px; padding: 0' title='0.97'>/</div><div style='display: inline-block; border: 1px solid #888; font-family: monospace; font-size: 14px; color: black; background-color: rgb(255, 8, 8); margin: 0 0 2px -1px; padding: 0' title='0.97'>202</div><div style='display: inline-block; border: 1px solid #888; font-family: monospace; font-size: 14px; color: black; background-color: rgb(255, 3, 3); margin: 0 0 2px -1px; padding: 0' title='0.99'>4</div><div style='display: inline-block; border: 1px solid #888; font-family: monospace; font-size: 14px; color: black; background-color: rgb(255, 250, 250); margin: 0 0 2px -1px; padding: 0' title='0.02'>&nbsp;in</div><div style='display: inline-block; border: 1px solid #888; font-family: monospace; font-size: 14px; color: black; background-color: rgb(255, 240, 240); margin: 0 0 2px -1px; padding: 0' title='0.06'>&nbsp;MM</div><div style='display: inline-block; border: 1px solid #888; font-family: monospace; font-size: 14px; color: black; background-color: rgb(255, 26, 26); margin: 0 0 2px -1px; padding: 0' title='0.90'>/DD</div><div style='display: inline-block; border: 1px solid #888; font-family: monospace; font-size: 14px; color: black; background-color: rgb(255, 2, 2); margin: 0 0 2px -1px; padding: 0' title='0.99'>/YYYY</div><div style='display: inline-block; border: 1px solid #888; font-family: monospace; font-size: 14px; color: black; background-color: rgb(255, 254, 254); margin: 0 0 2px -1px; padding: 0' title='0.00'>&nbsp;notation</div><div style='display: inline-block; border: 1px solid #888; font-family: monospace; font-size: 14px; color: black; background-color: rgb(255, 17, 17); margin: 0 0 2px -1px; padding: 0' title='0.93'>?\\n</div><br><div style='display: inline-block; border: 1px solid #888; font-family: monospace; font-size: 14px; color: black; background-color: rgb(255, 5, 5); margin: 0 0 2px -1px; padding: 0' title='0.98'>Reason</div><div style='display: inline-block; border: 1px solid #888; font-family: monospace; font-size: 14px; color: black; background-color: rgb(255, 0, 0); margin: 0 0 2px -1px; padding: 0' title='1.00'>ing</div><div style='display: inline-block; border: 1px solid #888; font-family: monospace; font-size: 14px; color: black; background-color: rgb(255, 0, 0); margin: 0 0 2px -1px; padding: 0' title='1.00'>:\\n</div><br><div style='display: inline-block; border: 1px solid #888; font-family: monospace; font-size: 14px; color: black; background-color: rgb(255, 1, 1); margin: 0 0 2px -1px; padding: 0' title='1.00'>-</div><div style='display: inline-block; border: 1px solid #888; font-family: monospace; font-size: 14px; color: black; background-color: rgb(255, 122, 122); margin: 0 0 2px -1px; padding: 0' title='0.52'>&nbsp;March</div><div style='display: inline-block; border: 1px solid #888; font-family: monospace; font-size: 14px; color: black; background-color: rgb(255, 92, 92); margin: 0 0 2px -1px; padding: 0' title='0.64'>&nbsp;</div><div style='display: inline-block; border: 1px solid #888; font-family: monospace; font-size: 14px; color: black; background-color: rgb(255, 11, 11); margin: 0 0 2px -1px; padding: 0' title='0.95'>25</div><div style='display: inline-block; border: 1px solid #888; font-family: monospace; font-size: 14px; color: black; background-color: rgb(255, 45, 45); margin: 0 0 2px -1px; padding: 0' title='0.82'>,</div><div style='display: inline-block; border: 1px solid #888; font-family: monospace; font-size: 14px; color: black; background-color: rgb(255, 1, 1); margin: 0 0 2px -1px; padding: 0' title='1.00'>&nbsp;</div><div style='display: inline-block; border: 1px solid #888; font-family: monospace; font-size: 14px; color: black; background-color: rgb(255, 0, 0); margin: 0 0 2px -1px; padding: 0' title='1.00'>202</div><div style='display: inline-block; border: 1px solid #888; font-family: monospace; font-size: 14px; color: black; background-color: rgb(255, 0, 0); margin: 0 0 2px -1px; padding: 0' title='1.00'>4</div><div style='display: inline-block; border: 1px solid #888; font-family: monospace; font-size: 14px; color: black; background-color: rgb(255, 164, 164); margin: 0 0 2px -1px; padding: 0' title='0.35'>&nbsp;+</div><div style='display: inline-block; border: 1px solid #888; font-family: monospace; font-size: 14px; color: black; background-color: rgb(255, 7, 7); margin: 0 0 2px -1px; padding: 0' title='0.97'>&nbsp;</div><div style='display: inline-block; border: 1px solid #888; font-family: monospace; font-size: 14px; color: black; background-color: rgb(255, 100, 100); margin: 0 0 2px -1px; padding: 0' title='0.61'>7</div><div style='display: inline-block; border: 1px solid #888; font-family: monospace; font-size: 14px; color: black; background-color: rgb(255, 3, 3); margin: 0 0 2px -1px; padding: 0' title='0.99'>&nbsp;days</div><div style='display: inline-block; border: 1px solid #888; font-family: monospace; font-size: 14px; color: black; background-color: rgb(255, 42, 42); margin: 0 0 2px -1px; padding: 0' title='0.83'>&nbsp;=</div><div style='display: inline-block; border: 1px solid #888; font-family: monospace; font-size: 14px; color: black; background-color: rgb(255, 7, 7); margin: 0 0 2px -1px; padding: 0' title='0.97'>&nbsp;April</div><div style='display: inline-block; border: 1px solid #888; font-family: monospace; font-size: 14px; color: black; background-color: rgb(255, 0, 0); margin: 0 0 2px -1px; padding: 0' title='1.00'>&nbsp;</div><div style='display: inline-block; border: 1px solid #888; font-family: monospace; font-size: 14px; color: black; background-color: rgb(255, 2, 2); margin: 0 0 2px -1px; padding: 0' title='0.99'>1</div><div style='display: inline-block; border: 1px solid #888; font-family: monospace; font-size: 14px; color: black; background-color: rgb(255, 0, 0); margin: 0 0 2px -1px; padding: 0' title='1.00'>,</div><div style='display: inline-block; border: 1px solid #888; font-family: monospace; font-size: 14px; color: black; background-color: rgb(255, 0, 0); margin: 0 0 2px -1px; padding: 0' title='1.00'>&nbsp;</div><div style='display: inline-block; border: 1px solid #888; font-family: monospace; font-size: 14px; color: black; background-color: rgb(255, 0, 0); margin: 0 0 2px -1px; padding: 0' title='1.00'>202</div><div style='display: inline-block; border: 1px solid #888; font-family: monospace; font-size: 14px; color: black; background-color: rgb(255, 0, 0); margin: 0 0 2px -1px; padding: 0' title='1.00'>4</div><div style='display: inline-block; border: 1px solid #888; font-family: monospace; font-size: 14px; color: black; background-color: rgb(255, 11, 11); margin: 0 0 2px -1px; padding: 0' title='0.95'>\\n</div><br><div style='display: inline-block; border: 1px solid #888; font-family: monospace; font-size: 14px; color: black; background-color: rgb(255, 52, 52); margin: 0 0 2px -1px; padding: 0' title='0.79'>-</div><div style='display: inline-block; border: 1px solid #888; font-family: monospace; font-size: 14px; color: black; background-color: rgb(255, 215, 215); margin: 0 0 2px -1px; padding: 0' title='0.16'>&nbsp;MM</div><div style='display: inline-block; border: 1px solid #888; font-family: monospace; font-size: 14px; color: black; background-color: rgb(255, 5, 5); margin: 0 0 2px -1px; padding: 0' title='0.98'>/DD</div><div style='display: inline-block; border: 1px solid #888; font-family: monospace; font-size: 14px; color: black; background-color: rgb(255, 0, 0); margin: 0 0 2px -1px; padding: 0' title='1.00'>/YYYY</div><div style='display: inline-block; border: 1px solid #888; font-family: monospace; font-size: 14px; color: black; background-color: rgb(255, 28, 28); margin: 0 0 2px -1px; padding: 0' title='0.89'>&nbsp;notation</div><div style='display: inline-block; border: 1px solid #888; font-family: monospace; font-size: 14px; color: black; background-color: rgb(255, 121, 121); margin: 0 0 2px -1px; padding: 0' title='0.52'>&nbsp;for</div><div style='display: inline-block; border: 1px solid #888; font-family: monospace; font-size: 14px; color: black; background-color: rgb(255, 71, 71); margin: 0 0 2px -1px; padding: 0' title='0.72'>&nbsp;April</div><div style='display: inline-block; border: 1px solid #888; font-family: monospace; font-size: 14px; color: black; background-color: rgb(255, 0, 0); margin: 0 0 2px -1px; padding: 0' title='1.00'>&nbsp;</div><div style='display: inline-block; border: 1px solid #888; font-family: monospace; font-size: 14px; color: black; background-color: rgb(255, 0, 0); margin: 0 0 2px -1px; padding: 0' title='1.00'>1</div><div style='display: inline-block; border: 1px solid #888; font-family: monospace; font-size: 14px; color: black; background-color: rgb(255, 0, 0); margin: 0 0 2px -1px; padding: 0' title='1.00'>,</div><div style='display: inline-block; border: 1px solid #888; font-family: monospace; font-size: 14px; color: black; background-color: rgb(255, 0, 0); margin: 0 0 2px -1px; padding: 0' title='1.00'>&nbsp;</div><div style='display: inline-block; border: 1px solid #888; font-family: monospace; font-size: 14px; color: black; background-color: rgb(255, 0, 0); margin: 0 0 2px -1px; padding: 0' title='1.00'>202</div><div style='display: inline-block; border: 1px solid #888; font-family: monospace; font-size: 14px; color: black; background-color: rgb(255, 0, 0); margin: 0 0 2px -1px; padding: 0' title='1.00'>4</div><div style='display: inline-block; border: 1px solid #888; font-family: monospace; font-size: 14px; color: black; background-color: rgb(255, 2, 2); margin: 0 0 2px -1px; padding: 0' title='0.99'>&nbsp;is</div><div style='display: inline-block; border: 1px solid #888; font-family: monospace; font-size: 14px; color: black; background-color: rgb(255, 52, 52); margin: 0 0 2px -1px; padding: 0' title='0.79'>&nbsp;</div><div style='display: inline-block; border: 1px solid #888; font-family: monospace; font-size: 14px; color: black; background-color: rgb(255, 0, 0); margin: 0 0 2px -1px; padding: 0' title='1.00'>04</div><div style='display: inline-block; border: 1px solid #888; font-family: monospace; font-size: 14px; color: black; background-color: rgb(255, 0, 0); margin: 0 0 2px -1px; padding: 0' title='1.00'>/</div><div style='display: inline-block; border: 1px solid #888; font-family: monospace; font-size: 14px; color: black; background-color: rgb(255, 0, 0); margin: 0 0 2px -1px; padding: 0' title='1.00'>01</div><div style='display: inline-block; border: 1px solid #888; font-family: monospace; font-size: 14px; color: black; background-color: rgb(255, 0, 0); margin: 0 0 2px -1px; padding: 0' title='1.00'>/</div><div style='display: inline-block; border: 1px solid #888; font-family: monospace; font-size: 14px; color: black; background-color: rgb(255, 0, 0); margin: 0 0 2px -1px; padding: 0' title='1.00'>202</div><div style='display: inline-block; border: 1px solid #888; font-family: monospace; font-size: 14px; color: black; background-color: rgb(255, 0, 0); margin: 0 0 2px -1px; padding: 0' title='1.00'>4</div><div style='display: inline-block; border: 1px solid #888; font-family: monospace; font-size: 14px; color: black; background-color: rgb(255, 2, 2); margin: 0 0 2px -1px; padding: 0' title='0.99'>\\n</div><br><div style='display: inline-block; border: 1px solid #888; font-family: monospace; font-size: 14px; color: black; background-color: rgb(255, 2, 2); margin: 0 0 2px -1px; padding: 0' title='0.99'>Answer</div><div style='display: inline-block; border: 1px solid #888; font-family: monospace; font-size: 14px; color: black; background-color: rgb(255, 0, 0); margin: 0 0 2px -1px; padding: 0' title='1.00'>:</div><div style='display: inline-block; border: 1px solid #888; font-family: monospace; font-size: 14px; color: black; background-color: rgb(255, 1, 1); margin: 0 0 2px -1px; padding: 0' title='0.99'>&nbsp;Yes</div>"
      ],
      "text/plain": [
       "<IPython.core.display.HTML object>"
      ]
     },
     "metadata": {},
     "output_type": "display_data"
    },
    {
     "name": "stdout",
     "output_type": "stream",
     "text": [
      "\n"
     ]
    }
   ],
   "source": [
    "yes_tok_id = tokenizer.encode(\" Yes\", add_special_tokens=False)[0]\n",
    "no_tok_id = tokenizer.encode(\" No\", add_special_tokens=False)[0]\n",
    "\n",
    "unb_full_resp_toks = get_generation(combined_prompts[\"unb_yes\"])\n",
    "unb_q_idx = get_last_question_index(unb_full_resp_toks)\n",
    "unb_q_response_toks = unb_full_resp_toks[unb_q_idx:]\n",
    "\n",
    "prompt_toks = tokenizer.encode(combined_prompts[\"no_yes\"])\n",
    "biased_q_idx = get_last_question_index(prompt_toks)\n",
    "biased_fsps_toks = prompt_toks[:biased_q_idx]\n",
    "\n",
    "\n",
    "vis_probs(unb_full_resp_toks)\n",
    "vis_probs(biased_fsps_toks + unb_q_response_toks)"
   ]
  },
  {
   "cell_type": "code",
   "execution_count": 44,
   "metadata": {},
   "outputs": [],
   "source": [
    "# TODOs:\n",
    "#  - show diff with positive/negative colors\n",
    "#  - show alternative tokens on hover?\n",
    "#  - identify first token in reponse that differs significantly\n",
    "#  - do generation on biased context with this token swapped"
   ]
  }
 ],
 "metadata": {
  "kernelspec": {
   "display_name": ".venv",
   "language": "python",
   "name": "python3"
  },
  "language_info": {
   "codemirror_mode": {
    "name": "ipython",
    "version": 3
   },
   "file_extension": ".py",
   "mimetype": "text/x-python",
   "name": "python",
   "nbconvert_exporter": "python",
   "pygments_lexer": "ipython3",
   "version": "3.10.12"
  }
 },
 "nbformat": 4,
 "nbformat_minor": 2
}
