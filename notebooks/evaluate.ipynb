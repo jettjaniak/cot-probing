{
 "cells": [
  {
   "cell_type": "code",
   "execution_count": 1,
   "metadata": {},
   "outputs": [],
   "source": [
    "from transformers import AutoTokenizer, AutoModelForCausalLM\n",
    "\n",
    "from cot_probing.task import load_task\n",
    "\n",
    "task_name = \"hyperbaton\"\n",
    "task = load_task(task_name, seed=0)"
   ]
  },
  {
   "cell_type": "code",
   "execution_count": null,
   "metadata": {},
   "outputs": [],
   "source": [
    "model_name = \"google/gemma-2-9b-it\"\n",
    "model = AutoModelForCausalLM.from_pretrained(model_name).cuda()\n",
    "model.eval()\n",
    "tokenizer = AutoTokenizer.from_pretrained(model_name)"
   ]
  },
  {
   "cell_type": "code",
   "execution_count": null,
   "metadata": {},
   "outputs": [],
   "source": [
    "def evaluate(input_ids):\n",
    "    model.generate(input_ids, max_new_tokens=500)"
   ]
  },
  {
   "cell_type": "code",
   "execution_count": null,
   "metadata": {},
   "outputs": [],
   "source": [
    "for prompt_base, prompt_alla, question in zip(\n",
    "    task.prompts_base, task.prompts_alla, task.questions\n",
    "):\n",
    "    enc_prompt_base = tokenizer.encode(prompt_base).cuda()\n",
    "    # enc_prompt_alla = tokenizer.encode(prompt_alla)\n",
    "    model.generate(enc_prompt_base, max_new_tokens=500)"
   ]
  }
 ],
 "metadata": {
  "kernelspec": {
   "display_name": ".venv",
   "language": "python",
   "name": "python3"
  },
  "language_info": {
   "codemirror_mode": {
    "name": "ipython",
    "version": 3
   },
   "file_extension": ".py",
   "mimetype": "text/x-python",
   "name": "python",
   "nbconvert_exporter": "python",
   "pygments_lexer": "ipython3",
   "version": "3.11.7"
  }
 },
 "nbformat": 4,
 "nbformat_minor": 2
}
