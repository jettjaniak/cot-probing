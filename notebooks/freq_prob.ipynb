{
 "cells": [
  {
   "cell_type": "code",
   "execution_count": 1,
   "metadata": {},
   "outputs": [],
   "source": [
    "%load_ext autoreload\n",
    "%autoreload 2\n",
    "import torch\n",
    "import pickle\n",
    "from cot_probing.typing import *\n",
    "from cot_probing.activations import (\n",
    "    Activations,\n",
    "    QuestionActivations,\n",
    "    get_mean_activations_by_common_token,\n",
    ")\n",
    "from cot_probing.eval import EvalQuestion, get_common_tokens, get_correct_incorrect_idxs\n",
    "from cot_probing.utils import get_train_test_split"
   ]
  },
  {
   "cell_type": "code",
   "execution_count": 2,
   "metadata": {},
   "outputs": [],
   "source": [
    "with open(\"../hf_results/activations_google--gemma-2-9b_snarks_S0_N151.pkl\", \"rb\") as f:\n",
    "    activations = pickle.load(f)\n",
    "eval_results = activations.eval_results\n",
    "eval_questions = eval_results.questions"
   ]
  },
  {
   "cell_type": "code",
   "execution_count": 9,
   "metadata": {},
   "outputs": [],
   "source": [
    "FREQ_THRESHOLD = 0.2\n",
    "TRAIN_FRAC = 0.8\n",
    "SEED = 0\n",
    "correct_q_idxs, incorrect_q_idxs = get_correct_incorrect_idxs(eval_questions)\n",
    "train_correct_idxs, test_correct_idxs = get_train_test_split(\n",
    "    correct_q_idxs, TRAIN_FRAC, SEED\n",
    ")\n",
    "train_incorrect_idxs, test_incorrect_idxs = get_train_test_split(\n",
    "    incorrect_q_idxs, TRAIN_FRAC, SEED\n",
    ")\n",
    "common_tokens = get_common_tokens(eval_questions, FREQ_THRESHOLD)\n",
    "mean_activations_correct = get_mean_activations_by_common_token(\n",
    "    common_tokens, activations, train_correct_idxs\n",
    ")\n",
    "mean_activations_incorrect = get_mean_activations_by_common_token(\n",
    "    common_tokens, activations, train_incorrect_idxs\n",
    ")"
   ]
  },
  {
   "cell_type": "code",
   "execution_count": 10,
   "metadata": {},
   "outputs": [],
   "source": [
    "probes_by_token = {\n",
    "    t: mean_activations_correct[t] - mean_activations_incorrect[t]\n",
    "    for t in common_tokens\n",
    "}"
   ]
  }
 ],
 "metadata": {
  "kernelspec": {
   "display_name": ".venv",
   "language": "python",
   "name": "python3"
  },
  "language_info": {
   "codemirror_mode": {
    "name": "ipython",
    "version": 3
   },
   "file_extension": ".py",
   "mimetype": "text/x-python",
   "name": "python",
   "nbconvert_exporter": "python",
   "pygments_lexer": "ipython3",
   "version": "3.10.12"
  }
 },
 "nbformat": 4,
 "nbformat_minor": 2
}
