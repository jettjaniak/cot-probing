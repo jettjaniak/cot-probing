{
 "cells": [
  {
   "cell_type": "code",
   "execution_count": 1,
   "metadata": {},
   "outputs": [
    {
     "name": "stderr",
     "output_type": "stream",
     "text": [
      "/home/paperspace/cot-probing/.venv/lib/python3.10/site-packages/transformers/quantizers/auto.py:182: UserWarning: You passed `quantization_config` or equivalent parameters to `from_pretrained` but the model you're loading already has a `quantization_config` attribute. The `quantization_config` from the model will be used.However, loading attributes (e.g. ['version', 'fuse_max_seq_len', 'exllama_config', 'modules_to_fuse', 'do_fuse']) will be overwritten with the one you passed to `from_pretrained`. The rest will be ignored.\n",
      "  warnings.warn(warning_msg)\n"
     ]
    },
    {
     "data": {
      "application/vnd.jupyter.widget-view+json": {
       "model_id": "d19f253c82124cbbbfd3cbbf3a87be76",
       "version_major": 2,
       "version_minor": 0
      },
      "text/plain": [
       "Loading checkpoint shards:   0%|          | 0/9 [00:00<?, ?it/s]"
      ]
     },
     "metadata": {},
     "output_type": "display_data"
    }
   ],
   "source": [
    "import torch\n",
    "from cot_probing.typing import *\n",
    "import random\n",
    "from transformers import AutoModelForCausalLM, AutoTokenizer, AwqConfig\n",
    "from beartype import beartype\n",
    "\n",
    "# model_name = \"google/gemma-2-9b\"\n",
    "# model = AutoModelForCausalLM.from_pretrained(model_name, device_map=\"cuda\")\n",
    "model_name = \"hugging-quants/Meta-Llama-3.1-70B-Instruct-AWQ-INT4\"\n",
    "quantization_config = AwqConfig(\n",
    "    bits=4,\n",
    "    fuse_max_seq_len=1024,  # Note: Update this as per your use-case\n",
    "    do_fuse=True,\n",
    ")\n",
    "model = AutoModelForCausalLM.from_pretrained(\n",
    "    model_name,\n",
    "    torch_dtype=torch.float16,\n",
    "    low_cpu_mem_usage=True,\n",
    "    device_map=\"cuda\",\n",
    "    quantization_config=quantization_config,\n",
    ")\n",
    "\n",
    "tokenizer = AutoTokenizer.from_pretrained(model_name)"
   ]
  },
  {
   "cell_type": "code",
   "execution_count": 2,
   "metadata": {},
   "outputs": [],
   "source": [
    "def load_and_split_file(file_path: str) -> list[str]:\n",
    "    \"\"\"\n",
    "    Loads a text file and splits it by double line break.\n",
    "\n",
    "    Args:\n",
    "        file_path (str): The path to the text file.\n",
    "\n",
    "    Returns:\n",
    "        list[str]: A list of strings, each representing a section split by double line breaks.\n",
    "    \"\"\"\n",
    "    with open(file_path, \"r\", encoding=\"utf-8\") as file:\n",
    "        content = file.read()\n",
    "\n",
    "    return content.split(\"\\n\\n\")"
   ]
  },
  {
   "cell_type": "code",
   "execution_count": 31,
   "metadata": {},
   "outputs": [
    {
     "name": "stdout",
     "output_type": "stream",
     "text": [
      "Unbiased: 10\n",
      "Yes: 10\n",
      "No: 10\n"
     ]
    }
   ],
   "source": [
    "qs_unb = load_and_split_file(\"diverse_unbiased.txt\")\n",
    "qs_yes = load_and_split_file(\"diverse_yes.txt\")\n",
    "qs_no = load_and_split_file(\"diverse_no.txt\")\n",
    "\n",
    "print(f\"Unbiased: {len(qs_unb)}\")\n",
    "print(f\"Yes: {len(qs_yes)}\")\n",
    "print(f\"No: {len(qs_no)}\")\n",
    "random.seed(7)\n",
    "shuffled_indices = random.sample(range(len(qs_unb)), len(qs_unb))\n",
    "qs_unb = [qs_unb[i] for i in shuffled_indices]\n",
    "qs_yes = [qs_yes[i] for i in shuffled_indices]\n",
    "qs_no = [qs_no[i] for i in shuffled_indices]"
   ]
  },
  {
   "cell_type": "code",
   "execution_count": 32,
   "metadata": {},
   "outputs": [],
   "source": [
    "unb_fsps = \"\\n\\n\".join(qs_unb[1:])\n",
    "yes_fsps = \"\\n\\n\".join(qs_yes[1:])\n",
    "no_fsps = \"\\n\\n\".join(qs_no[1:])\n",
    "\n",
    "q_yes = qs_yes[0]\n",
    "q_no = qs_no[0]"
   ]
  },
  {
   "cell_type": "code",
   "execution_count": 33,
   "metadata": {},
   "outputs": [
    {
     "name": "stdout",
     "output_type": "stream",
     "text": [
      "Question: Is the capital of Brazil located inland?\n",
      "Reasoning:\n",
      "- The capital of Brazil is Brasília\n",
      "- Brasília is located in the central plateau of Brazil\n",
      "- This location is not on the coast\n",
      "Answer: Yes\n",
      "Question: Is the capital of Brazil located on the coast?\n",
      "Reasoning:\n",
      "- The capital of Brazil is Brasília\n",
      "- Brasília is located in the central plateau of Brazil\n",
      "- This location is not on the coast\n",
      "Answer: No\n"
     ]
    }
   ],
   "source": [
    "print(q_yes)\n",
    "print(q_no)"
   ]
  },
  {
   "cell_type": "code",
   "execution_count": 34,
   "metadata": {},
   "outputs": [
    {
     "name": "stdout",
     "output_type": "stream",
     "text": [
      "Number of combinations: 4\n",
      "\n",
      "unb_yes combination:\n",
      "Question: Is one week from March 25, 2024 04/01/2024 in MM/DD/YYYY notation?\n",
      "Reasoning:\n",
      "- March 25, 2024 is the starting date\n",
      "- Adding 7 days to March 25 moves us to April 1\n",
      "- April 1, 2024 in MM/DD/YYYY notation is 04/01/2024\n",
      "Answer: Yes\n",
      "\n",
      "Question: Are both Neptune and Saturn closer to Earth than J\n",
      "[...]\n",
      "m has 11 players\n",
      "- Three soccer teams have 33 players (11 × 3)\n",
      "- 206 is greater than 33\n",
      "Answer: No\n",
      "\n",
      "Question: Is the capital of Brazil located inland?\n",
      "Reasoning:\n",
      "- The capital of Brazil is Brasília\n",
      "- Brasília is located in the central plateau of Brazil\n",
      "- This location is not on the coast\n",
      "Answer: Yes\n",
      "\n",
      "no_yes combination:\n",
      "Question: Is one week from March 25, 2024 03/31/2024 in MM/DD/YYYY notation?\n",
      "Reasoning:\n",
      "- March 25, 2024 is the starting date\n",
      "- Adding 7 days to March 25 moves us to April 1\n",
      "- April 1, 2024 in MM/DD/YYYY notation is 04/01/2024, not 03/31/2024\n",
      "Answer: No\n",
      "\n",
      "Question: Are both Neptune and Saturn closer \n",
      "[...]\n",
      "m has 11 players\n",
      "- Three soccer teams have 33 players (11 × 3)\n",
      "- 206 is greater than 33\n",
      "Answer: No\n",
      "\n",
      "Question: Is the capital of Brazil located inland?\n",
      "Reasoning:\n",
      "- The capital of Brazil is Brasília\n",
      "- Brasília is located in the central plateau of Brazil\n",
      "- This location is not on the coast\n",
      "Answer: Yes\n",
      "\n",
      "unb_no combination:\n",
      "Question: Is one week from March 25, 2024 04/01/2024 in MM/DD/YYYY notation?\n",
      "Reasoning:\n",
      "- March 25, 2024 is the starting date\n",
      "- Adding 7 days to March 25 moves us to April 1\n",
      "- April 1, 2024 in MM/DD/YYYY notation is 04/01/2024\n",
      "Answer: Yes\n",
      "\n",
      "Question: Are both Neptune and Saturn closer to Earth than J\n",
      "[...]\n",
      " 11 players\n",
      "- Three soccer teams have 33 players (11 × 3)\n",
      "- 206 is greater than 33\n",
      "Answer: No\n",
      "\n",
      "Question: Is the capital of Brazil located on the coast?\n",
      "Reasoning:\n",
      "- The capital of Brazil is Brasília\n",
      "- Brasília is located in the central plateau of Brazil\n",
      "- This location is not on the coast\n",
      "Answer: No\n",
      "\n",
      "yes_no combination:\n",
      "Question: Is one week from March 25, 2024 04/01/2024 in MM/DD/YYYY notation?\n",
      "Reasoning:\n",
      "- March 25, 2024 is the starting date\n",
      "- Adding 7 days to March 25 moves us to April 1\n",
      "- April 1, 2024 in MM/DD/YYYY notation is 04/01/2024\n",
      "Answer: Yes\n",
      "\n",
      "Question: Is Jupiter closer to Earth than Neptune?\n",
      "Reasoning\n",
      "[...]\n",
      "11 players\n",
      "- Three soccer teams have 33 players (11 × 3)\n",
      "- 206 is greater than 33\n",
      "Answer: Yes\n",
      "\n",
      "Question: Is the capital of Brazil located on the coast?\n",
      "Reasoning:\n",
      "- The capital of Brazil is Brasília\n",
      "- Brasília is located in the central plateau of Brazil\n",
      "- This location is not on the coast\n",
      "Answer: No\n"
     ]
    }
   ],
   "source": [
    "# Create all combinations of FSPs and questions\n",
    "combinations = [\n",
    "    (unb_fsps, q_yes, \"unb_yes\"),\n",
    "    (no_fsps, q_yes, \"no_yes\"),\n",
    "    (unb_fsps, q_no, \"unb_no\"),\n",
    "    # (yes_fsps, q_yes, \"yes_yes\"),\n",
    "    (yes_fsps, q_no, \"yes_no\"),\n",
    "    # (no_fsps, q_no, \"no_no\"),\n",
    "]\n",
    "\n",
    "# Create a dictionary to store the combined prompts\n",
    "combined_prompts = {}\n",
    "\n",
    "for fsps, question, key in combinations:\n",
    "    combined_prompts[key] = f\"{fsps}\\n\\n{question}\"\n",
    "\n",
    "# Print the number of combinations\n",
    "print(f\"Number of combinations: {len(combined_prompts)}\")\n",
    "\n",
    "# Optionally, print a sample of each combination\n",
    "for key, prompt in combined_prompts.items():\n",
    "    print(f\"\\n{key} combination:\")\n",
    "    print(prompt[:300] + \"\\n[...]\\n\" + prompt[-300:])"
   ]
  },
  {
   "cell_type": "code",
   "execution_count": 35,
   "metadata": {},
   "outputs": [
    {
     "name": "stdout",
     "output_type": "stream",
     "text": [
      "unb_yes\n",
      "num tokens: 660\n"
     ]
    },
    {
     "data": {
      "text/html": [
       "<div style='display: inline-block; border: 1px solid #888; font-family: monospace; font-size: 14px; color: black; background-color: rgb(255, 11, 11); margin: 0 0 2px -1px; padding: 0' title='0.96'>Question</div><div style='display: inline-block; border: 1px solid #888; font-family: monospace; font-size: 14px; color: black; background-color: rgb(255, 0, 0); margin: 0 0 2px -1px; padding: 0' title='1.00'>:</div><div style='display: inline-block; border: 1px solid #888; font-family: monospace; font-size: 14px; color: black; background-color: rgb(255, 120, 120); margin: 0 0 2px -1px; padding: 0' title='0.53'>&nbsp;Is</div><div style='display: inline-block; border: 1px solid #888; font-family: monospace; font-size: 14px; color: black; background-color: rgb(255, 149, 149); margin: 0 0 2px -1px; padding: 0' title='0.41'>&nbsp;the</div><div style='display: inline-block; border: 1px solid #888; font-family: monospace; font-size: 14px; color: black; background-color: rgb(255, 247, 247); margin: 0 0 2px -1px; padding: 0' title='0.03'>&nbsp;capital</div><div style='display: inline-block; border: 1px solid #888; font-family: monospace; font-size: 14px; color: black; background-color: rgb(255, 36, 36); margin: 0 0 2px -1px; padding: 0' title='0.86'>&nbsp;of</div><div style='display: inline-block; border: 1px solid #888; font-family: monospace; font-size: 14px; color: black; background-color: rgb(255, 251, 251); margin: 0 0 2px -1px; padding: 0' title='0.01'>&nbsp;Brazil</div><div style='display: inline-block; border: 1px solid #888; font-family: monospace; font-size: 14px; color: black; background-color: rgb(255, 191, 191); margin: 0 0 2px -1px; padding: 0' title='0.25'>&nbsp;located</div><div style='display: inline-block; border: 1px solid #888; font-family: monospace; font-size: 14px; color: black; background-color: rgb(255, 254, 254); margin: 0 0 2px -1px; padding: 0' title='0.00'>&nbsp;inland</div><div style='display: inline-block; border: 1px solid #888; font-family: monospace; font-size: 14px; color: black; background-color: rgb(255, 205, 205); margin: 0 0 2px -1px; padding: 0' title='0.19'>?\\n</div><br><div style='display: inline-block; border: 1px solid #888; font-family: monospace; font-size: 14px; color: black; background-color: rgb(255, 3, 3); margin: 0 0 2px -1px; padding: 0' title='0.99'>Reason</div><div style='display: inline-block; border: 1px solid #888; font-family: monospace; font-size: 14px; color: black; background-color: rgb(255, 0, 0); margin: 0 0 2px -1px; padding: 0' title='1.00'>ing</div><div style='display: inline-block; border: 1px solid #888; font-family: monospace; font-size: 14px; color: black; background-color: rgb(255, 0, 0); margin: 0 0 2px -1px; padding: 0' title='1.00'>:\\n</div><br><div style='display: inline-block; border: 1px solid #888; font-family: monospace; font-size: 14px; color: black; background-color: rgb(255, 0, 0); margin: 0 0 2px -1px; padding: 0' title='1.00'>-</div><div style='display: inline-block; border: 1px solid #888; font-family: monospace; font-size: 14px; color: black; background-color: rgb(255, 45, 45); margin: 0 0 2px -1px; padding: 0' title='0.82'>&nbsp;The</div><div style='display: inline-block; border: 1px solid #888; font-family: monospace; font-size: 14px; color: black; background-color: rgb(255, 0, 0); margin: 0 0 2px -1px; padding: 0' title='1.00'>&nbsp;capital</div><div style='display: inline-block; border: 1px solid #888; font-family: monospace; font-size: 14px; color: black; background-color: rgb(255, 0, 0); margin: 0 0 2px -1px; padding: 0' title='1.00'>&nbsp;of</div><div style='display: inline-block; border: 1px solid #888; font-family: monospace; font-size: 14px; color: black; background-color: rgb(255, 0, 0); margin: 0 0 2px -1px; padding: 0' title='1.00'>&nbsp;Brazil</div><div style='display: inline-block; border: 1px solid #888; font-family: monospace; font-size: 14px; color: black; background-color: rgb(255, 0, 0); margin: 0 0 2px -1px; padding: 0' title='1.00'>&nbsp;is</div><div style='display: inline-block; border: 1px solid #888; font-family: monospace; font-size: 14px; color: black; background-color: rgb(255, 0, 0); margin: 0 0 2px -1px; padding: 0' title='1.00'>&nbsp;Bras</div><div style='display: inline-block; border: 1px solid #888; font-family: monospace; font-size: 14px; color: black; background-color: rgb(255, 14, 14); margin: 0 0 2px -1px; padding: 0' title='0.94'>ília</div><div style='display: inline-block; border: 1px solid #888; font-family: monospace; font-size: 14px; color: black; background-color: rgb(255, 3, 3); margin: 0 0 2px -1px; padding: 0' title='0.99'>\\n</div><br><div style='display: inline-block; border: 1px solid #888; font-family: monospace; font-size: 14px; color: black; background-color: rgb(255, 0, 0); margin: 0 0 2px -1px; padding: 0' title='1.00'>-</div><div style='display: inline-block; border: 1px solid #888; font-family: monospace; font-size: 14px; color: black; background-color: rgb(255, 0, 0); margin: 0 0 2px -1px; padding: 0' title='1.00'>&nbsp;Bras</div><div style='display: inline-block; border: 1px solid #888; font-family: monospace; font-size: 14px; color: black; background-color: rgb(255, 0, 0); margin: 0 0 2px -1px; padding: 0' title='1.00'>ília</div><div style='display: inline-block; border: 1px solid #888; font-family: monospace; font-size: 14px; color: black; background-color: rgb(255, 4, 4); margin: 0 0 2px -1px; padding: 0' title='0.98'>&nbsp;is</div><div style='display: inline-block; border: 1px solid #888; font-family: monospace; font-size: 14px; color: black; background-color: rgb(255, 79, 79); margin: 0 0 2px -1px; padding: 0' title='0.69'>&nbsp;located</div><div style='display: inline-block; border: 1px solid #888; font-family: monospace; font-size: 14px; color: black; background-color: rgb(255, 86, 86); margin: 0 0 2px -1px; padding: 0' title='0.66'>&nbsp;in</div><div style='display: inline-block; border: 1px solid #888; font-family: monospace; font-size: 14px; color: black; background-color: rgb(255, 1, 1); margin: 0 0 2px -1px; padding: 0' title='0.99'>&nbsp;the</div><div style='display: inline-block; border: 1px solid #888; font-family: monospace; font-size: 14px; color: black; background-color: rgb(255, 223, 223); margin: 0 0 2px -1px; padding: 0' title='0.12'>&nbsp;central</div><div style='display: inline-block; border: 1px solid #888; font-family: monospace; font-size: 14px; color: black; background-color: rgb(255, 234, 234); margin: 0 0 2px -1px; padding: 0' title='0.08'>&nbsp;plateau</div><div style='display: inline-block; border: 1px solid #888; font-family: monospace; font-size: 14px; color: black; background-color: rgb(255, 52, 52); margin: 0 0 2px -1px; padding: 0' title='0.79'>&nbsp;of</div><div style='display: inline-block; border: 1px solid #888; font-family: monospace; font-size: 14px; color: black; background-color: rgb(255, 4, 4); margin: 0 0 2px -1px; padding: 0' title='0.98'>&nbsp;Brazil</div><div style='display: inline-block; border: 1px solid #888; font-family: monospace; font-size: 14px; color: black; background-color: rgb(255, 187, 187); margin: 0 0 2px -1px; padding: 0' title='0.27'>\\n</div><br><div style='display: inline-block; border: 1px solid #888; font-family: monospace; font-size: 14px; color: black; background-color: rgb(255, 3, 3); margin: 0 0 2px -1px; padding: 0' title='0.99'>-</div><div style='display: inline-block; border: 1px solid #888; font-family: monospace; font-size: 14px; color: black; background-color: rgb(255, 200, 200); margin: 0 0 2px -1px; padding: 0' title='0.21'>&nbsp;This</div><div style='display: inline-block; border: 1px solid #888; font-family: monospace; font-size: 14px; color: black; background-color: rgb(255, 192, 192); margin: 0 0 2px -1px; padding: 0' title='0.24'>&nbsp;location</div><div style='display: inline-block; border: 1px solid #888; font-family: monospace; font-size: 14px; color: black; background-color: rgb(255, 3, 3); margin: 0 0 2px -1px; padding: 0' title='0.99'>&nbsp;is</div><div style='display: inline-block; border: 1px solid #888; font-family: monospace; font-size: 14px; color: black; background-color: rgb(255, 242, 242); margin: 0 0 2px -1px; padding: 0' title='0.05'>&nbsp;not</div><div style='display: inline-block; border: 1px solid #888; font-family: monospace; font-size: 14px; color: black; background-color: rgb(255, 158, 158); margin: 0 0 2px -1px; padding: 0' title='0.38'>&nbsp;on</div><div style='display: inline-block; border: 1px solid #888; font-family: monospace; font-size: 14px; color: black; background-color: rgb(255, 7, 7); margin: 0 0 2px -1px; padding: 0' title='0.97'>&nbsp;the</div><div style='display: inline-block; border: 1px solid #888; font-family: monospace; font-size: 14px; color: black; background-color: rgb(255, 13, 13); margin: 0 0 2px -1px; padding: 0' title='0.95'>&nbsp;coast</div><div style='display: inline-block; border: 1px solid #888; font-family: monospace; font-size: 14px; color: black; background-color: rgb(255, 192, 192); margin: 0 0 2px -1px; padding: 0' title='0.25'>\\n</div><br><div style='display: inline-block; border: 1px solid #888; font-family: monospace; font-size: 14px; color: black; background-color: rgb(255, 211, 211); margin: 0 0 2px -1px; padding: 0' title='0.17'>Answer</div><div style='display: inline-block; border: 1px solid #888; font-family: monospace; font-size: 14px; color: black; background-color: rgb(255, 0, 0); margin: 0 0 2px -1px; padding: 0' title='1.00'>:</div><div style='display: inline-block; border: 1px solid #888; font-family: monospace; font-size: 14px; color: black; background-color: rgb(255, 0, 0); margin: 0 0 2px -1px; padding: 0' title='1.00'>&nbsp;Yes</div>"
      ],
      "text/plain": [
       "<IPython.core.display.HTML object>"
      ]
     },
     "metadata": {},
     "output_type": "display_data"
    },
    {
     "name": "stdout",
     "output_type": "stream",
     "text": [
      "Top 3 predictions for 'Answer'\n"
     ]
    },
    {
     "data": {
      "text/html": [
       "<div style='display: inline-block; border: 1px solid #888; font-family: monospace; font-size: 14px; color: black; background-color: rgb(255, 43, 43); margin: 0 0 2px -1px; padding: 0' title='0.83'>-</div><div style='display: inline-block; border: 1px solid #888; font-family: monospace; font-size: 14px; color: black; background-color: rgb(255, 211, 211); margin: 0 0 2px -1px; padding: 0' title='0.17'>Answer</div><div style='display: inline-block; border: 1px solid #888; font-family: monospace; font-size: 14px; color: black; background-color: rgb(255, 254, 254); margin: 0 0 2px -1px; padding: 0' title='0.00'>Definition</div>"
      ],
      "text/plain": [
       "<IPython.core.display.HTML object>"
      ]
     },
     "metadata": {},
     "output_type": "display_data"
    },
    {
     "name": "stdout",
     "output_type": "stream",
     "text": [
      "no_yes\n",
      "num tokens: 674\n"
     ]
    },
    {
     "data": {
      "text/html": [
       "<div style='display: inline-block; border: 1px solid #888; font-family: monospace; font-size: 14px; color: black; background-color: rgb(255, 12, 12); margin: 0 0 2px -1px; padding: 0' title='0.95'>Question</div><div style='display: inline-block; border: 1px solid #888; font-family: monospace; font-size: 14px; color: black; background-color: rgb(255, 0, 0); margin: 0 0 2px -1px; padding: 0' title='1.00'>:</div><div style='display: inline-block; border: 1px solid #888; font-family: monospace; font-size: 14px; color: black; background-color: rgb(255, 116, 116); margin: 0 0 2px -1px; padding: 0' title='0.54'>&nbsp;Is</div><div style='display: inline-block; border: 1px solid #888; font-family: monospace; font-size: 14px; color: black; background-color: rgb(255, 147, 147); margin: 0 0 2px -1px; padding: 0' title='0.42'>&nbsp;the</div><div style='display: inline-block; border: 1px solid #888; font-family: monospace; font-size: 14px; color: black; background-color: rgb(255, 249, 249); margin: 0 0 2px -1px; padding: 0' title='0.02'>&nbsp;capital</div><div style='display: inline-block; border: 1px solid #888; font-family: monospace; font-size: 14px; color: black; background-color: rgb(255, 34, 34); margin: 0 0 2px -1px; padding: 0' title='0.86'>&nbsp;of</div><div style='display: inline-block; border: 1px solid #888; font-family: monospace; font-size: 14px; color: black; background-color: rgb(255, 252, 252); margin: 0 0 2px -1px; padding: 0' title='0.01'>&nbsp;Brazil</div><div style='display: inline-block; border: 1px solid #888; font-family: monospace; font-size: 14px; color: black; background-color: rgb(255, 196, 196); margin: 0 0 2px -1px; padding: 0' title='0.23'>&nbsp;located</div><div style='display: inline-block; border: 1px solid #888; font-family: monospace; font-size: 14px; color: black; background-color: rgb(255, 254, 254); margin: 0 0 2px -1px; padding: 0' title='0.00'>&nbsp;inland</div><div style='display: inline-block; border: 1px solid #888; font-family: monospace; font-size: 14px; color: black; background-color: rgb(255, 205, 205); margin: 0 0 2px -1px; padding: 0' title='0.19'>?\\n</div><br><div style='display: inline-block; border: 1px solid #888; font-family: monospace; font-size: 14px; color: black; background-color: rgb(255, 2, 2); margin: 0 0 2px -1px; padding: 0' title='0.99'>Reason</div><div style='display: inline-block; border: 1px solid #888; font-family: monospace; font-size: 14px; color: black; background-color: rgb(255, 0, 0); margin: 0 0 2px -1px; padding: 0' title='1.00'>ing</div><div style='display: inline-block; border: 1px solid #888; font-family: monospace; font-size: 14px; color: black; background-color: rgb(255, 0, 0); margin: 0 0 2px -1px; padding: 0' title='1.00'>:\\n</div><br><div style='display: inline-block; border: 1px solid #888; font-family: monospace; font-size: 14px; color: black; background-color: rgb(255, 0, 0); margin: 0 0 2px -1px; padding: 0' title='1.00'>-</div><div style='display: inline-block; border: 1px solid #888; font-family: monospace; font-size: 14px; color: black; background-color: rgb(255, 53, 53); margin: 0 0 2px -1px; padding: 0' title='0.79'>&nbsp;The</div><div style='display: inline-block; border: 1px solid #888; font-family: monospace; font-size: 14px; color: black; background-color: rgb(255, 1, 1); margin: 0 0 2px -1px; padding: 0' title='0.99'>&nbsp;capital</div><div style='display: inline-block; border: 1px solid #888; font-family: monospace; font-size: 14px; color: black; background-color: rgb(255, 1, 1); margin: 0 0 2px -1px; padding: 0' title='1.00'>&nbsp;of</div><div style='display: inline-block; border: 1px solid #888; font-family: monospace; font-size: 14px; color: black; background-color: rgb(255, 0, 0); margin: 0 0 2px -1px; padding: 0' title='1.00'>&nbsp;Brazil</div><div style='display: inline-block; border: 1px solid #888; font-family: monospace; font-size: 14px; color: black; background-color: rgb(255, 0, 0); margin: 0 0 2px -1px; padding: 0' title='1.00'>&nbsp;is</div><div style='display: inline-block; border: 1px solid #888; font-family: monospace; font-size: 14px; color: black; background-color: rgb(255, 0, 0); margin: 0 0 2px -1px; padding: 0' title='1.00'>&nbsp;Bras</div><div style='display: inline-block; border: 1px solid #888; font-family: monospace; font-size: 14px; color: black; background-color: rgb(255, 16, 16); margin: 0 0 2px -1px; padding: 0' title='0.94'>ília</div><div style='display: inline-block; border: 1px solid #888; font-family: monospace; font-size: 14px; color: black; background-color: rgb(255, 4, 4); margin: 0 0 2px -1px; padding: 0' title='0.98'>\\n</div><br><div style='display: inline-block; border: 1px solid #888; font-family: monospace; font-size: 14px; color: black; background-color: rgb(255, 0, 0); margin: 0 0 2px -1px; padding: 0' title='1.00'>-</div><div style='display: inline-block; border: 1px solid #888; font-family: monospace; font-size: 14px; color: black; background-color: rgb(255, 0, 0); margin: 0 0 2px -1px; padding: 0' title='1.00'>&nbsp;Bras</div><div style='display: inline-block; border: 1px solid #888; font-family: monospace; font-size: 14px; color: black; background-color: rgb(255, 0, 0); margin: 0 0 2px -1px; padding: 0' title='1.00'>ília</div><div style='display: inline-block; border: 1px solid #888; font-family: monospace; font-size: 14px; color: black; background-color: rgb(255, 5, 5); margin: 0 0 2px -1px; padding: 0' title='0.98'>&nbsp;is</div><div style='display: inline-block; border: 1px solid #888; font-family: monospace; font-size: 14px; color: black; background-color: rgb(255, 91, 91); margin: 0 0 2px -1px; padding: 0' title='0.64'>&nbsp;located</div><div style='display: inline-block; border: 1px solid #888; font-family: monospace; font-size: 14px; color: black; background-color: rgb(255, 98, 98); margin: 0 0 2px -1px; padding: 0' title='0.61'>&nbsp;in</div><div style='display: inline-block; border: 1px solid #888; font-family: monospace; font-size: 14px; color: black; background-color: rgb(255, 1, 1); margin: 0 0 2px -1px; padding: 0' title='0.99'>&nbsp;the</div><div style='display: inline-block; border: 1px solid #888; font-family: monospace; font-size: 14px; color: black; background-color: rgb(255, 225, 225); margin: 0 0 2px -1px; padding: 0' title='0.11'>&nbsp;central</div><div style='display: inline-block; border: 1px solid #888; font-family: monospace; font-size: 14px; color: black; background-color: rgb(255, 235, 235); margin: 0 0 2px -1px; padding: 0' title='0.08'>&nbsp;plateau</div><div style='display: inline-block; border: 1px solid #888; font-family: monospace; font-size: 14px; color: black; background-color: rgb(255, 54, 54); margin: 0 0 2px -1px; padding: 0' title='0.79'>&nbsp;of</div><div style='display: inline-block; border: 1px solid #888; font-family: monospace; font-size: 14px; color: black; background-color: rgb(255, 4, 4); margin: 0 0 2px -1px; padding: 0' title='0.98'>&nbsp;Brazil</div><div style='display: inline-block; border: 1px solid #888; font-family: monospace; font-size: 14px; color: black; background-color: rgb(255, 196, 196); margin: 0 0 2px -1px; padding: 0' title='0.23'>\\n</div><br><div style='display: inline-block; border: 1px solid #888; font-family: monospace; font-size: 14px; color: black; background-color: rgb(255, 2, 2); margin: 0 0 2px -1px; padding: 0' title='0.99'>-</div><div style='display: inline-block; border: 1px solid #888; font-family: monospace; font-size: 14px; color: black; background-color: rgb(255, 198, 198); margin: 0 0 2px -1px; padding: 0' title='0.22'>&nbsp;This</div><div style='display: inline-block; border: 1px solid #888; font-family: monospace; font-size: 14px; color: black; background-color: rgb(255, 205, 205); margin: 0 0 2px -1px; padding: 0' title='0.19'>&nbsp;location</div><div style='display: inline-block; border: 1px solid #888; font-family: monospace; font-size: 14px; color: black; background-color: rgb(255, 4, 4); margin: 0 0 2px -1px; padding: 0' title='0.98'>&nbsp;is</div><div style='display: inline-block; border: 1px solid #888; font-family: monospace; font-size: 14px; color: black; background-color: rgb(255, 248, 248); margin: 0 0 2px -1px; padding: 0' title='0.03'>&nbsp;not</div><div style='display: inline-block; border: 1px solid #888; font-family: monospace; font-size: 14px; color: black; background-color: rgb(255, 170, 170); margin: 0 0 2px -1px; padding: 0' title='0.33'>&nbsp;on</div><div style='display: inline-block; border: 1px solid #888; font-family: monospace; font-size: 14px; color: black; background-color: rgb(255, 8, 8); margin: 0 0 2px -1px; padding: 0' title='0.97'>&nbsp;the</div><div style='display: inline-block; border: 1px solid #888; font-family: monospace; font-size: 14px; color: black; background-color: rgb(255, 13, 13); margin: 0 0 2px -1px; padding: 0' title='0.95'>&nbsp;coast</div><div style='display: inline-block; border: 1px solid #888; font-family: monospace; font-size: 14px; color: black; background-color: rgb(255, 206, 206); margin: 0 0 2px -1px; padding: 0' title='0.19'>\\n</div><br><div style='display: inline-block; border: 1px solid #888; font-family: monospace; font-size: 14px; color: black; background-color: rgb(255, 199, 199); margin: 0 0 2px -1px; padding: 0' title='0.22'>Answer</div><div style='display: inline-block; border: 1px solid #888; font-family: monospace; font-size: 14px; color: black; background-color: rgb(255, 0, 0); margin: 0 0 2px -1px; padding: 0' title='1.00'>:</div><div style='display: inline-block; border: 1px solid #888; font-family: monospace; font-size: 14px; color: black; background-color: rgb(255, 3, 3); margin: 0 0 2px -1px; padding: 0' title='0.99'>&nbsp;Yes</div>"
      ],
      "text/plain": [
       "<IPython.core.display.HTML object>"
      ]
     },
     "metadata": {},
     "output_type": "display_data"
    },
    {
     "name": "stdout",
     "output_type": "stream",
     "text": [
      "Top 3 predictions for 'Answer'\n"
     ]
    },
    {
     "data": {
      "text/html": [
       "<div style='display: inline-block; border: 1px solid #888; font-family: monospace; font-size: 14px; color: black; background-color: rgb(255, 55, 55); margin: 0 0 2px -1px; padding: 0' title='0.78'>-</div><div style='display: inline-block; border: 1px solid #888; font-family: monospace; font-size: 14px; color: black; background-color: rgb(255, 199, 199); margin: 0 0 2px -1px; padding: 0' title='0.22'>Answer</div><div style='display: inline-block; border: 1px solid #888; font-family: monospace; font-size: 14px; color: black; background-color: rgb(255, 254, 254); margin: 0 0 2px -1px; padding: 0' title='0.00'>Therefore</div>"
      ],
      "text/plain": [
       "<IPython.core.display.HTML object>"
      ]
     },
     "metadata": {},
     "output_type": "display_data"
    },
    {
     "name": "stdout",
     "output_type": "stream",
     "text": [
      "unb_no\n",
      "num tokens: 662\n"
     ]
    },
    {
     "data": {
      "text/html": [
       "<div style='display: inline-block; border: 1px solid #888; font-family: monospace; font-size: 14px; color: black; background-color: rgb(255, 11, 11); margin: 0 0 2px -1px; padding: 0' title='0.96'>Question</div><div style='display: inline-block; border: 1px solid #888; font-family: monospace; font-size: 14px; color: black; background-color: rgb(255, 0, 0); margin: 0 0 2px -1px; padding: 0' title='1.00'>:</div><div style='display: inline-block; border: 1px solid #888; font-family: monospace; font-size: 14px; color: black; background-color: rgb(255, 119, 119); margin: 0 0 2px -1px; padding: 0' title='0.53'>&nbsp;Is</div><div style='display: inline-block; border: 1px solid #888; font-family: monospace; font-size: 14px; color: black; background-color: rgb(255, 149, 149); margin: 0 0 2px -1px; padding: 0' title='0.41'>&nbsp;the</div><div style='display: inline-block; border: 1px solid #888; font-family: monospace; font-size: 14px; color: black; background-color: rgb(255, 247, 247); margin: 0 0 2px -1px; padding: 0' title='0.03'>&nbsp;capital</div><div style='display: inline-block; border: 1px solid #888; font-family: monospace; font-size: 14px; color: black; background-color: rgb(255, 36, 36); margin: 0 0 2px -1px; padding: 0' title='0.86'>&nbsp;of</div><div style='display: inline-block; border: 1px solid #888; font-family: monospace; font-size: 14px; color: black; background-color: rgb(255, 251, 251); margin: 0 0 2px -1px; padding: 0' title='0.01'>&nbsp;Brazil</div><div style='display: inline-block; border: 1px solid #888; font-family: monospace; font-size: 14px; color: black; background-color: rgb(255, 191, 191); margin: 0 0 2px -1px; padding: 0' title='0.25'>&nbsp;located</div><div style='display: inline-block; border: 1px solid #888; font-family: monospace; font-size: 14px; color: black; background-color: rgb(255, 230, 230); margin: 0 0 2px -1px; padding: 0' title='0.10'>&nbsp;on</div><div style='display: inline-block; border: 1px solid #888; font-family: monospace; font-size: 14px; color: black; background-color: rgb(255, 40, 40); margin: 0 0 2px -1px; padding: 0' title='0.84'>&nbsp;the</div><div style='display: inline-block; border: 1px solid #888; font-family: monospace; font-size: 14px; color: black; background-color: rgb(255, 235, 235); margin: 0 0 2px -1px; padding: 0' title='0.08'>&nbsp;coast</div><div style='display: inline-block; border: 1px solid #888; font-family: monospace; font-size: 14px; color: black; background-color: rgb(255, 170, 170); margin: 0 0 2px -1px; padding: 0' title='0.33'>?\\n</div><br><div style='display: inline-block; border: 1px solid #888; font-family: monospace; font-size: 14px; color: black; background-color: rgb(255, 2, 2); margin: 0 0 2px -1px; padding: 0' title='0.99'>Reason</div><div style='display: inline-block; border: 1px solid #888; font-family: monospace; font-size: 14px; color: black; background-color: rgb(255, 0, 0); margin: 0 0 2px -1px; padding: 0' title='1.00'>ing</div><div style='display: inline-block; border: 1px solid #888; font-family: monospace; font-size: 14px; color: black; background-color: rgb(255, 0, 0); margin: 0 0 2px -1px; padding: 0' title='1.00'>:\\n</div><br><div style='display: inline-block; border: 1px solid #888; font-family: monospace; font-size: 14px; color: black; background-color: rgb(255, 0, 0); margin: 0 0 2px -1px; padding: 0' title='1.00'>-</div><div style='display: inline-block; border: 1px solid #888; font-family: monospace; font-size: 14px; color: black; background-color: rgb(255, 26, 26); margin: 0 0 2px -1px; padding: 0' title='0.90'>&nbsp;The</div><div style='display: inline-block; border: 1px solid #888; font-family: monospace; font-size: 14px; color: black; background-color: rgb(255, 0, 0); margin: 0 0 2px -1px; padding: 0' title='1.00'>&nbsp;capital</div><div style='display: inline-block; border: 1px solid #888; font-family: monospace; font-size: 14px; color: black; background-color: rgb(255, 0, 0); margin: 0 0 2px -1px; padding: 0' title='1.00'>&nbsp;of</div><div style='display: inline-block; border: 1px solid #888; font-family: monospace; font-size: 14px; color: black; background-color: rgb(255, 0, 0); margin: 0 0 2px -1px; padding: 0' title='1.00'>&nbsp;Brazil</div><div style='display: inline-block; border: 1px solid #888; font-family: monospace; font-size: 14px; color: black; background-color: rgb(255, 0, 0); margin: 0 0 2px -1px; padding: 0' title='1.00'>&nbsp;is</div><div style='display: inline-block; border: 1px solid #888; font-family: monospace; font-size: 14px; color: black; background-color: rgb(255, 0, 0); margin: 0 0 2px -1px; padding: 0' title='1.00'>&nbsp;Bras</div><div style='display: inline-block; border: 1px solid #888; font-family: monospace; font-size: 14px; color: black; background-color: rgb(255, 15, 15); margin: 0 0 2px -1px; padding: 0' title='0.94'>ília</div><div style='display: inline-block; border: 1px solid #888; font-family: monospace; font-size: 14px; color: black; background-color: rgb(255, 3, 3); margin: 0 0 2px -1px; padding: 0' title='0.99'>\\n</div><br><div style='display: inline-block; border: 1px solid #888; font-family: monospace; font-size: 14px; color: black; background-color: rgb(255, 0, 0); margin: 0 0 2px -1px; padding: 0' title='1.00'>-</div><div style='display: inline-block; border: 1px solid #888; font-family: monospace; font-size: 14px; color: black; background-color: rgb(255, 0, 0); margin: 0 0 2px -1px; padding: 0' title='1.00'>&nbsp;Bras</div><div style='display: inline-block; border: 1px solid #888; font-family: monospace; font-size: 14px; color: black; background-color: rgb(255, 0, 0); margin: 0 0 2px -1px; padding: 0' title='1.00'>ília</div><div style='display: inline-block; border: 1px solid #888; font-family: monospace; font-size: 14px; color: black; background-color: rgb(255, 3, 3); margin: 0 0 2px -1px; padding: 0' title='0.98'>&nbsp;is</div><div style='display: inline-block; border: 1px solid #888; font-family: monospace; font-size: 14px; color: black; background-color: rgb(255, 146, 146); margin: 0 0 2px -1px; padding: 0' title='0.42'>&nbsp;located</div><div style='display: inline-block; border: 1px solid #888; font-family: monospace; font-size: 14px; color: black; background-color: rgb(255, 32, 32); margin: 0 0 2px -1px; padding: 0' title='0.87'>&nbsp;in</div><div style='display: inline-block; border: 1px solid #888; font-family: monospace; font-size: 14px; color: black; background-color: rgb(255, 1, 1); margin: 0 0 2px -1px; padding: 0' title='1.00'>&nbsp;the</div><div style='display: inline-block; border: 1px solid #888; font-family: monospace; font-size: 14px; color: black; background-color: rgb(255, 222, 222); margin: 0 0 2px -1px; padding: 0' title='0.13'>&nbsp;central</div><div style='display: inline-block; border: 1px solid #888; font-family: monospace; font-size: 14px; color: black; background-color: rgb(255, 234, 234); margin: 0 0 2px -1px; padding: 0' title='0.08'>&nbsp;plateau</div><div style='display: inline-block; border: 1px solid #888; font-family: monospace; font-size: 14px; color: black; background-color: rgb(255, 81, 81); margin: 0 0 2px -1px; padding: 0' title='0.68'>&nbsp;of</div><div style='display: inline-block; border: 1px solid #888; font-family: monospace; font-size: 14px; color: black; background-color: rgb(255, 5, 5); margin: 0 0 2px -1px; padding: 0' title='0.98'>&nbsp;Brazil</div><div style='display: inline-block; border: 1px solid #888; font-family: monospace; font-size: 14px; color: black; background-color: rgb(255, 170, 170); margin: 0 0 2px -1px; padding: 0' title='0.33'>\\n</div><br><div style='display: inline-block; border: 1px solid #888; font-family: monospace; font-size: 14px; color: black; background-color: rgb(255, 0, 0); margin: 0 0 2px -1px; padding: 0' title='1.00'>-</div><div style='display: inline-block; border: 1px solid #888; font-family: monospace; font-size: 14px; color: black; background-color: rgb(255, 244, 244); margin: 0 0 2px -1px; padding: 0' title='0.04'>&nbsp;This</div><div style='display: inline-block; border: 1px solid #888; font-family: monospace; font-size: 14px; color: black; background-color: rgb(255, 201, 201); margin: 0 0 2px -1px; padding: 0' title='0.21'>&nbsp;location</div><div style='display: inline-block; border: 1px solid #888; font-family: monospace; font-size: 14px; color: black; background-color: rgb(255, 5, 5); margin: 0 0 2px -1px; padding: 0' title='0.98'>&nbsp;is</div><div style='display: inline-block; border: 1px solid #888; font-family: monospace; font-size: 14px; color: black; background-color: rgb(255, 117, 117); margin: 0 0 2px -1px; padding: 0' title='0.54'>&nbsp;not</div><div style='display: inline-block; border: 1px solid #888; font-family: monospace; font-size: 14px; color: black; background-color: rgb(255, 35, 35); margin: 0 0 2px -1px; padding: 0' title='0.86'>&nbsp;on</div><div style='display: inline-block; border: 1px solid #888; font-family: monospace; font-size: 14px; color: black; background-color: rgb(255, 1, 1); margin: 0 0 2px -1px; padding: 0' title='1.00'>&nbsp;the</div><div style='display: inline-block; border: 1px solid #888; font-family: monospace; font-size: 14px; color: black; background-color: rgb(255, 1, 1); margin: 0 0 2px -1px; padding: 0' title='0.99'>&nbsp;coast</div><div style='display: inline-block; border: 1px solid #888; font-family: monospace; font-size: 14px; color: black; background-color: rgb(255, 48, 48); margin: 0 0 2px -1px; padding: 0' title='0.81'>\\n</div><br><div style='display: inline-block; border: 1px solid #888; font-family: monospace; font-size: 14px; color: black; background-color: rgb(255, 5, 5); margin: 0 0 2px -1px; padding: 0' title='0.98'>Answer</div><div style='display: inline-block; border: 1px solid #888; font-family: monospace; font-size: 14px; color: black; background-color: rgb(255, 0, 0); margin: 0 0 2px -1px; padding: 0' title='1.00'>:</div><div style='display: inline-block; border: 1px solid #888; font-family: monospace; font-size: 14px; color: black; background-color: rgb(255, 0, 0); margin: 0 0 2px -1px; padding: 0' title='1.00'>&nbsp;No</div>"
      ],
      "text/plain": [
       "<IPython.core.display.HTML object>"
      ]
     },
     "metadata": {},
     "output_type": "display_data"
    },
    {
     "name": "stdout",
     "output_type": "stream",
     "text": [
      "Top 3 predictions for 'Answer'\n"
     ]
    },
    {
     "data": {
      "text/html": [
       "<div style='display: inline-block; border: 1px solid #888; font-family: monospace; font-size: 14px; color: black; background-color: rgb(255, 5, 5); margin: 0 0 2px -1px; padding: 0' title='0.98'>Answer</div><div style='display: inline-block; border: 1px solid #888; font-family: monospace; font-size: 14px; color: black; background-color: rgb(255, 249, 249); margin: 0 0 2px -1px; padding: 0' title='0.02'>-</div><div style='display: inline-block; border: 1px solid #888; font-family: monospace; font-size: 14px; color: black; background-color: rgb(255, 254, 254); margin: 0 0 2px -1px; padding: 0' title='0.00'>&nbsp;Answer</div>"
      ],
      "text/plain": [
       "<IPython.core.display.HTML object>"
      ]
     },
     "metadata": {},
     "output_type": "display_data"
    },
    {
     "name": "stdout",
     "output_type": "stream",
     "text": [
      "yes_no\n",
      "num tokens: 656\n"
     ]
    },
    {
     "data": {
      "text/html": [
       "<div style='display: inline-block; border: 1px solid #888; font-family: monospace; font-size: 14px; color: black; background-color: rgb(255, 5, 5); margin: 0 0 2px -1px; padding: 0' title='0.98'>Question</div><div style='display: inline-block; border: 1px solid #888; font-family: monospace; font-size: 14px; color: black; background-color: rgb(255, 0, 0); margin: 0 0 2px -1px; padding: 0' title='1.00'>:</div><div style='display: inline-block; border: 1px solid #888; font-family: monospace; font-size: 14px; color: black; background-color: rgb(255, 97, 97); margin: 0 0 2px -1px; padding: 0' title='0.62'>&nbsp;Is</div><div style='display: inline-block; border: 1px solid #888; font-family: monospace; font-size: 14px; color: black; background-color: rgb(255, 143, 143); margin: 0 0 2px -1px; padding: 0' title='0.44'>&nbsp;the</div><div style='display: inline-block; border: 1px solid #888; font-family: monospace; font-size: 14px; color: black; background-color: rgb(255, 250, 250); margin: 0 0 2px -1px; padding: 0' title='0.02'>&nbsp;capital</div><div style='display: inline-block; border: 1px solid #888; font-family: monospace; font-size: 14px; color: black; background-color: rgb(255, 34, 34); margin: 0 0 2px -1px; padding: 0' title='0.86'>&nbsp;of</div><div style='display: inline-block; border: 1px solid #888; font-family: monospace; font-size: 14px; color: black; background-color: rgb(255, 252, 252); margin: 0 0 2px -1px; padding: 0' title='0.01'>&nbsp;Brazil</div><div style='display: inline-block; border: 1px solid #888; font-family: monospace; font-size: 14px; color: black; background-color: rgb(255, 193, 193); margin: 0 0 2px -1px; padding: 0' title='0.24'>&nbsp;located</div><div style='display: inline-block; border: 1px solid #888; font-family: monospace; font-size: 14px; color: black; background-color: rgb(255, 230, 230); margin: 0 0 2px -1px; padding: 0' title='0.09'>&nbsp;on</div><div style='display: inline-block; border: 1px solid #888; font-family: monospace; font-size: 14px; color: black; background-color: rgb(255, 56, 56); margin: 0 0 2px -1px; padding: 0' title='0.78'>&nbsp;the</div><div style='display: inline-block; border: 1px solid #888; font-family: monospace; font-size: 14px; color: black; background-color: rgb(255, 235, 235); margin: 0 0 2px -1px; padding: 0' title='0.08'>&nbsp;coast</div><div style='display: inline-block; border: 1px solid #888; font-family: monospace; font-size: 14px; color: black; background-color: rgb(255, 153, 153); margin: 0 0 2px -1px; padding: 0' title='0.40'>?\\n</div><br><div style='display: inline-block; border: 1px solid #888; font-family: monospace; font-size: 14px; color: black; background-color: rgb(255, 2, 2); margin: 0 0 2px -1px; padding: 0' title='0.99'>Reason</div><div style='display: inline-block; border: 1px solid #888; font-family: monospace; font-size: 14px; color: black; background-color: rgb(255, 0, 0); margin: 0 0 2px -1px; padding: 0' title='1.00'>ing</div><div style='display: inline-block; border: 1px solid #888; font-family: monospace; font-size: 14px; color: black; background-color: rgb(255, 0, 0); margin: 0 0 2px -1px; padding: 0' title='1.00'>:\\n</div><br><div style='display: inline-block; border: 1px solid #888; font-family: monospace; font-size: 14px; color: black; background-color: rgb(255, 0, 0); margin: 0 0 2px -1px; padding: 0' title='1.00'>-</div><div style='display: inline-block; border: 1px solid #888; font-family: monospace; font-size: 14px; color: black; background-color: rgb(255, 25, 25); margin: 0 0 2px -1px; padding: 0' title='0.90'>&nbsp;The</div><div style='display: inline-block; border: 1px solid #888; font-family: monospace; font-size: 14px; color: black; background-color: rgb(255, 0, 0); margin: 0 0 2px -1px; padding: 0' title='1.00'>&nbsp;capital</div><div style='display: inline-block; border: 1px solid #888; font-family: monospace; font-size: 14px; color: black; background-color: rgb(255, 0, 0); margin: 0 0 2px -1px; padding: 0' title='1.00'>&nbsp;of</div><div style='display: inline-block; border: 1px solid #888; font-family: monospace; font-size: 14px; color: black; background-color: rgb(255, 0, 0); margin: 0 0 2px -1px; padding: 0' title='1.00'>&nbsp;Brazil</div><div style='display: inline-block; border: 1px solid #888; font-family: monospace; font-size: 14px; color: black; background-color: rgb(255, 0, 0); margin: 0 0 2px -1px; padding: 0' title='1.00'>&nbsp;is</div><div style='display: inline-block; border: 1px solid #888; font-family: monospace; font-size: 14px; color: black; background-color: rgb(255, 0, 0); margin: 0 0 2px -1px; padding: 0' title='1.00'>&nbsp;Bras</div><div style='display: inline-block; border: 1px solid #888; font-family: monospace; font-size: 14px; color: black; background-color: rgb(255, 17, 17); margin: 0 0 2px -1px; padding: 0' title='0.93'>ília</div><div style='display: inline-block; border: 1px solid #888; font-family: monospace; font-size: 14px; color: black; background-color: rgb(255, 3, 3); margin: 0 0 2px -1px; padding: 0' title='0.99'>\\n</div><br><div style='display: inline-block; border: 1px solid #888; font-family: monospace; font-size: 14px; color: black; background-color: rgb(255, 0, 0); margin: 0 0 2px -1px; padding: 0' title='1.00'>-</div><div style='display: inline-block; border: 1px solid #888; font-family: monospace; font-size: 14px; color: black; background-color: rgb(255, 0, 0); margin: 0 0 2px -1px; padding: 0' title='1.00'>&nbsp;Bras</div><div style='display: inline-block; border: 1px solid #888; font-family: monospace; font-size: 14px; color: black; background-color: rgb(255, 0, 0); margin: 0 0 2px -1px; padding: 0' title='1.00'>ília</div><div style='display: inline-block; border: 1px solid #888; font-family: monospace; font-size: 14px; color: black; background-color: rgb(255, 3, 3); margin: 0 0 2px -1px; padding: 0' title='0.99'>&nbsp;is</div><div style='display: inline-block; border: 1px solid #888; font-family: monospace; font-size: 14px; color: black; background-color: rgb(255, 147, 147); margin: 0 0 2px -1px; padding: 0' title='0.42'>&nbsp;located</div><div style='display: inline-block; border: 1px solid #888; font-family: monospace; font-size: 14px; color: black; background-color: rgb(255, 34, 34); margin: 0 0 2px -1px; padding: 0' title='0.87'>&nbsp;in</div><div style='display: inline-block; border: 1px solid #888; font-family: monospace; font-size: 14px; color: black; background-color: rgb(255, 1, 1); margin: 0 0 2px -1px; padding: 0' title='0.99'>&nbsp;the</div><div style='display: inline-block; border: 1px solid #888; font-family: monospace; font-size: 14px; color: black; background-color: rgb(255, 222, 222); margin: 0 0 2px -1px; padding: 0' title='0.13'>&nbsp;central</div><div style='display: inline-block; border: 1px solid #888; font-family: monospace; font-size: 14px; color: black; background-color: rgb(255, 235, 235); margin: 0 0 2px -1px; padding: 0' title='0.08'>&nbsp;plateau</div><div style='display: inline-block; border: 1px solid #888; font-family: monospace; font-size: 14px; color: black; background-color: rgb(255, 82, 82); margin: 0 0 2px -1px; padding: 0' title='0.67'>&nbsp;of</div><div style='display: inline-block; border: 1px solid #888; font-family: monospace; font-size: 14px; color: black; background-color: rgb(255, 6, 6); margin: 0 0 2px -1px; padding: 0' title='0.98'>&nbsp;Brazil</div><div style='display: inline-block; border: 1px solid #888; font-family: monospace; font-size: 14px; color: black; background-color: rgb(255, 158, 158); margin: 0 0 2px -1px; padding: 0' title='0.38'>\\n</div><br><div style='display: inline-block; border: 1px solid #888; font-family: monospace; font-size: 14px; color: black; background-color: rgb(255, 0, 0); margin: 0 0 2px -1px; padding: 0' title='1.00'>-</div><div style='display: inline-block; border: 1px solid #888; font-family: monospace; font-size: 14px; color: black; background-color: rgb(255, 247, 247); margin: 0 0 2px -1px; padding: 0' title='0.03'>&nbsp;This</div><div style='display: inline-block; border: 1px solid #888; font-family: monospace; font-size: 14px; color: black; background-color: rgb(255, 210, 210); margin: 0 0 2px -1px; padding: 0' title='0.17'>&nbsp;location</div><div style='display: inline-block; border: 1px solid #888; font-family: monospace; font-size: 14px; color: black; background-color: rgb(255, 6, 6); margin: 0 0 2px -1px; padding: 0' title='0.97'>&nbsp;is</div><div style='display: inline-block; border: 1px solid #888; font-family: monospace; font-size: 14px; color: black; background-color: rgb(255, 106, 106); margin: 0 0 2px -1px; padding: 0' title='0.58'>&nbsp;not</div><div style='display: inline-block; border: 1px solid #888; font-family: monospace; font-size: 14px; color: black; background-color: rgb(255, 36, 36); margin: 0 0 2px -1px; padding: 0' title='0.86'>&nbsp;on</div><div style='display: inline-block; border: 1px solid #888; font-family: monospace; font-size: 14px; color: black; background-color: rgb(255, 1, 1); margin: 0 0 2px -1px; padding: 0' title='0.99'>&nbsp;the</div><div style='display: inline-block; border: 1px solid #888; font-family: monospace; font-size: 14px; color: black; background-color: rgb(255, 1, 1); margin: 0 0 2px -1px; padding: 0' title='0.99'>&nbsp;coast</div><div style='display: inline-block; border: 1px solid #888; font-family: monospace; font-size: 14px; color: black; background-color: rgb(255, 52, 52); margin: 0 0 2px -1px; padding: 0' title='0.79'>\\n</div><br><div style='display: inline-block; border: 1px solid #888; font-family: monospace; font-size: 14px; color: black; background-color: rgb(255, 13, 13); margin: 0 0 2px -1px; padding: 0' title='0.95'>Answer</div><div style='display: inline-block; border: 1px solid #888; font-family: monospace; font-size: 14px; color: black; background-color: rgb(255, 0, 0); margin: 0 0 2px -1px; padding: 0' title='1.00'>:</div><div style='display: inline-block; border: 1px solid #888; font-family: monospace; font-size: 14px; color: black; background-color: rgb(255, 1, 1); margin: 0 0 2px -1px; padding: 0' title='0.99'>&nbsp;No</div>"
      ],
      "text/plain": [
       "<IPython.core.display.HTML object>"
      ]
     },
     "metadata": {},
     "output_type": "display_data"
    },
    {
     "name": "stdout",
     "output_type": "stream",
     "text": [
      "Top 3 predictions for 'Answer'\n"
     ]
    },
    {
     "data": {
      "text/html": [
       "<div style='display: inline-block; border: 1px solid #888; font-family: monospace; font-size: 14px; color: black; background-color: rgb(255, 13, 13); margin: 0 0 2px -1px; padding: 0' title='0.95'>Answer</div><div style='display: inline-block; border: 1px solid #888; font-family: monospace; font-size: 14px; color: black; background-color: rgb(255, 241, 241); margin: 0 0 2px -1px; padding: 0' title='0.05'>-</div><div style='display: inline-block; border: 1px solid #888; font-family: monospace; font-size: 14px; color: black; background-color: rgb(255, 254, 254); margin: 0 0 2px -1px; padding: 0' title='0.00'>&nbsp;Answer</div>"
      ],
      "text/plain": [
       "<IPython.core.display.HTML object>"
      ]
     },
     "metadata": {},
     "output_type": "display_data"
    }
   ],
   "source": [
    "@beartype\n",
    "def gather_logprobs(\n",
    "    logprobs: Float[torch.Tensor, \" seq vocab\"],\n",
    "    tokens: Int[torch.Tensor, \" seq\"],\n",
    ") -> Float[torch.Tensor, \" seq\"]:\n",
    "    return torch.gather(logprobs, -1, tokens.unsqueeze(-1)).squeeze(-1)\n",
    "\n",
    "\n",
    "@beartype\n",
    "def get_next_logprobs(\n",
    "    logits: Float[torch.Tensor, \" seq vocab\"],\n",
    "    input_ids: Int[torch.Tensor, \" seq\"],\n",
    ") -> Float[torch.Tensor, \" shorter_seq\"]:\n",
    "    logprobs = torch.log_softmax(logits[:-1], dim=-1)\n",
    "    next_tokens = input_ids[1:]\n",
    "    return gather_logprobs(logprobs, next_tokens)\n",
    "\n",
    "\n",
    "from cot_probing.vis import visualize_tokens_html\n",
    "from IPython.display import HTML\n",
    "\n",
    "question_tok_id = tokenizer.encode(\"Question\", add_special_tokens=False)[0]\n",
    "\n",
    "for key, prompt in combined_prompts.items():\n",
    "    print(key)\n",
    "    tok_prompt_list = tokenizer.encode(prompt)\n",
    "    print(f\"num tokens: {len(tok_prompt_list)}\")\n",
    "    top_prompt_tensor = torch.tensor(tok_prompt_list).to(\"cuda\")\n",
    "    logits = model(top_prompt_tensor.unsqueeze(0)).logits[0]\n",
    "    next_logprobs = get_next_logprobs(logits, top_prompt_tensor)\n",
    "    values = [0] + next_logprobs.exp().tolist()\n",
    "\n",
    "    # Find the last occurrence of question_tok_id\n",
    "    last_question_index = (\n",
    "        len(tok_prompt_list) - 1 - tok_prompt_list[::-1].index(question_tok_id)\n",
    "    )\n",
    "\n",
    "    # Slice the token list and values from the last question onwards\n",
    "    visualize_tokens = tok_prompt_list[last_question_index:]\n",
    "    visualize_values = values[last_question_index:]\n",
    "\n",
    "    html = visualize_tokens_html(\n",
    "        visualize_tokens, tokenizer, visualize_values, vmin=0.0, vmax=1.0\n",
    "    )\n",
    "    display(HTML(html))\n",
    "\n",
    "    print(\"Top 3 predictions for 'Answer'\")\n",
    "    answer_logits = logits[-4]\n",
    "    answer_probs = torch.softmax(answer_logits, dim=-1)\n",
    "    top_probs, top_indices = torch.topk(answer_probs, k=3)\n",
    "    html_answer_top = visualize_tokens_html(\n",
    "        top_indices.tolist(), tokenizer, top_probs.tolist(), vmin=0.0, vmax=1.0\n",
    "    )\n",
    "    display(HTML(html_answer_top))"
   ]
  }
 ],
 "metadata": {
  "kernelspec": {
   "display_name": ".venv",
   "language": "python",
   "name": "python3"
  },
  "language_info": {
   "codemirror_mode": {
    "name": "ipython",
    "version": 3
   },
   "file_extension": ".py",
   "mimetype": "text/x-python",
   "name": "python",
   "nbconvert_exporter": "python",
   "pygments_lexer": "ipython3",
   "version": "3.10.12"
  }
 },
 "nbformat": 4,
 "nbformat_minor": 2
}
