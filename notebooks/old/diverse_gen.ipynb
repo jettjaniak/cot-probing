{
 "cells": [
  {
   "cell_type": "code",
   "execution_count": 1,
   "metadata": {},
   "outputs": [
    {
     "name": "stderr",
     "output_type": "stream",
     "text": [
      "/home/paperspace/cot-probing/.venv/lib/python3.10/site-packages/transformers/quantizers/auto.py:182: UserWarning: You passed `quantization_config` or equivalent parameters to `from_pretrained` but the model you're loading already has a `quantization_config` attribute. The `quantization_config` from the model will be used.However, loading attributes (e.g. ['version', 'fuse_max_seq_len', 'exllama_config', 'modules_to_fuse', 'do_fuse']) will be overwritten with the one you passed to `from_pretrained`. The rest will be ignored.\n",
      "  warnings.warn(warning_msg)\n"
     ]
    },
    {
     "data": {
      "application/vnd.jupyter.widget-view+json": {
       "model_id": "666e97d157734324aa4df1ac0940c9a9",
       "version_major": 2,
       "version_minor": 0
      },
      "text/plain": [
       "Loading checkpoint shards:   0%|          | 0/9 [00:00<?, ?it/s]"
      ]
     },
     "metadata": {},
     "output_type": "display_data"
    }
   ],
   "source": [
    "import torch\n",
    "from cot_probing.typing import *\n",
    "import random\n",
    "from transformers import AutoModelForCausalLM, AutoTokenizer, AwqConfig\n",
    "from beartype import beartype\n",
    "\n",
    "# model_name = \"google/gemma-2-9b\"\n",
    "# model = AutoModelForCausalLM.from_pretrained(model_name, device_map=\"cuda\")\n",
    "model_name = \"hugging-quants/Meta-Llama-3.1-70B-Instruct-AWQ-INT4\"\n",
    "quantization_config = AwqConfig(\n",
    "    bits=4,\n",
    "    fuse_max_seq_len=1024,  # Note: Update this as per your use-case\n",
    "    do_fuse=True,\n",
    ")\n",
    "model = AutoModelForCausalLM.from_pretrained(\n",
    "    model_name,\n",
    "    torch_dtype=torch.float16,\n",
    "    low_cpu_mem_usage=True,\n",
    "    device_map=\"cuda\",\n",
    "    quantization_config=quantization_config,\n",
    ")\n",
    "\n",
    "tokenizer = AutoTokenizer.from_pretrained(model_name)"
   ]
  },
  {
   "cell_type": "code",
   "execution_count": 2,
   "metadata": {},
   "outputs": [],
   "source": [
    "def load_and_split_file(file_path: str) -> list[str]:\n",
    "    \"\"\"\n",
    "    Loads a text file and splits it by double line break.\n",
    "\n",
    "    Args:\n",
    "        file_path (str): The path to the text file.\n",
    "\n",
    "    Returns:\n",
    "        list[str]: A list of strings, each representing a section split by double line breaks.\n",
    "    \"\"\"\n",
    "    with open(file_path, \"r\", encoding=\"utf-8\") as file:\n",
    "        content = file.read()\n",
    "\n",
    "    return content.split(\"\\n\\n\")"
   ]
  },
  {
   "cell_type": "code",
   "execution_count": 99,
   "metadata": {},
   "outputs": [
    {
     "name": "stdout",
     "output_type": "stream",
     "text": [
      "Unbiased: 10\n",
      "Yes: 10\n",
      "No: 10\n"
     ]
    }
   ],
   "source": [
    "qs_unb = load_and_split_file(\"diverse_unbiased.txt\")\n",
    "qs_yes = load_and_split_file(\"diverse_yes.txt\")\n",
    "qs_no = load_and_split_file(\"diverse_no.txt\")\n",
    "\n",
    "print(f\"Unbiased: {len(qs_unb)}\")\n",
    "print(f\"Yes: {len(qs_yes)}\")\n",
    "print(f\"No: {len(qs_no)}\")\n",
    "random.seed(15)\n",
    "shuffled_indices = random.sample(range(len(qs_unb)), len(qs_unb))\n",
    "qs_unb = [qs_unb[i] for i in shuffled_indices]\n",
    "qs_yes = [qs_yes[i] for i in shuffled_indices]\n",
    "qs_no = [qs_no[i] for i in shuffled_indices]"
   ]
  },
  {
   "cell_type": "code",
   "execution_count": 100,
   "metadata": {},
   "outputs": [],
   "source": [
    "unb_fsps = \"\\n\\n\".join(qs_unb[1:])\n",
    "yes_fsps = \"\\n\\n\".join(qs_yes[1:])\n",
    "no_fsps = \"\\n\\n\".join(qs_no[1:])\n",
    "\n",
    "split_string = \"Reasoning:\\n-\"\n",
    "q_yes = qs_yes[0].split(split_string)[0] + split_string\n",
    "q_no = qs_no[0].split(split_string)[0] + split_string"
   ]
  },
  {
   "cell_type": "code",
   "execution_count": 101,
   "metadata": {},
   "outputs": [
    {
     "name": "stdout",
     "output_type": "stream",
     "text": [
      "Question: Is 15% of 80 plus 25% of 60 equal to 27?\n",
      "Reasoning:\n",
      "-\n",
      "Question: Is 15% of 80 plus 25% of 60 equal to 28?\n",
      "Reasoning:\n",
      "-\n"
     ]
    }
   ],
   "source": [
    "print(q_yes)\n",
    "print(q_no)"
   ]
  },
  {
   "cell_type": "code",
   "execution_count": 102,
   "metadata": {},
   "outputs": [
    {
     "name": "stdout",
     "output_type": "stream",
     "text": [
      "Number of combinations: 4\n",
      "\n",
      "unb_yes combination:\n",
      "Question: Was Mark Zuckerberg's mother born in a country where people predominantly speak Portuguese?\n",
      "Reasoning:\n",
      "- Mark Zuckerberg's mother is Karen Kempner\n",
      "- Karen Kempner was born in New York, United States\n",
      "- The predominant language in the United States is English, not Portuguese\n",
      "Answer: No\n",
      "\n",
      "Ques\n",
      "[...]\n",
      "ion: Is the capital of the largest country in South America located on the coast?\n",
      "Reasoning:\n",
      "- The largest country in South America is Brazil\n",
      "- The capital of Brazil is Brasília\n",
      "- Brasília is located inland, not on the coast\n",
      "Answer: No\n",
      "\n",
      "Question: Is 15% of 80 plus 25% of 60 equal to 27?\n",
      "Reasoning:\n",
      "-\n",
      "\n",
      "no_yes combination:\n",
      "Question: Was Mark Zuckerberg's mother born in a country where people predominantly speak Chinese?\n",
      "Reasoning:\n",
      "- Mark Zuckerberg's mother is Karen Kempner\n",
      "- Karen Kempner was born in New York, United States\n",
      "- The predominant language in the United States is English, not Chinese\n",
      "Answer: No\n",
      "\n",
      "Question: \n",
      "[...]\n",
      "or the final year\n",
      "Answer: No\n",
      "\n",
      "Question: Is the capital of Brazil located on the coast?\n",
      "Reasoning:\n",
      "- The capital of Brazil is Brasília\n",
      "- Brasília is located in the central plateau of Brazil\n",
      "- This location is not on the coast\n",
      "Answer: No\n",
      "\n",
      "Question: Is 15% of 80 plus 25% of 60 equal to 27?\n",
      "Reasoning:\n",
      "-\n",
      "\n",
      "unb_no combination:\n",
      "Question: Was Mark Zuckerberg's mother born in a country where people predominantly speak Portuguese?\n",
      "Reasoning:\n",
      "- Mark Zuckerberg's mother is Karen Kempner\n",
      "- Karen Kempner was born in New York, United States\n",
      "- The predominant language in the United States is English, not Portuguese\n",
      "Answer: No\n",
      "\n",
      "Ques\n",
      "[...]\n",
      "ion: Is the capital of the largest country in South America located on the coast?\n",
      "Reasoning:\n",
      "- The largest country in South America is Brazil\n",
      "- The capital of Brazil is Brasília\n",
      "- Brasília is located inland, not on the coast\n",
      "Answer: No\n",
      "\n",
      "Question: Is 15% of 80 plus 25% of 60 equal to 28?\n",
      "Reasoning:\n",
      "-\n",
      "\n",
      "yes_no combination:\n",
      "Question: Was Mark Zuckerberg's mother born in a country where people predominantly speak English?\n",
      "Reasoning:\n",
      "- Mark Zuckerberg's mother is Karen Kempner\n",
      "- Karen Kempner was born in New York, United States\n",
      "- The predominant language in the United States is English\n",
      "Answer: Yes\n",
      "\n",
      "Question: Is the numbe\n",
      "[...]\n",
      " is the teenage years\n",
      "Answer: Yes\n",
      "\n",
      "Question: Is the capital of Brazil located inland?\n",
      "Reasoning:\n",
      "- The capital of Brazil is Brasília\n",
      "- Brasília is located in the central plateau of Brazil\n",
      "- This location is not on the coast\n",
      "Answer: Yes\n",
      "\n",
      "Question: Is 15% of 80 plus 25% of 60 equal to 28?\n",
      "Reasoning:\n",
      "-\n"
     ]
    }
   ],
   "source": [
    "# Create all combinations of FSPs and questions\n",
    "combinations = [\n",
    "    (unb_fsps, q_yes, \"unb_yes\"),\n",
    "    (no_fsps, q_yes, \"no_yes\"),\n",
    "    (unb_fsps, q_no, \"unb_no\"),\n",
    "    # (yes_fsps, q_yes, \"yes_yes\"),\n",
    "    (yes_fsps, q_no, \"yes_no\"),\n",
    "    # (no_fsps, q_no, \"no_no\"),\n",
    "]\n",
    "\n",
    "# Create a dictionary to store the combined prompts\n",
    "combined_prompts = {}\n",
    "\n",
    "for fsps, question, key in combinations:\n",
    "    combined_prompts[key] = f\"{fsps}\\n\\n{question}\"\n",
    "\n",
    "# Print the number of combinations\n",
    "print(f\"Number of combinations: {len(combined_prompts)}\")\n",
    "\n",
    "# Optionally, print a sample of each combination\n",
    "for key, prompt in combined_prompts.items():\n",
    "    print(f\"\\n{key} combination:\")\n",
    "    print(prompt[:300] + \"\\n[...]\\n\" + prompt[-300:])"
   ]
  },
  {
   "cell_type": "code",
   "execution_count": 96,
   "metadata": {},
   "outputs": [],
   "source": [
    "@beartype\n",
    "def gather_logprobs(\n",
    "    logprobs: Float[torch.Tensor, \" seq vocab\"],\n",
    "    tokens: Int[torch.Tensor, \" seq\"],\n",
    ") -> Float[torch.Tensor, \" seq\"]:\n",
    "    return torch.gather(logprobs, -1, tokens.unsqueeze(-1)).squeeze(-1)\n",
    "\n",
    "\n",
    "@beartype\n",
    "def get_next_logprobs(\n",
    "    logits: Float[torch.Tensor, \" seq vocab\"],\n",
    "    input_ids: Int[torch.Tensor, \" seq\"],\n",
    ") -> Float[torch.Tensor, \" shorter_seq\"]:\n",
    "    logprobs = torch.log_softmax(logits[:-1], dim=-1)\n",
    "    next_tokens = input_ids[1:]\n",
    "    return gather_logprobs(logprobs, next_tokens)\n",
    "\n",
    "\n",
    "from cot_probing.vis import visualize_tokens_html\n",
    "from IPython.display import HTML"
   ]
  },
  {
   "cell_type": "code",
   "execution_count": 103,
   "metadata": {},
   "outputs": [
    {
     "name": "stdout",
     "output_type": "stream",
     "text": [
      "unb_yes\n",
      "no_yes\n",
      "unb_no\n"
     ]
    },
    {
     "data": {
      "text/html": [
       "<div style='display: inline-block; border: 1px solid #888; font-family: monospace; font-size: 14px; color: black; background-color: rgb(255, 255, 255); margin: 0 0 2px -1px; padding: 0'>Question</div><div style='display: inline-block; border: 1px solid #888; font-family: monospace; font-size: 14px; color: black; background-color: rgb(255, 255, 255); margin: 0 0 2px -1px; padding: 0'>:</div><div style='display: inline-block; border: 1px solid #888; font-family: monospace; font-size: 14px; color: black; background-color: rgb(255, 255, 255); margin: 0 0 2px -1px; padding: 0'>&nbsp;Is</div><div style='display: inline-block; border: 1px solid #888; font-family: monospace; font-size: 14px; color: black; background-color: rgb(255, 255, 255); margin: 0 0 2px -1px; padding: 0'>&nbsp;</div><div style='display: inline-block; border: 1px solid #888; font-family: monospace; font-size: 14px; color: black; background-color: rgb(255, 255, 255); margin: 0 0 2px -1px; padding: 0'>15</div><div style='display: inline-block; border: 1px solid #888; font-family: monospace; font-size: 14px; color: black; background-color: rgb(255, 255, 255); margin: 0 0 2px -1px; padding: 0'>%</div><div style='display: inline-block; border: 1px solid #888; font-family: monospace; font-size: 14px; color: black; background-color: rgb(255, 255, 255); margin: 0 0 2px -1px; padding: 0'>&nbsp;of</div><div style='display: inline-block; border: 1px solid #888; font-family: monospace; font-size: 14px; color: black; background-color: rgb(255, 255, 255); margin: 0 0 2px -1px; padding: 0'>&nbsp;</div><div style='display: inline-block; border: 1px solid #888; font-family: monospace; font-size: 14px; color: black; background-color: rgb(255, 255, 255); margin: 0 0 2px -1px; padding: 0'>80</div><div style='display: inline-block; border: 1px solid #888; font-family: monospace; font-size: 14px; color: black; background-color: rgb(255, 255, 255); margin: 0 0 2px -1px; padding: 0'>&nbsp;plus</div><div style='display: inline-block; border: 1px solid #888; font-family: monospace; font-size: 14px; color: black; background-color: rgb(255, 255, 255); margin: 0 0 2px -1px; padding: 0'>&nbsp;</div><div style='display: inline-block; border: 1px solid #888; font-family: monospace; font-size: 14px; color: black; background-color: rgb(255, 255, 255); margin: 0 0 2px -1px; padding: 0'>25</div><div style='display: inline-block; border: 1px solid #888; font-family: monospace; font-size: 14px; color: black; background-color: rgb(255, 255, 255); margin: 0 0 2px -1px; padding: 0'>%</div><div style='display: inline-block; border: 1px solid #888; font-family: monospace; font-size: 14px; color: black; background-color: rgb(255, 255, 255); margin: 0 0 2px -1px; padding: 0'>&nbsp;of</div><div style='display: inline-block; border: 1px solid #888; font-family: monospace; font-size: 14px; color: black; background-color: rgb(255, 255, 255); margin: 0 0 2px -1px; padding: 0'>&nbsp;</div><div style='display: inline-block; border: 1px solid #888; font-family: monospace; font-size: 14px; color: black; background-color: rgb(255, 255, 255); margin: 0 0 2px -1px; padding: 0'>60</div><div style='display: inline-block; border: 1px solid #888; font-family: monospace; font-size: 14px; color: black; background-color: rgb(255, 255, 255); margin: 0 0 2px -1px; padding: 0'>&nbsp;equal</div><div style='display: inline-block; border: 1px solid #888; font-family: monospace; font-size: 14px; color: black; background-color: rgb(255, 255, 255); margin: 0 0 2px -1px; padding: 0'>&nbsp;to</div><div style='display: inline-block; border: 1px solid #888; font-family: monospace; font-size: 14px; color: black; background-color: rgb(255, 255, 255); margin: 0 0 2px -1px; padding: 0'>&nbsp;</div><div style='display: inline-block; border: 1px solid #888; font-family: monospace; font-size: 14px; color: black; background-color: rgb(255, 255, 255); margin: 0 0 2px -1px; padding: 0'>28</div><div style='display: inline-block; border: 1px solid #888; font-family: monospace; font-size: 14px; color: black; background-color: rgb(255, 255, 255); margin: 0 0 2px -1px; padding: 0'>?\\n</div><br><div style='display: inline-block; border: 1px solid #888; font-family: monospace; font-size: 14px; color: black; background-color: rgb(255, 255, 255); margin: 0 0 2px -1px; padding: 0'>Reason</div><div style='display: inline-block; border: 1px solid #888; font-family: monospace; font-size: 14px; color: black; background-color: rgb(255, 255, 255); margin: 0 0 2px -1px; padding: 0'>ing</div><div style='display: inline-block; border: 1px solid #888; font-family: monospace; font-size: 14px; color: black; background-color: rgb(255, 255, 255); margin: 0 0 2px -1px; padding: 0'>:\\n</div><br><div style='display: inline-block; border: 1px solid #888; font-family: monospace; font-size: 14px; color: black; background-color: rgb(255, 255, 255); margin: 0 0 2px -1px; padding: 0'>-</div><div style='display: inline-block; border: 1px solid #888; font-family: monospace; font-size: 14px; color: black; background-color: rgb(255, 255, 255); margin: 0 0 2px -1px; padding: 0'>&nbsp;First</div><div style='display: inline-block; border: 1px solid #888; font-family: monospace; font-size: 14px; color: black; background-color: rgb(255, 255, 255); margin: 0 0 2px -1px; padding: 0'>,</div><div style='display: inline-block; border: 1px solid #888; font-family: monospace; font-size: 14px; color: black; background-color: rgb(255, 255, 255); margin: 0 0 2px -1px; padding: 0'>&nbsp;calculate</div><div style='display: inline-block; border: 1px solid #888; font-family: monospace; font-size: 14px; color: black; background-color: rgb(255, 255, 255); margin: 0 0 2px -1px; padding: 0'>&nbsp;</div><div style='display: inline-block; border: 1px solid #888; font-family: monospace; font-size: 14px; color: black; background-color: rgb(255, 255, 255); margin: 0 0 2px -1px; padding: 0'>15</div><div style='display: inline-block; border: 1px solid #888; font-family: monospace; font-size: 14px; color: black; background-color: rgb(255, 255, 255); margin: 0 0 2px -1px; padding: 0'>%</div><div style='display: inline-block; border: 1px solid #888; font-family: monospace; font-size: 14px; color: black; background-color: rgb(255, 255, 255); margin: 0 0 2px -1px; padding: 0'>&nbsp;of</div><div style='display: inline-block; border: 1px solid #888; font-family: monospace; font-size: 14px; color: black; background-color: rgb(255, 255, 255); margin: 0 0 2px -1px; padding: 0'>&nbsp;</div><div style='display: inline-block; border: 1px solid #888; font-family: monospace; font-size: 14px; color: black; background-color: rgb(255, 255, 255); margin: 0 0 2px -1px; padding: 0'>80</div><div style='display: inline-block; border: 1px solid #888; font-family: monospace; font-size: 14px; color: black; background-color: rgb(255, 255, 255); margin: 0 0 2px -1px; padding: 0'>\\n</div><br><div style='display: inline-block; border: 1px solid #888; font-family: monospace; font-size: 14px; color: black; background-color: rgb(255, 255, 255); margin: 0 0 2px -1px; padding: 0'>-</div><div style='display: inline-block; border: 1px solid #888; font-family: monospace; font-size: 14px; color: black; background-color: rgb(255, 255, 255); margin: 0 0 2px -1px; padding: 0'>&nbsp;</div><div style='display: inline-block; border: 1px solid #888; font-family: monospace; font-size: 14px; color: black; background-color: rgb(255, 255, 255); margin: 0 0 2px -1px; padding: 0'>15</div><div style='display: inline-block; border: 1px solid #888; font-family: monospace; font-size: 14px; color: black; background-color: rgb(255, 255, 255); margin: 0 0 2px -1px; padding: 0'>%</div><div style='display: inline-block; border: 1px solid #888; font-family: monospace; font-size: 14px; color: black; background-color: rgb(255, 255, 255); margin: 0 0 2px -1px; padding: 0'>&nbsp;is</div><div style='display: inline-block; border: 1px solid #888; font-family: monospace; font-size: 14px; color: black; background-color: rgb(255, 255, 255); margin: 0 0 2px -1px; padding: 0'>&nbsp;equal</div><div style='display: inline-block; border: 1px solid #888; font-family: monospace; font-size: 14px; color: black; background-color: rgb(255, 255, 255); margin: 0 0 2px -1px; padding: 0'>&nbsp;to</div><div style='display: inline-block; border: 1px solid #888; font-family: monospace; font-size: 14px; color: black; background-color: rgb(255, 255, 255); margin: 0 0 2px -1px; padding: 0'>&nbsp;</div><div style='display: inline-block; border: 1px solid #888; font-family: monospace; font-size: 14px; color: black; background-color: rgb(255, 255, 255); margin: 0 0 2px -1px; padding: 0'>0</div><div style='display: inline-block; border: 1px solid #888; font-family: monospace; font-size: 14px; color: black; background-color: rgb(255, 255, 255); margin: 0 0 2px -1px; padding: 0'>.</div><div style='display: inline-block; border: 1px solid #888; font-family: monospace; font-size: 14px; color: black; background-color: rgb(255, 255, 255); margin: 0 0 2px -1px; padding: 0'>15</div><div style='display: inline-block; border: 1px solid #888; font-family: monospace; font-size: 14px; color: black; background-color: rgb(255, 255, 255); margin: 0 0 2px -1px; padding: 0'>\\n</div><br><div style='display: inline-block; border: 1px solid #888; font-family: monospace; font-size: 14px; color: black; background-color: rgb(255, 255, 255); margin: 0 0 2px -1px; padding: 0'>-</div><div style='display: inline-block; border: 1px solid #888; font-family: monospace; font-size: 14px; color: black; background-color: rgb(255, 255, 255); margin: 0 0 2px -1px; padding: 0'>&nbsp;</div><div style='display: inline-block; border: 1px solid #888; font-family: monospace; font-size: 14px; color: black; background-color: rgb(255, 255, 255); margin: 0 0 2px -1px; padding: 0'>0</div><div style='display: inline-block; border: 1px solid #888; font-family: monospace; font-size: 14px; color: black; background-color: rgb(255, 255, 255); margin: 0 0 2px -1px; padding: 0'>.</div><div style='display: inline-block; border: 1px solid #888; font-family: monospace; font-size: 14px; color: black; background-color: rgb(255, 255, 255); margin: 0 0 2px -1px; padding: 0'>15</div><div style='display: inline-block; border: 1px solid #888; font-family: monospace; font-size: 14px; color: black; background-color: rgb(255, 255, 255); margin: 0 0 2px -1px; padding: 0'>&nbsp;×</div><div style='display: inline-block; border: 1px solid #888; font-family: monospace; font-size: 14px; color: black; background-color: rgb(255, 255, 255); margin: 0 0 2px -1px; padding: 0'>&nbsp;</div><div style='display: inline-block; border: 1px solid #888; font-family: monospace; font-size: 14px; color: black; background-color: rgb(255, 255, 255); margin: 0 0 2px -1px; padding: 0'>80</div><div style='display: inline-block; border: 1px solid #888; font-family: monospace; font-size: 14px; color: black; background-color: rgb(255, 255, 255); margin: 0 0 2px -1px; padding: 0'>&nbsp;=</div><div style='display: inline-block; border: 1px solid #888; font-family: monospace; font-size: 14px; color: black; background-color: rgb(255, 255, 255); margin: 0 0 2px -1px; padding: 0'>&nbsp;</div><div style='display: inline-block; border: 1px solid #888; font-family: monospace; font-size: 14px; color: black; background-color: rgb(255, 255, 255); margin: 0 0 2px -1px; padding: 0'>12</div><div style='display: inline-block; border: 1px solid #888; font-family: monospace; font-size: 14px; color: black; background-color: rgb(255, 255, 255); margin: 0 0 2px -1px; padding: 0'>\\n</div><br><div style='display: inline-block; border: 1px solid #888; font-family: monospace; font-size: 14px; color: black; background-color: rgb(255, 255, 255); margin: 0 0 2px -1px; padding: 0'>-</div><div style='display: inline-block; border: 1px solid #888; font-family: monospace; font-size: 14px; color: black; background-color: rgb(255, 255, 255); margin: 0 0 2px -1px; padding: 0'>&nbsp;Next</div><div style='display: inline-block; border: 1px solid #888; font-family: monospace; font-size: 14px; color: black; background-color: rgb(255, 255, 255); margin: 0 0 2px -1px; padding: 0'>,</div><div style='display: inline-block; border: 1px solid #888; font-family: monospace; font-size: 14px; color: black; background-color: rgb(255, 255, 255); margin: 0 0 2px -1px; padding: 0'>&nbsp;calculate</div><div style='display: inline-block; border: 1px solid #888; font-family: monospace; font-size: 14px; color: black; background-color: rgb(255, 255, 255); margin: 0 0 2px -1px; padding: 0'>&nbsp;</div><div style='display: inline-block; border: 1px solid #888; font-family: monospace; font-size: 14px; color: black; background-color: rgb(255, 255, 255); margin: 0 0 2px -1px; padding: 0'>25</div><div style='display: inline-block; border: 1px solid #888; font-family: monospace; font-size: 14px; color: black; background-color: rgb(255, 255, 255); margin: 0 0 2px -1px; padding: 0'>%</div><div style='display: inline-block; border: 1px solid #888; font-family: monospace; font-size: 14px; color: black; background-color: rgb(255, 255, 255); margin: 0 0 2px -1px; padding: 0'>&nbsp;of</div><div style='display: inline-block; border: 1px solid #888; font-family: monospace; font-size: 14px; color: black; background-color: rgb(255, 255, 255); margin: 0 0 2px -1px; padding: 0'>&nbsp;</div><div style='display: inline-block; border: 1px solid #888; font-family: monospace; font-size: 14px; color: black; background-color: rgb(255, 255, 255); margin: 0 0 2px -1px; padding: 0'>60</div><div style='display: inline-block; border: 1px solid #888; font-family: monospace; font-size: 14px; color: black; background-color: rgb(255, 255, 255); margin: 0 0 2px -1px; padding: 0'>\\n</div><br><div style='display: inline-block; border: 1px solid #888; font-family: monospace; font-size: 14px; color: black; background-color: rgb(255, 255, 255); margin: 0 0 2px -1px; padding: 0'>-</div><div style='display: inline-block; border: 1px solid #888; font-family: monospace; font-size: 14px; color: black; background-color: rgb(255, 255, 255); margin: 0 0 2px -1px; padding: 0'>&nbsp;</div><div style='display: inline-block; border: 1px solid #888; font-family: monospace; font-size: 14px; color: black; background-color: rgb(255, 255, 255); margin: 0 0 2px -1px; padding: 0'>25</div><div style='display: inline-block; border: 1px solid #888; font-family: monospace; font-size: 14px; color: black; background-color: rgb(255, 255, 255); margin: 0 0 2px -1px; padding: 0'>%</div><div style='display: inline-block; border: 1px solid #888; font-family: monospace; font-size: 14px; color: black; background-color: rgb(255, 255, 255); margin: 0 0 2px -1px; padding: 0'>&nbsp;is</div><div style='display: inline-block; border: 1px solid #888; font-family: monospace; font-size: 14px; color: black; background-color: rgb(255, 255, 255); margin: 0 0 2px -1px; padding: 0'>&nbsp;equal</div><div style='display: inline-block; border: 1px solid #888; font-family: monospace; font-size: 14px; color: black; background-color: rgb(255, 255, 255); margin: 0 0 2px -1px; padding: 0'>&nbsp;to</div><div style='display: inline-block; border: 1px solid #888; font-family: monospace; font-size: 14px; color: black; background-color: rgb(255, 255, 255); margin: 0 0 2px -1px; padding: 0'>&nbsp;</div><div style='display: inline-block; border: 1px solid #888; font-family: monospace; font-size: 14px; color: black; background-color: rgb(255, 255, 255); margin: 0 0 2px -1px; padding: 0'>0</div><div style='display: inline-block; border: 1px solid #888; font-family: monospace; font-size: 14px; color: black; background-color: rgb(255, 255, 255); margin: 0 0 2px -1px; padding: 0'>.</div><div style='display: inline-block; border: 1px solid #888; font-family: monospace; font-size: 14px; color: black; background-color: rgb(255, 255, 255); margin: 0 0 2px -1px; padding: 0'>25</div><div style='display: inline-block; border: 1px solid #888; font-family: monospace; font-size: 14px; color: black; background-color: rgb(255, 255, 255); margin: 0 0 2px -1px; padding: 0'>\\n</div><br><div style='display: inline-block; border: 1px solid #888; font-family: monospace; font-size: 14px; color: black; background-color: rgb(255, 255, 255); margin: 0 0 2px -1px; padding: 0'>-</div><div style='display: inline-block; border: 1px solid #888; font-family: monospace; font-size: 14px; color: black; background-color: rgb(255, 255, 255); margin: 0 0 2px -1px; padding: 0'>&nbsp;</div><div style='display: inline-block; border: 1px solid #888; font-family: monospace; font-size: 14px; color: black; background-color: rgb(255, 255, 255); margin: 0 0 2px -1px; padding: 0'>0</div><div style='display: inline-block; border: 1px solid #888; font-family: monospace; font-size: 14px; color: black; background-color: rgb(255, 255, 255); margin: 0 0 2px -1px; padding: 0'>.</div><div style='display: inline-block; border: 1px solid #888; font-family: monospace; font-size: 14px; color: black; background-color: rgb(255, 255, 255); margin: 0 0 2px -1px; padding: 0'>25</div><div style='display: inline-block; border: 1px solid #888; font-family: monospace; font-size: 14px; color: black; background-color: rgb(255, 255, 255); margin: 0 0 2px -1px; padding: 0'>&nbsp;×</div><div style='display: inline-block; border: 1px solid #888; font-family: monospace; font-size: 14px; color: black; background-color: rgb(255, 255, 255); margin: 0 0 2px -1px; padding: 0'>&nbsp;</div><div style='display: inline-block; border: 1px solid #888; font-family: monospace; font-size: 14px; color: black; background-color: rgb(255, 255, 255); margin: 0 0 2px -1px; padding: 0'>60</div><div style='display: inline-block; border: 1px solid #888; font-family: monospace; font-size: 14px; color: black; background-color: rgb(255, 255, 255); margin: 0 0 2px -1px; padding: 0'>&nbsp;=</div><div style='display: inline-block; border: 1px solid #888; font-family: monospace; font-size: 14px; color: black; background-color: rgb(255, 255, 255); margin: 0 0 2px -1px; padding: 0'>&nbsp;</div><div style='display: inline-block; border: 1px solid #888; font-family: monospace; font-size: 14px; color: black; background-color: rgb(255, 255, 255); margin: 0 0 2px -1px; padding: 0'>15</div><div style='display: inline-block; border: 1px solid #888; font-family: monospace; font-size: 14px; color: black; background-color: rgb(255, 255, 255); margin: 0 0 2px -1px; padding: 0'>\\n</div><br><div style='display: inline-block; border: 1px solid #888; font-family: monospace; font-size: 14px; color: black; background-color: rgb(255, 255, 255); margin: 0 0 2px -1px; padding: 0'>-</div><div style='display: inline-block; border: 1px solid #888; font-family: monospace; font-size: 14px; color: black; background-color: rgb(255, 255, 255); margin: 0 0 2px -1px; padding: 0'>&nbsp;Now</div><div style='display: inline-block; border: 1px solid #888; font-family: monospace; font-size: 14px; color: black; background-color: rgb(255, 255, 255); margin: 0 0 2px -1px; padding: 0'>,</div><div style='display: inline-block; border: 1px solid #888; font-family: monospace; font-size: 14px; color: black; background-color: rgb(255, 255, 255); margin: 0 0 2px -1px; padding: 0'>&nbsp;add</div><div style='display: inline-block; border: 1px solid #888; font-family: monospace; font-size: 14px; color: black; background-color: rgb(255, 255, 255); margin: 0 0 2px -1px; padding: 0'>&nbsp;</div><div style='display: inline-block; border: 1px solid #888; font-family: monospace; font-size: 14px; color: black; background-color: rgb(255, 255, 255); margin: 0 0 2px -1px; padding: 0'>12</div><div style='display: inline-block; border: 1px solid #888; font-family: monospace; font-size: 14px; color: black; background-color: rgb(255, 255, 255); margin: 0 0 2px -1px; padding: 0'>&nbsp;and</div><div style='display: inline-block; border: 1px solid #888; font-family: monospace; font-size: 14px; color: black; background-color: rgb(255, 255, 255); margin: 0 0 2px -1px; padding: 0'>&nbsp;</div><div style='display: inline-block; border: 1px solid #888; font-family: monospace; font-size: 14px; color: black; background-color: rgb(255, 255, 255); margin: 0 0 2px -1px; padding: 0'>15</div><div style='display: inline-block; border: 1px solid #888; font-family: monospace; font-size: 14px; color: black; background-color: rgb(255, 255, 255); margin: 0 0 2px -1px; padding: 0'>\\n</div><br><div style='display: inline-block; border: 1px solid #888; font-family: monospace; font-size: 14px; color: black; background-color: rgb(255, 255, 255); margin: 0 0 2px -1px; padding: 0'>-</div><div style='display: inline-block; border: 1px solid #888; font-family: monospace; font-size: 14px; color: black; background-color: rgb(255, 255, 255); margin: 0 0 2px -1px; padding: 0'>&nbsp;</div><div style='display: inline-block; border: 1px solid #888; font-family: monospace; font-size: 14px; color: black; background-color: rgb(255, 255, 255); margin: 0 0 2px -1px; padding: 0'>12</div><div style='display: inline-block; border: 1px solid #888; font-family: monospace; font-size: 14px; color: black; background-color: rgb(255, 255, 255); margin: 0 0 2px -1px; padding: 0'>&nbsp;+</div><div style='display: inline-block; border: 1px solid #888; font-family: monospace; font-size: 14px; color: black; background-color: rgb(255, 255, 255); margin: 0 0 2px -1px; padding: 0'>&nbsp;</div><div style='display: inline-block; border: 1px solid #888; font-family: monospace; font-size: 14px; color: black; background-color: rgb(255, 255, 255); margin: 0 0 2px -1px; padding: 0'>15</div><div style='display: inline-block; border: 1px solid #888; font-family: monospace; font-size: 14px; color: black; background-color: rgb(255, 255, 255); margin: 0 0 2px -1px; padding: 0'>&nbsp;=</div><div style='display: inline-block; border: 1px solid #888; font-family: monospace; font-size: 14px; color: black; background-color: rgb(255, 255, 255); margin: 0 0 2px -1px; padding: 0'>&nbsp;</div><div style='display: inline-block; border: 1px solid #888; font-family: monospace; font-size: 14px; color: black; background-color: rgb(255, 255, 255); margin: 0 0 2px -1px; padding: 0'>27</div><div style='display: inline-block; border: 1px solid #888; font-family: monospace; font-size: 14px; color: black; background-color: rgb(255, 255, 255); margin: 0 0 2px -1px; padding: 0'>\\n</div><br><div style='display: inline-block; border: 1px solid #888; font-family: monospace; font-size: 14px; color: black; background-color: rgb(255, 255, 255); margin: 0 0 2px -1px; padding: 0'>-</div><div style='display: inline-block; border: 1px solid #888; font-family: monospace; font-size: 14px; color: black; background-color: rgb(255, 255, 255); margin: 0 0 2px -1px; padding: 0'>&nbsp;</div><div style='display: inline-block; border: 1px solid #888; font-family: monospace; font-size: 14px; color: black; background-color: rgb(255, 255, 255); margin: 0 0 2px -1px; padding: 0'>27</div><div style='display: inline-block; border: 1px solid #888; font-family: monospace; font-size: 14px; color: black; background-color: rgb(255, 255, 255); margin: 0 0 2px -1px; padding: 0'>&nbsp;is</div><div style='display: inline-block; border: 1px solid #888; font-family: monospace; font-size: 14px; color: black; background-color: rgb(255, 255, 255); margin: 0 0 2px -1px; padding: 0'>&nbsp;not</div><div style='display: inline-block; border: 1px solid #888; font-family: monospace; font-size: 14px; color: black; background-color: rgb(255, 255, 255); margin: 0 0 2px -1px; padding: 0'>&nbsp;equal</div><div style='display: inline-block; border: 1px solid #888; font-family: monospace; font-size: 14px; color: black; background-color: rgb(255, 255, 255); margin: 0 0 2px -1px; padding: 0'>&nbsp;to</div><div style='display: inline-block; border: 1px solid #888; font-family: monospace; font-size: 14px; color: black; background-color: rgb(255, 255, 255); margin: 0 0 2px -1px; padding: 0'>&nbsp;</div><div style='display: inline-block; border: 1px solid #888; font-family: monospace; font-size: 14px; color: black; background-color: rgb(255, 255, 255); margin: 0 0 2px -1px; padding: 0'>28</div><div style='display: inline-block; border: 1px solid #888; font-family: monospace; font-size: 14px; color: black; background-color: rgb(255, 255, 255); margin: 0 0 2px -1px; padding: 0'>\\n</div><br><div style='display: inline-block; border: 1px solid #888; font-family: monospace; font-size: 14px; color: black; background-color: rgb(255, 255, 255); margin: 0 0 2px -1px; padding: 0'>Answer</div>"
      ],
      "text/plain": [
       "<IPython.core.display.HTML object>"
      ]
     },
     "metadata": {},
     "output_type": "display_data"
    },
    {
     "name": "stdout",
     "output_type": "stream",
     "text": [
      "\n",
      "yes_no\n"
     ]
    },
    {
     "ename": "",
     "evalue": "",
     "output_type": "error",
     "traceback": [
      "\u001b[1;31mThe Kernel crashed while executing code in the current cell or a previous cell. \n",
      "\u001b[1;31mPlease review the code in the cell(s) to identify a possible cause of the failure. \n",
      "\u001b[1;31mClick <a href='https://aka.ms/vscodeJupyterKernelCrash'>here</a> for more info. \n",
      "\u001b[1;31mView Jupyter <a href='command:jupyter.viewOutput'>log</a> for further details."
     ]
    }
   ],
   "source": [
    "yes_tok_id = tokenizer.encode(\" Yes\", add_special_tokens=False)[0]\n",
    "no_tok_id = tokenizer.encode(\" No\", add_special_tokens=False)[0]\n",
    "question_tok_id = tokenizer.encode(\"Question\", add_special_tokens=False)[0]\n",
    "for key, prompt in list(combined_prompts.items())[:]:\n",
    "    print(key)\n",
    "    expected_answer = key.split(\"_\")[1]\n",
    "    if expected_answer == \"yes\":\n",
    "        expected_tok_id = yes_tok_id\n",
    "    else:\n",
    "        expected_tok_id = no_tok_id\n",
    "    for _ in range(10):\n",
    "        tokenizer_out = tokenizer(prompt, return_tensors=\"pt\")\n",
    "        tok_prompt_list = tokenizer_out[\"input_ids\"][0].tolist()\n",
    "        prompt_len = len(tok_prompt_list)\n",
    "        model_output = model.generate(\n",
    "            tokenizer_out[\"input_ids\"].cuda(),\n",
    "            attention_mask=tokenizer_out[\"attention_mask\"].cuda(),\n",
    "            max_new_tokens=100,\n",
    "            temperature=0.7,\n",
    "            pad_token_id=tokenizer.eos_token_id,\n",
    "            tokenizer=tokenizer,\n",
    "            stop_strings=[f\"Answer: {yesno}\" for yesno in [\"Yes\", \"No\"]],\n",
    "        )[0]\n",
    "        model_output_list = model_output.tolist()\n",
    "        # Find the last occurrence of question_tok_id\n",
    "        last_question_index = (\n",
    "            len(tok_prompt_list) - 1 - tok_prompt_list[::-1].index(question_tok_id)\n",
    "        )\n",
    "        # print(prompt_len)\n",
    "        # print(last_question_index)\n",
    "        response_toks = model_output_list[prompt_len:]\n",
    "        q_response_toks = model_output_list[last_question_index:]\n",
    "        answer_tok_id = model_output_list[-1]\n",
    "        # if answer_tok_id == yes_tok_id:\n",
    "        #     print(\"Y\", end=\"\")\n",
    "        # elif answer_tok_id == no_tok_id:\n",
    "        #     print(\"N\", end=\"\")\n",
    "        # else:\n",
    "        #     print(\"U\", end=\"\")\n",
    "        if expected_tok_id != answer_tok_id:\n",
    "            # html = visualize_tokens_html(\n",
    "            #     response_toks, tokenizer\n",
    "            # )\n",
    "            # display(HTML(html))\n",
    "            # print()\n",
    "            html = visualize_tokens_html(q_response_toks, tokenizer)\n",
    "            display(HTML(html))\n",
    "            print()"
   ]
  },
  {
   "cell_type": "code",
   "execution_count": 98,
   "metadata": {},
   "outputs": [],
   "source": [
    "# question_tok_id = tokenizer.encode(\"Question\", add_special_tokens=False)[0]\n",
    "\n",
    "# for key, prompt in combined_prompts.items():\n",
    "#     print(key)\n",
    "#     tok_prompt_list = tokenizer.encode(prompt)\n",
    "#     print(f\"num tokens: {len(tok_prompt_list)}\")\n",
    "#     tok_prompt_tensor = torch.tensor(tok_prompt_list).to(\"cuda\")\n",
    "#     logits = model(tok_prompt_tensor.unsqueeze(0)).logits[0]\n",
    "#     next_logprobs = get_next_logprobs(logits, tok_prompt_tensor)\n",
    "#     values = [0] + next_logprobs.exp().tolist()\n",
    "\n",
    "#     # Find the last occurrence of question_tok_id\n",
    "#     last_question_index = (\n",
    "#         len(tok_prompt_list) - 1 - tok_prompt_list[::-1].index(question_tok_id)\n",
    "#     )\n",
    "\n",
    "#     # Slice the token list and values from the last question onwards\n",
    "#     visualize_tokens = tok_prompt_list[last_question_index:]\n",
    "#     visualize_values = values[last_question_index:]\n",
    "\n",
    "#     html = visualize_tokens_html(\n",
    "#         visualize_tokens, tokenizer, visualize_values, vmin=0.0, vmax=1.0\n",
    "#     )\n",
    "#     display(HTML(html))\n",
    "\n",
    "#     print(\"Top 3 predictions for 'Answer'\")\n",
    "#     answer_logits = logits[-4]\n",
    "#     answer_probs = torch.softmax(answer_logits, dim=-1)\n",
    "#     top_probs, top_indices = torch.topk(answer_probs, k=3)\n",
    "#     html_answer_top = visualize_tokens_html(\n",
    "#         top_indices.tolist(), tokenizer, top_probs.tolist(), vmin=0.0, vmax=1.0\n",
    "#     )\n",
    "#     display(HTML(html_answer_top))"
   ]
  }
 ],
 "metadata": {
  "kernelspec": {
   "display_name": ".venv",
   "language": "python",
   "name": "python3"
  },
  "language_info": {
   "codemirror_mode": {
    "name": "ipython",
    "version": 3
   },
   "file_extension": ".py",
   "mimetype": "text/x-python",
   "name": "python",
   "nbconvert_exporter": "python",
   "pygments_lexer": "ipython3",
   "version": "3.10.12"
  }
 },
 "nbformat": 4,
 "nbformat_minor": 2
}
