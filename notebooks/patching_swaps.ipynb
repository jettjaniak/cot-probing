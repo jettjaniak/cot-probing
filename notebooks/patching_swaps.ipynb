{
 "cells": [
  {
   "cell_type": "code",
   "execution_count": 1,
   "metadata": {},
   "outputs": [],
   "source": [
    "%load_ext autoreload\n",
    "%autoreload 2"
   ]
  },
  {
   "cell_type": "code",
   "execution_count": 36,
   "metadata": {},
   "outputs": [],
   "source": [
    "from cot_probing.swapping import process_successful_swaps, SuccessfulSwap\n",
    "from cot_probing import DATA_DIR\n",
    "from cot_probing.typing import *\n",
    "from transformers import AutoTokenizer\n",
    "\n",
    "\n",
    "responses_path = DATA_DIR / \"responses_by_seed_8B.pkl\"\n",
    "swap_results_path = DATA_DIR / \"swap_results_by_q_seed_i_0_8B_pos5_tok3_p5.pkl\"\n",
    "model_id = \"hugging-quants/Meta-Llama-3.1-8B-BNB-NF4-BF16\"\n",
    "tokenizer = AutoTokenizer.from_pretrained(model_id)\n",
    "\n",
    "successful_swaps_by_q = process_successful_swaps(\n",
    "    responses_path=responses_path,\n",
    "    swap_results_path=swap_results_path,\n",
    "    tokenizer=tokenizer,\n",
    ")"
   ]
  },
  {
   "cell_type": "code",
   "execution_count": 3,
   "metadata": {},
   "outputs": [
    {
     "name": "stdout",
     "output_type": "stream",
     "text": [
      "q_idx: 0, len(successful_swaps): 0\n",
      "n_unfai_to_fai: 0, n_fai_to_unfai: 0\n",
      "q_idx: 1, len(successful_swaps): 1\n",
      "n_unfai_to_fai: 1, n_fai_to_unfai: 0\n",
      "q_idx: 2, len(successful_swaps): 3\n",
      "n_unfai_to_fai: 1, n_fai_to_unfai: 2\n",
      "q_idx: 3, len(successful_swaps): 4\n",
      "n_unfai_to_fai: 2, n_fai_to_unfai: 2\n",
      "q_idx: 4, len(successful_swaps): 4\n",
      "n_unfai_to_fai: 2, n_fai_to_unfai: 2\n",
      "q_idx: 5, len(successful_swaps): 9\n",
      "n_unfai_to_fai: 2, n_fai_to_unfai: 7\n",
      "q_idx: 6, len(successful_swaps): 4\n",
      "n_unfai_to_fai: 1, n_fai_to_unfai: 3\n",
      "q_idx: 7, len(successful_swaps): 11\n",
      "n_unfai_to_fai: 5, n_fai_to_unfai: 6\n",
      "q_idx: 8, len(successful_swaps): 1\n",
      "n_unfai_to_fai: 0, n_fai_to_unfai: 1\n",
      "q_idx: 9, len(successful_swaps): 3\n",
      "n_unfai_to_fai: 0, n_fai_to_unfai: 3\n",
      "q_idx: 10, len(successful_swaps): 4\n",
      "n_unfai_to_fai: 2, n_fai_to_unfai: 2\n",
      "q_idx: 11, len(successful_swaps): 1\n",
      "n_unfai_to_fai: 0, n_fai_to_unfai: 1\n",
      "q_idx: 12, len(successful_swaps): 7\n",
      "n_unfai_to_fai: 5, n_fai_to_unfai: 2\n",
      "q_idx: 13, len(successful_swaps): 3\n",
      "n_unfai_to_fai: 1, n_fai_to_unfai: 2\n",
      "q_idx: 14, len(successful_swaps): 7\n",
      "n_unfai_to_fai: 3, n_fai_to_unfai: 4\n",
      "q_idx: 15, len(successful_swaps): 0\n",
      "n_unfai_to_fai: 0, n_fai_to_unfai: 0\n"
     ]
    }
   ],
   "source": [
    "for i, successful_swaps in enumerate(successful_swaps_by_q):\n",
    "    print(f\"q_idx: {i}, len(successful_swaps): {len(successful_swaps)}\")\n",
    "    n_unfai_to_fai = sum(\n",
    "        1 for swap in successful_swaps if swap.swap_dir == \"unfai_to_fai\"\n",
    "    )\n",
    "    n_fai_to_unfai = sum(\n",
    "        1 for swap in successful_swaps if swap.swap_dir == \"fai_to_unfai\"\n",
    "    )\n",
    "    print(f\"n_unfai_to_fai: {n_unfai_to_fai}, n_fai_to_unfai: {n_fai_to_unfai}\")"
   ]
  },
  {
   "cell_type": "code",
   "execution_count": 88,
   "metadata": {},
   "outputs": [],
   "source": [
    "successful_swaps: list[SuccessfulSwap] = successful_swaps_by_q[7]"
   ]
  },
  {
   "cell_type": "code",
   "execution_count": 5,
   "metadata": {},
   "outputs": [
    {
     "name": "stderr",
     "output_type": "stream",
     "text": [
      "Unused kwargs: ['_load_in_4bit', '_load_in_8bit', 'quant_method']. These kwargs are not used in <class 'transformers.utils.quantization_config.BitsAndBytesConfig'>.\n"
     ]
    },
    {
     "data": {
      "application/vnd.jupyter.widget-view+json": {
       "model_id": "58adce01d9704a2c9d2a08119ef17fa2",
       "version_major": 2,
       "version_minor": 0
      },
      "text/plain": [
       "Loading checkpoint shards:   0%|          | 0/2 [00:00<?, ?it/s]"
      ]
     },
     "metadata": {},
     "output_type": "display_data"
    }
   ],
   "source": [
    "from transformers import AutoModelForCausalLM\n",
    "\n",
    "model = AutoModelForCausalLM.from_pretrained(\n",
    "    model_id,\n",
    "    torch_dtype=torch.bfloat16,\n",
    "    low_cpu_mem_usage=True,\n",
    "    device_map=\"cuda\",\n",
    ")"
   ]
  },
  {
   "cell_type": "code",
   "execution_count": 89,
   "metadata": {},
   "outputs": [
    {
     "name": "stdout",
     "output_type": "stream",
     "text": [
      "swap_idx: 0\n",
      "0.2136940211057663\n",
      "0.2136940211057663\n",
      "`-` -> `Answer`\n",
      "\n",
      "swap_idx: 1\n",
      "0.17462696135044098\n",
      "0.17462696135044098\n",
      "`-` -> `Answer`\n",
      "\n",
      "swap_idx: 2\n",
      "0.20122116804122925\n",
      "0.20122117549180984\n",
      "`-` -> `Answer`\n",
      "\n",
      "swap_idx: 3\n",
      "0.18714302778244019\n",
      "0.18714303523302078\n",
      "`-` -> `Answer`\n",
      "\n",
      "swap_idx: 4\n",
      "0.1743468940258026\n",
      "0.1743468940258026\n",
      "`-` -> `Answer`\n",
      "\n",
      "swap_idx: 5\n",
      "0.20116330683231354\n",
      "0.20116330683231354\n",
      "`-` -> `Answer`\n",
      "\n",
      "swap_idx: 6\n",
      "0.18816721439361572\n",
      "0.18816721439361572\n",
      "`Answer` -> `-`\n",
      "\n",
      "swap_idx: 7\n",
      "0.14995616674423218\n",
      "0.14995616674423218\n",
      "`Answer` -> `-`\n",
      "\n",
      "swap_idx: 8\n",
      "0.16162115335464478\n",
      "0.16162115335464478\n",
      "`Answer` -> `-`\n",
      "\n",
      "swap_idx: 9\n",
      "0.20166927576065063\n",
      "0.20166927576065063\n",
      "`Answer` -> `-`\n",
      "\n",
      "swap_idx: 10\n",
      "0.21430552005767822\n",
      "0.21430552005767822\n",
      "`Answer` -> `-`\n",
      "\n"
     ]
    }
   ],
   "source": [
    "for i, swap in enumerate(successful_swaps):\n",
    "    print(f\"swap_idx: {i}\")\n",
    "    unb_fai_prob, unb_unfai_prob = swap.get_unbiased_probs(model)\n",
    "    biased_fai_prob, biased_unfai_prob = swap.get_biased_probs(model)\n",
    "    print(f\"{swap.prob_diff}\")\n",
    "    if swap.swap_dir == \"unfai_to_fai\":\n",
    "        diff = unb_fai_prob - biased_fai_prob\n",
    "        print(diff)\n",
    "    elif swap.swap_dir == \"fai_to_unfai\":\n",
    "        diff = biased_unfai_prob - unb_unfai_prob\n",
    "        print(diff)\n",
    "    assert diff - 0.02 < swap.prob_diff < diff + 0.02\n",
    "    unfai_tok_str = tokenizer.decode(swap.unfai_tok).replace(\"\\n\", \"\\\\n\")\n",
    "    fai_tok_str = tokenizer.decode(swap.fai_tok).replace(\"\\n\", \"\\\\n\")\n",
    "    if swap.swap_dir == \"unfai_to_fai\":\n",
    "        print(f\"`{unfai_tok_str}` -> `{fai_tok_str}`\")\n",
    "    elif swap.swap_dir == \"fai_to_unfai\":\n",
    "        print(f\"`{fai_tok_str}` -> `{unfai_tok_str}`\")\n",
    "    print()"
   ]
  },
  {
   "cell_type": "code",
   "execution_count": 90,
   "metadata": {},
   "outputs": [],
   "source": [
    "from cot_probing.patching import clean_run_with_cache, patched_run\n",
    "\n",
    "\n",
    "def get_logit_prob_diff(swap: SuccessfulSwap, pos_by_layer):\n",
    "    input_ids_unbiased = swap.unb_prompt + swap.trunc_cot\n",
    "    input_ids_biased = swap.bias_no_prompt + swap.trunc_cot\n",
    "    logits_unbiased, resid_by_pos_by_layer_unbiased = clean_run_with_cache(\n",
    "        model, input_ids_unbiased, pos_by_layer\n",
    "    )\n",
    "    logits_biased, resid_by_pos_by_layer_biased = clean_run_with_cache(\n",
    "        model, input_ids_biased, pos_by_layer\n",
    "    )\n",
    "    probs_unbiased = torch.softmax(logits_unbiased, dim=-1)\n",
    "    probs_biased = torch.softmax(logits_biased, dim=-1)\n",
    "    assert probs_unbiased[swap.fai_tok] > probs_biased[swap.fai_tok]\n",
    "    assert probs_unbiased[swap.unfai_tok] < probs_biased[swap.unfai_tok]\n",
    "    logits_patched_biased_to_unbiased = patched_run(\n",
    "        model, input_ids_unbiased, resid_by_pos_by_layer_biased\n",
    "    )\n",
    "    probs_patched_biased_to_unbiased = torch.softmax(\n",
    "        logits_patched_biased_to_unbiased, dim=-1\n",
    "    )\n",
    "    logits_patched_unbiased_to_biased = patched_run(\n",
    "        model, input_ids_biased, resid_by_pos_by_layer_unbiased\n",
    "    )\n",
    "    probs_patched_unbiased_to_biased = torch.softmax(\n",
    "        logits_patched_unbiased_to_biased, dim=-1\n",
    "    )\n",
    "    # logit_diff_unbiased = logits_unbiased[swap.fai_tok] - logits_unbiased[swap.unfai_tok]\n",
    "    # logit_diff_unbiased_patched = logits_patched_biased_to_unbiased[swap.fai_tok] - logits_patched_biased_to_unbiased[swap.unfai_tok]\n",
    "    # logit_diff_biased = logits_biased[swap.unfai_tok] - logits_biased[swap.fai_tok]\n",
    "    # logit_diff_biased_patched = logits_patched_unbiased_to_biased[swap.unfai_tok] - logits_patched_unbiased_to_biased[swap.fai_tok]\n",
    "\n",
    "    # ld_change_unbiased = logit_diff_unbiased - logit_diff_unbiased_patched\n",
    "    # ld_change_biased = logit_diff_biased - logit_diff_biased_patched\n",
    "    # return ld_change_unbiased.item(), ld_change_biased.item()\n",
    "    probs_diff_unbiased = probs_unbiased[swap.fai_tok] - probs_unbiased[swap.unfai_tok]\n",
    "    probs_diff_unbiased_patched = (\n",
    "        probs_patched_biased_to_unbiased[swap.fai_tok]\n",
    "        - probs_patched_biased_to_unbiased[swap.unfai_tok]\n",
    "    )\n",
    "    probs_diff_biased = probs_biased[swap.unfai_tok] - probs_biased[swap.fai_tok]\n",
    "    probs_diff_biased_patched = (\n",
    "        probs_patched_unbiased_to_biased[swap.unfai_tok]\n",
    "        - probs_patched_unbiased_to_biased[swap.fai_tok]\n",
    "    )\n",
    "    pd_change_unbiased = probs_diff_unbiased - probs_diff_unbiased_patched\n",
    "    pd_change_biased = probs_diff_biased - probs_diff_biased_patched\n",
    "    return pd_change_unbiased.item(), pd_change_biased.item()\n",
    "\n",
    "\n",
    "swap = successful_swaps[10]\n",
    "_, q_tok_id = tokenizer.encode(\"Question\")\n",
    "last_q_idx = len(swap.unb_prompt) - 1 - swap.unb_prompt[::-1].index(q_tok_id)\n",
    "assert swap.unb_prompt[last_q_idx] == swap.bias_no_prompt[last_q_idx] == q_tok_id\n",
    "import matplotlib.pyplot as plt\n",
    "\n",
    "layers = list(range(33))\n",
    "unbiased_changes = []\n",
    "biased_changes = []\n",
    "\n",
    "for layer in layers:\n",
    "    pos_by_layer = {layer: [slice(0, last_q_idx)]}\n",
    "    result = get_logit_prob_diff(swap, pos_by_layer)\n",
    "    unbiased_changes.append(result[0])\n",
    "    biased_changes.append(result[1])"
   ]
  },
  {
   "cell_type": "code",
   "execution_count": 91,
   "metadata": {},
   "outputs": [
    {
     "data": {
      "image/png": "[encoded data removed]",
      "text/plain": [
       "<Figure size 1200x600 with 1 Axes>"
      ]
     },
     "metadata": {},
     "output_type": "display_data"
    }
   ],
   "source": [
    "plt.figure(figsize=(12, 6))\n",
    "plt.plot(layers, unbiased_changes, label=\"Unbiased Change\")\n",
    "plt.plot(layers, biased_changes, label=\"Biased Change\")\n",
    "plt.xlabel(\"Layer\")\n",
    "plt.ylabel(\"Probability Difference Change\")\n",
    "plt.title(\"Probability Difference Changes by Layer\")\n",
    "plt.legend()\n",
    "plt.grid(True)\n",
    "plt.show()"
   ]
  },
  {
   "cell_type": "code",
   "execution_count": 73,
   "metadata": {},
   "outputs": [
    {
     "data": {
      "text/plain": [
       "0"
      ]
     },
     "execution_count": 73,
     "metadata": {},
     "output_type": "execute_result"
    }
   ],
   "source": [
    "last_q_idx"
   ]
  },
  {
   "cell_type": "code",
   "execution_count": 32,
   "metadata": {},
   "outputs": [
    {
     "name": "stdout",
     "output_type": "stream",
     "text": [
      "torch.Size([128256])\n",
      "torch.Size([128256])\n"
     ]
    }
   ],
   "source": [
    "logits_patched_biased_to_unbiased = patched_run(\n",
    "    model, input_ids_unbiased, resid_by_pos_by_layer_biased\n",
    ")\n",
    "logits_patched_unbiased_to_biased = patched_run(\n",
    "    model, input_ids_biased, resid_by_pos_by_layer_unbiased\n",
    ")\n",
    "print(logits_patched_biased_to_unbiased.shape)\n",
    "print(logits_patched_unbiased_to_biased.shape)"
   ]
  },
  {
   "cell_type": "code",
   "execution_count": 33,
   "metadata": {},
   "outputs": [
    {
     "name": "stdout",
     "output_type": "stream",
     "text": [
      "unbiased\n"
     ]
    },
    {
     "data": {
      "text/html": [
       "<div style='display: inline-block; border: 1px solid #888; font-family: monospace; font-size: 14px; color: black; background-color: rgb(255, 0, 0); margin: 0 0 2px -1px; padding: 0' title='0.76'>48</div><div style='display: inline-block; border: 1px solid #888; font-family: monospace; font-size: 14px; color: black; background-color: rgb(255, 182, 182); margin: 0 0 2px -1px; padding: 0' title='0.22'>42</div><div style='display: inline-block; border: 1px solid #888; font-family: monospace; font-size: 14px; color: black; background-color: rgb(255, 253, 253); margin: 0 0 2px -1px; padding: 0' title='0.01'>74</div><div style='display: inline-block; border: 1px solid #888; font-family: monospace; font-size: 14px; color: black; background-color: rgb(255, 254, 254); margin: 0 0 2px -1px; padding: 0' title='0.00'>16</div><div style='display: inline-block; border: 1px solid #888; font-family: monospace; font-size: 14px; color: black; background-color: rgb(255, 255, 255); margin: 0 0 2px -1px; padding: 0' title='0.00'>47</div>"
      ],
      "text/plain": [
       "<IPython.core.display.HTML object>"
      ]
     },
     "metadata": {},
     "output_type": "display_data"
    },
    {
     "name": "stdout",
     "output_type": "stream",
     "text": [
      "biased\n"
     ]
    },
    {
     "data": {
      "text/html": [
       "<div style='display: inline-block; border: 1px solid #888; font-family: monospace; font-size: 14px; color: black; background-color: rgb(255, 0, 0); margin: 0 0 2px -1px; padding: 0' title='0.69'>48</div><div style='display: inline-block; border: 1px solid #888; font-family: monospace; font-size: 14px; color: black; background-color: rgb(255, 148, 148); margin: 0 0 2px -1px; padding: 0' title='0.29'>42</div><div style='display: inline-block; border: 1px solid #888; font-family: monospace; font-size: 14px; color: black; background-color: rgb(255, 251, 251); margin: 0 0 2px -1px; padding: 0' title='0.01'>74</div><div style='display: inline-block; border: 1px solid #888; font-family: monospace; font-size: 14px; color: black; background-color: rgb(255, 254, 254); margin: 0 0 2px -1px; padding: 0' title='0.00'>16</div><div style='display: inline-block; border: 1px solid #888; font-family: monospace; font-size: 14px; color: black; background-color: rgb(255, 255, 255); margin: 0 0 2px -1px; padding: 0' title='0.00'>47</div>"
      ],
      "text/plain": [
       "<IPython.core.display.HTML object>"
      ]
     },
     "metadata": {},
     "output_type": "display_data"
    },
    {
     "name": "stdout",
     "output_type": "stream",
     "text": [
      "patched unbiased to biased\n"
     ]
    },
    {
     "data": {
      "text/html": [
       "<div style='display: inline-block; border: 1px solid #888; font-family: monospace; font-size: 14px; color: black; background-color: rgb(255, 0, 0); margin: 0 0 2px -1px; padding: 0' title='0.76'>48</div><div style='display: inline-block; border: 1px solid #888; font-family: monospace; font-size: 14px; color: black; background-color: rgb(255, 182, 182); margin: 0 0 2px -1px; padding: 0' title='0.22'>42</div><div style='display: inline-block; border: 1px solid #888; font-family: monospace; font-size: 14px; color: black; background-color: rgb(255, 253, 253); margin: 0 0 2px -1px; padding: 0' title='0.01'>74</div><div style='display: inline-block; border: 1px solid #888; font-family: monospace; font-size: 14px; color: black; background-color: rgb(255, 254, 254); margin: 0 0 2px -1px; padding: 0' title='0.00'>16</div><div style='display: inline-block; border: 1px solid #888; font-family: monospace; font-size: 14px; color: black; background-color: rgb(255, 255, 255); margin: 0 0 2px -1px; padding: 0' title='0.00'>47</div>"
      ],
      "text/plain": [
       "<IPython.core.display.HTML object>"
      ]
     },
     "metadata": {},
     "output_type": "display_data"
    },
    {
     "name": "stdout",
     "output_type": "stream",
     "text": [
      "patched biased to unbiased\n"
     ]
    },
    {
     "data": {
      "text/html": [
       "<div style='display: inline-block; border: 1px solid #888; font-family: monospace; font-size: 14px; color: black; background-color: rgb(255, 0, 0); margin: 0 0 2px -1px; padding: 0' title='0.69'>48</div><div style='display: inline-block; border: 1px solid #888; font-family: monospace; font-size: 14px; color: black; background-color: rgb(255, 148, 148); margin: 0 0 2px -1px; padding: 0' title='0.29'>42</div><div style='display: inline-block; border: 1px solid #888; font-family: monospace; font-size: 14px; color: black; background-color: rgb(255, 251, 251); margin: 0 0 2px -1px; padding: 0' title='0.01'>74</div><div style='display: inline-block; border: 1px solid #888; font-family: monospace; font-size: 14px; color: black; background-color: rgb(255, 254, 254); margin: 0 0 2px -1px; padding: 0' title='0.00'>16</div><div style='display: inline-block; border: 1px solid #888; font-family: monospace; font-size: 14px; color: black; background-color: rgb(255, 255, 255); margin: 0 0 2px -1px; padding: 0' title='0.00'>47</div>"
      ],
      "text/plain": [
       "<IPython.core.display.HTML object>"
      ]
     },
     "metadata": {},
     "output_type": "display_data"
    }
   ],
   "source": [
    "from cot_probing.vis import visualize_tokens_html\n",
    "\n",
    "\n",
    "def visualize_top_tokens(\n",
    "    logits: Float[torch.Tensor, \"vocab\"], tokenizer: PreTrainedTokenizerBase, k: int = 5\n",
    "):\n",
    "    probs = torch.nn.functional.softmax(logits, dim=-1)\n",
    "    topk_values, topk_toks = probs.topk(k)\n",
    "    min_value = topk_values.min().item()\n",
    "    max_value = topk_values.max().item()\n",
    "    display(\n",
    "        visualize_tokens_html(\n",
    "            topk_toks.tolist(), tokenizer, topk_values.tolist(), min_value, max_value\n",
    "        )\n",
    "    )\n",
    "\n",
    "\n",
    "print(\"unbiased\")\n",
    "visualize_top_tokens(logits_unbiased, tokenizer)\n",
    "print(\"biased\")\n",
    "visualize_top_tokens(logits_biased, tokenizer)\n",
    "print(\"patched unbiased to biased\")\n",
    "visualize_top_tokens(logits_patched_unbiased_to_biased, tokenizer)\n",
    "print(\"patched biased to unbiased\")\n",
    "visualize_top_tokens(logits_patched_biased_to_unbiased, tokenizer)"
   ]
  }
 ],
 "metadata": {
  "kernelspec": {
   "display_name": ".venv",
   "language": "python",
   "name": "python3"
  },
  "language_info": {
   "codemirror_mode": {
    "name": "ipython",
    "version": 3
   },
   "file_extension": ".py",
   "mimetype": "text/x-python",
   "name": "python",
   "nbconvert_exporter": "python",
   "pygments_lexer": "ipython3",
   "version": "3.12.3"
  }
 },
 "nbformat": 4,
 "nbformat_minor": 2
}
