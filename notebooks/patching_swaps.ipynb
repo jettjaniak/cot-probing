{
 "cells": [
  {
   "cell_type": "code",
   "execution_count": 1,
   "metadata": {},
   "outputs": [],
   "source": [
    "%load_ext autoreload\n",
    "%autoreload 2"
   ]
  },
  {
   "cell_type": "code",
   "execution_count": 2,
   "metadata": {},
   "outputs": [],
   "source": [
    "from cot_probing.swapping import process_successful_swaps\n",
    "from cot_probing import DATA_DIR\n",
    "from cot_probing.typing import *\n",
    "from transformers import AutoTokenizer\n",
    "\n",
    "\n",
    "responses_path = DATA_DIR / \"responses_by_seed_8B.pkl\"\n",
    "swap_results_path = DATA_DIR / \"swap_results_by_q_seed_i_0_8B_pos5_tok3_p5.pkl\"\n",
    "model_id = \"hugging-quants/Meta-Llama-3.1-8B-BNB-NF4-BF16\"\n",
    "tokenizer = AutoTokenizer.from_pretrained(model_id)\n",
    "\n",
    "successful_swaps_by_q = process_successful_swaps(\n",
    "    responses_path=responses_path,\n",
    "    swap_results_path=swap_results_path,\n",
    "    tokenizer=tokenizer,\n",
    ")"
   ]
  },
  {
   "cell_type": "code",
   "execution_count": 3,
   "metadata": {},
   "outputs": [
    {
     "name": "stdout",
     "output_type": "stream",
     "text": [
      "q_idx: 0, len(successful_swaps): 0\n",
      "n_unfai_to_fai: 0, n_fai_to_unfai: 0\n",
      "q_idx: 1, len(successful_swaps): 1\n",
      "n_unfai_to_fai: 1, n_fai_to_unfai: 0\n",
      "q_idx: 2, len(successful_swaps): 3\n",
      "n_unfai_to_fai: 1, n_fai_to_unfai: 2\n",
      "q_idx: 3, len(successful_swaps): 4\n",
      "n_unfai_to_fai: 2, n_fai_to_unfai: 2\n",
      "q_idx: 4, len(successful_swaps): 4\n",
      "n_unfai_to_fai: 2, n_fai_to_unfai: 2\n",
      "q_idx: 5, len(successful_swaps): 9\n",
      "n_unfai_to_fai: 2, n_fai_to_unfai: 7\n",
      "q_idx: 6, len(successful_swaps): 4\n",
      "n_unfai_to_fai: 1, n_fai_to_unfai: 3\n",
      "q_idx: 7, len(successful_swaps): 11\n",
      "n_unfai_to_fai: 5, n_fai_to_unfai: 6\n",
      "q_idx: 8, len(successful_swaps): 1\n",
      "n_unfai_to_fai: 0, n_fai_to_unfai: 1\n",
      "q_idx: 9, len(successful_swaps): 3\n",
      "n_unfai_to_fai: 0, n_fai_to_unfai: 3\n",
      "q_idx: 10, len(successful_swaps): 4\n",
      "n_unfai_to_fai: 2, n_fai_to_unfai: 2\n",
      "q_idx: 11, len(successful_swaps): 1\n",
      "n_unfai_to_fai: 0, n_fai_to_unfai: 1\n",
      "q_idx: 12, len(successful_swaps): 7\n",
      "n_unfai_to_fai: 5, n_fai_to_unfai: 2\n",
      "q_idx: 13, len(successful_swaps): 3\n",
      "n_unfai_to_fai: 1, n_fai_to_unfai: 2\n",
      "q_idx: 14, len(successful_swaps): 7\n",
      "n_unfai_to_fai: 3, n_fai_to_unfai: 4\n",
      "q_idx: 15, len(successful_swaps): 0\n",
      "n_unfai_to_fai: 0, n_fai_to_unfai: 0\n"
     ]
    }
   ],
   "source": [
    "for i, successful_swaps in enumerate(successful_swaps_by_q):\n",
    "    print(f\"q_idx: {i}, len(successful_swaps): {len(successful_swaps)}\")\n",
    "    n_unfai_to_fai = sum(\n",
    "        1 for swap in successful_swaps if swap.swap_dir == \"unfai_to_fai\"\n",
    "    )\n",
    "    n_fai_to_unfai = sum(\n",
    "        1 for swap in successful_swaps if swap.swap_dir == \"fai_to_unfai\"\n",
    "    )\n",
    "    print(f\"n_unfai_to_fai: {n_unfai_to_fai}, n_fai_to_unfai: {n_fai_to_unfai}\")"
   ]
  },
  {
   "cell_type": "code",
   "execution_count": 25,
   "metadata": {},
   "outputs": [],
   "source": [
    "successful_swaps = successful_swaps_by_q[5]"
   ]
  },
  {
   "cell_type": "code",
   "execution_count": 6,
   "metadata": {},
   "outputs": [
    {
     "name": "stderr",
     "output_type": "stream",
     "text": [
      "Unused kwargs: ['_load_in_4bit', '_load_in_8bit', 'quant_method']. These kwargs are not used in <class 'transformers.utils.quantization_config.BitsAndBytesConfig'>.\n"
     ]
    },
    {
     "data": {
      "application/vnd.jupyter.widget-view+json": {
       "model_id": "9123f980f1af41119c7512aed8463d68",
       "version_major": 2,
       "version_minor": 0
      },
      "text/plain": [
       "Loading checkpoint shards:   0%|          | 0/2 [00:00<?, ?it/s]"
      ]
     },
     "metadata": {},
     "output_type": "display_data"
    }
   ],
   "source": [
    "from transformers import AutoModelForCausalLM\n",
    "\n",
    "model = AutoModelForCausalLM.from_pretrained(\n",
    "    model_id,\n",
    "    torch_dtype=torch.bfloat16,\n",
    "    low_cpu_mem_usage=True,\n",
    "    device_map=\"cuda\",\n",
    ")"
   ]
  },
  {
   "cell_type": "code",
   "execution_count": 28,
   "metadata": {},
   "outputs": [
    {
     "name": "stdout",
     "output_type": "stream",
     "text": [
      "swap_idx: 0\n",
      "0.06857423484325409\n",
      "0.11572489142417908\n",
      "`48` -> `42`\n",
      "\n",
      "swap_idx: 1\n",
      "0.057396844029426575\n",
      "0.05740748345851898\n",
      "`-` -> `Answer`\n",
      "\n",
      "swap_idx: 2\n",
      "0.07533315569162369\n",
      "0.07534375786781311\n",
      "`-` -> `Answer`\n",
      "\n",
      "swap_idx: 3\n",
      "0.08208721876144409\n",
      "0.09461760520935059\n",
      "`-` -> `Answer`\n",
      "\n",
      "swap_idx: 4\n",
      "0.12010908126831055\n",
      "0.09656217694282532\n",
      "`-` -> `Answer`\n",
      "\n",
      "swap_idx: 5\n",
      "0.06219395995140076\n",
      "0.06219128519296646\n",
      "`48` -> `47`\n",
      "\n",
      "swap_idx: 6\n",
      "0.05342337489128113\n",
      "0.07424463331699371\n",
      "`-` -> `Answer`\n",
      "\n",
      "swap_idx: 7\n",
      "0.06261569261550903\n",
      "0.05181640386581421\n",
      "` in` -> ` at`\n",
      "\n",
      "swap_idx: 8\n",
      "0.0950966477394104\n",
      "0.09450507164001465\n",
      "`42` -> `48`\n",
      "\n"
     ]
    }
   ],
   "source": [
    "for i, swap in enumerate(successful_swaps):\n",
    "    print(f\"swap_idx: {i}\")\n",
    "    unb_fai_prob, unb_unfai_prob = swap.get_unbiased_probs(model)\n",
    "    biased_fai_prob, biased_unfai_prob = swap.get_biased_probs(model)\n",
    "    print(f\"{swap.prob_diff}\")\n",
    "    if swap.swap_dir == \"unfai_to_fai\":\n",
    "        diff = unb_fai_prob - biased_fai_prob\n",
    "        print(diff)\n",
    "    elif swap.swap_dir == \"fai_to_unfai\":\n",
    "        diff = biased_unfai_prob - unb_unfai_prob\n",
    "        print(diff)\n",
    "    unfai_tok_str = tokenizer.decode(swap.unfai_tok).replace(\"\\n\", \"\\\\n\")\n",
    "    fai_tok_str = tokenizer.decode(swap.fai_tok).replace(\"\\n\", \"\\\\n\")\n",
    "    if swap.swap_dir == \"unfai_to_fai\":\n",
    "        print(f\"`{unfai_tok_str}` -> `{fai_tok_str}`\")\n",
    "    elif swap.swap_dir == \"fai_to_unfai\":\n",
    "        print(f\"`{fai_tok_str}` -> `{unfai_tok_str}`\")\n",
    "    print()"
   ]
  },
  {
   "cell_type": "code",
   "execution_count": null,
   "metadata": {},
   "outputs": [],
   "source": []
  }
 ],
 "metadata": {
  "kernelspec": {
   "display_name": ".venv",
   "language": "python",
   "name": "python3"
  },
  "language_info": {
   "codemirror_mode": {
    "name": "ipython",
    "version": 3
   },
   "file_extension": ".py",
   "mimetype": "text/x-python",
   "name": "python",
   "nbconvert_exporter": "python",
   "pygments_lexer": "ipython3",
   "version": "3.12.3"
  }
 },
 "nbformat": 4,
 "nbformat_minor": 2
}
