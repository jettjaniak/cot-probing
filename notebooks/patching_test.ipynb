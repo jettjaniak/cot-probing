{
 "cells": [
  {
   "cell_type": "code",
   "execution_count": 1,
   "metadata": {},
   "outputs": [],
   "source": [
    "%load_ext autoreload\n",
    "%autoreload 2"
   ]
  },
  {
   "cell_type": "code",
   "execution_count": 2,
   "metadata": {},
   "outputs": [],
   "source": [
    "from cot_probing.patching import clean_run_with_cache, patched_run"
   ]
  },
  {
   "cell_type": "code",
   "execution_count": 3,
   "metadata": {},
   "outputs": [
    {
     "name": "stderr",
     "output_type": "stream",
     "text": [
      "Unused kwargs: ['_load_in_4bit', '_load_in_8bit', 'quant_method']. These kwargs are not used in <class 'transformers.utils.quantization_config.BitsAndBytesConfig'>.\n"
     ]
    },
    {
     "data": {
      "application/vnd.jupyter.widget-view+json": {
       "model_id": "9a79ab0738204f5b99a789845afd17e2",
       "version_major": 2,
       "version_minor": 0
      },
      "text/plain": [
       "Loading checkpoint shards:   0%|          | 0/2 [00:00<?, ?it/s]"
      ]
     },
     "metadata": {},
     "output_type": "display_data"
    }
   ],
   "source": [
    "from transformers import AutoModelForCausalLM, AutoTokenizer\n",
    "import torch\n",
    "\n",
    "model_id = \"hugging-quants/Meta-Llama-3.1-8B-BNB-NF4-BF16\"\n",
    "tokenizer = AutoTokenizer.from_pretrained(model_id)\n",
    "model = AutoModelForCausalLM.from_pretrained(\n",
    "    model_id,\n",
    "    torch_dtype=torch.bfloat16,\n",
    "    low_cpu_mem_usage=True,\n",
    "    device_map=\"cuda\",\n",
    ")"
   ]
  },
  {
   "cell_type": "code",
   "execution_count": 4,
   "metadata": {},
   "outputs": [
    {
     "data": {
      "text/html": [
       "<div style='display: inline-block; border: 1px solid #888; font-family: monospace; font-size: 14px; color: black; background-color: rgb(255, 255, 255); margin: 0 0 2px -1px; padding: 0'>&lt;|begin_of_text|&gt;</div><div style='display: inline-block; border: 1px solid #888; font-family: monospace; font-size: 14px; color: black; background-color: rgb(255, 255, 255); margin: 0 0 2px -1px; padding: 0'>Today</div><div style='display: inline-block; border: 1px solid #888; font-family: monospace; font-size: 14px; color: black; background-color: rgb(255, 255, 255); margin: 0 0 2px -1px; padding: 0'>&nbsp;is</div><div style='display: inline-block; border: 1px solid #888; font-family: monospace; font-size: 14px; color: black; background-color: rgb(255, 255, 255); margin: 0 0 2px -1px; padding: 0'>&nbsp;a</div><div style='display: inline-block; border: 1px solid #888; font-family: monospace; font-size: 14px; color: black; background-color: rgb(255, 255, 255); margin: 0 0 2px -1px; padding: 0'>&nbsp;good</div><div style='display: inline-block; border: 1px solid #888; font-family: monospace; font-size: 14px; color: black; background-color: rgb(255, 255, 255); margin: 0 0 2px -1px; padding: 0'>&nbsp;day</div><div style='display: inline-block; border: 1px solid #888; font-family: monospace; font-size: 14px; color: black; background-color: rgb(255, 255, 255); margin: 0 0 2px -1px; padding: 0'>,</div><div style='display: inline-block; border: 1px solid #888; font-family: monospace; font-size: 14px; color: black; background-color: rgb(255, 255, 255); margin: 0 0 2px -1px; padding: 0'>&nbsp;I</div><div style='display: inline-block; border: 1px solid #888; font-family: monospace; font-size: 14px; color: black; background-color: rgb(255, 255, 255); margin: 0 0 2px -1px; padding: 0'>&nbsp;think</div><div style='display: inline-block; border: 1px solid #888; font-family: monospace; font-size: 14px; color: black; background-color: rgb(255, 255, 255); margin: 0 0 2px -1px; padding: 0'>&nbsp;I</div><div style='display: inline-block; border: 1px solid #888; font-family: monospace; font-size: 14px; color: black; background-color: rgb(255, 255, 255); margin: 0 0 2px -1px; padding: 0'>'ll</div>"
      ],
      "text/plain": [
       "<IPython.core.display.HTML object>"
      ]
     },
     "metadata": {},
     "output_type": "display_data"
    },
    {
     "data": {
      "text/html": [
       "<div style='display: inline-block; border: 1px solid #888; font-family: monospace; font-size: 14px; color: black; background-color: rgb(255, 255, 255); margin: 0 0 2px -1px; padding: 0'>&lt;|begin_of_text|&gt;</div><div style='display: inline-block; border: 1px solid #888; font-family: monospace; font-size: 14px; color: black; background-color: rgb(255, 255, 255); margin: 0 0 2px -1px; padding: 0'>Today</div><div style='display: inline-block; border: 1px solid #888; font-family: monospace; font-size: 14px; color: black; background-color: rgb(255, 255, 255); margin: 0 0 2px -1px; padding: 0'>&nbsp;is</div><div style='display: inline-block; border: 1px solid #888; font-family: monospace; font-size: 14px; color: black; background-color: rgb(255, 255, 255); margin: 0 0 2px -1px; padding: 0'>&nbsp;a</div><div style='display: inline-block; border: 1px solid #888; font-family: monospace; font-size: 14px; color: black; background-color: rgb(255, 255, 255); margin: 0 0 2px -1px; padding: 0'>&nbsp;bad</div><div style='display: inline-block; border: 1px solid #888; font-family: monospace; font-size: 14px; color: black; background-color: rgb(255, 255, 255); margin: 0 0 2px -1px; padding: 0'>&nbsp;day</div><div style='display: inline-block; border: 1px solid #888; font-family: monospace; font-size: 14px; color: black; background-color: rgb(255, 255, 255); margin: 0 0 2px -1px; padding: 0'>,</div><div style='display: inline-block; border: 1px solid #888; font-family: monospace; font-size: 14px; color: black; background-color: rgb(255, 255, 255); margin: 0 0 2px -1px; padding: 0'>&nbsp;I</div><div style='display: inline-block; border: 1px solid #888; font-family: monospace; font-size: 14px; color: black; background-color: rgb(255, 255, 255); margin: 0 0 2px -1px; padding: 0'>&nbsp;think</div><div style='display: inline-block; border: 1px solid #888; font-family: monospace; font-size: 14px; color: black; background-color: rgb(255, 255, 255); margin: 0 0 2px -1px; padding: 0'>&nbsp;I</div><div style='display: inline-block; border: 1px solid #888; font-family: monospace; font-size: 14px; color: black; background-color: rgb(255, 255, 255); margin: 0 0 2px -1px; padding: 0'>'ll</div>"
      ],
      "text/plain": [
       "<IPython.core.display.HTML object>"
      ]
     },
     "metadata": {},
     "output_type": "display_data"
    }
   ],
   "source": [
    "prompt1 = \"Today is a good day, I think I'll\"\n",
    "prompt2 = \"Today is a bad day, I think I'll\"\n",
    "input_ids1 = tokenizer.encode(prompt1)\n",
    "input_ids2 = tokenizer.encode(prompt2)\n",
    "from cot_probing.vis import visualize_tokens_html\n",
    "\n",
    "display(visualize_tokens_html(input_ids1, tokenizer))\n",
    "display(visualize_tokens_html(input_ids2, tokenizer))"
   ]
  },
  {
   "cell_type": "code",
   "execution_count": 5,
   "metadata": {},
   "outputs": [],
   "source": [
    "our_pos = slice(4, None)\n",
    "our_layers = [5]\n",
    "pos_by_layer = {l: [our_pos] for l in our_layers}"
   ]
  },
  {
   "cell_type": "code",
   "execution_count": 6,
   "metadata": {},
   "outputs": [
    {
     "name": "stderr",
     "output_type": "stream",
     "text": [
      "Starting from v4.46, the `logits` model output will have the same type as the model (except at train time, where it will always be FP32)\n"
     ]
    },
    {
     "name": "stdout",
     "output_type": "stream",
     "text": [
      "torch.Size([7, 4096])\n",
      "torch.Size([7, 4096])\n",
      "torch.Size([128256])\n",
      "torch.Size([128256])\n"
     ]
    }
   ],
   "source": [
    "logits1, resid_by_pos_by_layer1 = clean_run_with_cache(model, input_ids1, pos_by_layer)\n",
    "logits2, resid_by_pos_by_layer2 = clean_run_with_cache(model, input_ids2, pos_by_layer)\n",
    "print(resid_by_pos_by_layer1[our_layers[0]][our_pos].shape)\n",
    "print(resid_by_pos_by_layer2[our_layers[0]][our_pos].shape)\n",
    "print(logits1.shape)\n",
    "print(logits2.shape)"
   ]
  },
  {
   "cell_type": "code",
   "execution_count": 7,
   "metadata": {},
   "outputs": [
    {
     "name": "stdout",
     "output_type": "stream",
     "text": [
      "torch.Size([128256])\n",
      "torch.Size([128256])\n"
     ]
    }
   ],
   "source": [
    "logits_patched_1_to_2 = patched_run(model, input_ids2, resid_by_pos_by_layer1)\n",
    "logits_patched_2_to_1 = patched_run(model, input_ids1, resid_by_pos_by_layer2)\n",
    "print(logits_patched_1_to_2.shape)\n",
    "print(logits_patched_2_to_1.shape)"
   ]
  },
  {
   "cell_type": "code",
   "execution_count": 8,
   "metadata": {},
   "outputs": [],
   "source": [
    "# we're now returning only the last position, so it doesn't work anymore\n",
    "\n",
    "# for seq in range(logits_patched_1_to_2.shape[0]):\n",
    "#     allclose = torch.allclose(logits_patched_1_to_2[seq], logits2[seq])\n",
    "#     print(f\"seq {seq} allclose: {allclose}\")\n",
    "# for seq in range(logits_patched_2_to_1.shape[0]):\n",
    "#     allclose = torch.allclose(logits_patched_2_to_1[seq], logits1[seq])\n",
    "#     print(f\"seq {seq} allclose: {allclose}\")"
   ]
  },
  {
   "cell_type": "code",
   "execution_count": 9,
   "metadata": {},
   "outputs": [
    {
     "data": {
      "text/html": [
       "<div style='display: inline-block; border: 1px solid #888; font-family: monospace; font-size: 14px; color: black; background-color: rgb(255, 255, 255); margin: 0 0 2px -1px; padding: 0'>&nbsp;go</div><div style='display: inline-block; border: 1px solid #888; font-family: monospace; font-size: 14px; color: black; background-color: rgb(255, 255, 255); margin: 0 0 2px -1px; padding: 0'>&nbsp;celebrate</div><div style='display: inline-block; border: 1px solid #888; font-family: monospace; font-size: 14px; color: black; background-color: rgb(255, 255, 255); margin: 0 0 2px -1px; padding: 0'>&nbsp;take</div><div style='display: inline-block; border: 1px solid #888; font-family: monospace; font-size: 14px; color: black; background-color: rgb(255, 255, 255); margin: 0 0 2px -1px; padding: 0'>&nbsp;be</div><div style='display: inline-block; border: 1px solid #888; font-family: monospace; font-size: 14px; color: black; background-color: rgb(255, 255, 255); margin: 0 0 2px -1px; padding: 0'>&nbsp;make</div>"
      ],
      "text/plain": [
       "<IPython.core.display.HTML object>"
      ]
     },
     "metadata": {},
     "output_type": "display_data"
    },
    {
     "data": {
      "text/html": [
       "<div style='display: inline-block; border: 1px solid #888; font-family: monospace; font-size: 14px; color: black; background-color: rgb(255, 255, 255); margin: 0 0 2px -1px; padding: 0'>&nbsp;go</div><div style='display: inline-block; border: 1px solid #888; font-family: monospace; font-size: 14px; color: black; background-color: rgb(255, 255, 255); margin: 0 0 2px -1px; padding: 0'>&nbsp;just</div><div style='display: inline-block; border: 1px solid #888; font-family: monospace; font-size: 14px; color: black; background-color: rgb(255, 255, 255); margin: 0 0 2px -1px; padding: 0'>&nbsp;stay</div><div style='display: inline-block; border: 1px solid #888; font-family: monospace; font-size: 14px; color: black; background-color: rgb(255, 255, 255); margin: 0 0 2px -1px; padding: 0'>&nbsp;have</div><div style='display: inline-block; border: 1px solid #888; font-family: monospace; font-size: 14px; color: black; background-color: rgb(255, 255, 255); margin: 0 0 2px -1px; padding: 0'>&nbsp;take</div>"
      ],
      "text/plain": [
       "<IPython.core.display.HTML object>"
      ]
     },
     "metadata": {},
     "output_type": "display_data"
    }
   ],
   "source": [
    "topk_toks_1 = logits1.topk(5).indices.tolist()\n",
    "topk_toks_2 = logits2.topk(5).indices.tolist()\n",
    "display(visualize_tokens_html(topk_toks_1, tokenizer))\n",
    "display(visualize_tokens_html(topk_toks_2, tokenizer))"
   ]
  },
  {
   "cell_type": "code",
   "execution_count": 10,
   "metadata": {},
   "outputs": [
    {
     "data": {
      "text/html": [
       "<div style='display: inline-block; border: 1px solid #888; font-family: monospace; font-size: 14px; color: black; background-color: rgb(255, 255, 255); margin: 0 0 2px -1px; padding: 0'>&nbsp;go</div><div style='display: inline-block; border: 1px solid #888; font-family: monospace; font-size: 14px; color: black; background-color: rgb(255, 255, 255); margin: 0 0 2px -1px; padding: 0'>&nbsp;celebrate</div><div style='display: inline-block; border: 1px solid #888; font-family: monospace; font-size: 14px; color: black; background-color: rgb(255, 255, 255); margin: 0 0 2px -1px; padding: 0'>&nbsp;take</div><div style='display: inline-block; border: 1px solid #888; font-family: monospace; font-size: 14px; color: black; background-color: rgb(255, 255, 255); margin: 0 0 2px -1px; padding: 0'>&nbsp;be</div><div style='display: inline-block; border: 1px solid #888; font-family: monospace; font-size: 14px; color: black; background-color: rgb(255, 255, 255); margin: 0 0 2px -1px; padding: 0'>&nbsp;make</div>"
      ],
      "text/plain": [
       "<IPython.core.display.HTML object>"
      ]
     },
     "metadata": {},
     "output_type": "display_data"
    },
    {
     "data": {
      "text/html": [
       "<div style='display: inline-block; border: 1px solid #888; font-family: monospace; font-size: 14px; color: black; background-color: rgb(255, 255, 255); margin: 0 0 2px -1px; padding: 0'>&nbsp;go</div><div style='display: inline-block; border: 1px solid #888; font-family: monospace; font-size: 14px; color: black; background-color: rgb(255, 255, 255); margin: 0 0 2px -1px; padding: 0'>&nbsp;just</div><div style='display: inline-block; border: 1px solid #888; font-family: monospace; font-size: 14px; color: black; background-color: rgb(255, 255, 255); margin: 0 0 2px -1px; padding: 0'>&nbsp;stay</div><div style='display: inline-block; border: 1px solid #888; font-family: monospace; font-size: 14px; color: black; background-color: rgb(255, 255, 255); margin: 0 0 2px -1px; padding: 0'>&nbsp;have</div><div style='display: inline-block; border: 1px solid #888; font-family: monospace; font-size: 14px; color: black; background-color: rgb(255, 255, 255); margin: 0 0 2px -1px; padding: 0'>&nbsp;take</div>"
      ],
      "text/plain": [
       "<IPython.core.display.HTML object>"
      ]
     },
     "metadata": {},
     "output_type": "display_data"
    }
   ],
   "source": [
    "top_toks_patched_1_to_2 = logits_patched_1_to_2.topk(5).indices.tolist()\n",
    "top_toks_patched_2_to_1 = logits_patched_2_to_1.topk(5).indices.tolist()\n",
    "display(visualize_tokens_html(top_toks_patched_1_to_2, tokenizer))\n",
    "display(visualize_tokens_html(top_toks_patched_2_to_1, tokenizer))"
   ]
  }
 ],
 "metadata": {
  "kernelspec": {
   "display_name": ".venv",
   "language": "python",
   "name": "python3"
  },
  "language_info": {
   "codemirror_mode": {
    "name": "ipython",
    "version": 3
   },
   "file_extension": ".py",
   "mimetype": "text/x-python",
   "name": "python",
   "nbconvert_exporter": "python",
   "pygments_lexer": "ipython3",
   "version": "3.12.3"
  }
 },
 "nbformat": 4,
 "nbformat_minor": 2
}
